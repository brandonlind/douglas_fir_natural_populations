{
 "cells": [
  {
   "cell_type": "markdown",
   "metadata": {},
   "source": [
    "This notebook best viewed here: https://nbviewer.jupyter.org"
   ]
  },
  {
   "cell_type": "markdown",
   "metadata": {},
   "source": [
    " "
   ]
  },
  {
   "cell_type": "markdown",
   "metadata": {},
   "source": [
    " "
   ]
  },
  {
   "cell_type": "markdown",
   "metadata": {},
   "source": [
    " "
   ]
  },
  {
   "cell_type": "markdown",
   "metadata": {},
   "source": [
    "This notebook is for the coastal variety of Douglas fir GEA mapping pops\n",
    "\n",
    "#### Purpose\n",
    "• I've run the baypass commands across four servers, I need to gather the jobs and concatenate results.\n",
    "\n",
    "#### Notebook outline\n",
    "\n",
    "- __rsync files from servers__\n",
    "    - I execute the rsync commands to transfer files from the executing servers to our lab server\n",
    "- __check what needs to be done__\n",
    "    - given the number of gfiles and chains, make sure all of the commands have been executed/transferred\n",
    "- __gather all of the wanted resfiles and concat into single dataframes__\n",
    "    - gather the files with BF, label SNP IDs, and concat into single dataframe\n",
    "- __Rank loci__\n",
    "    - Rank each locus for each chain by descending BF(dB) score\n",
    "    - Caclulate mean BF(dB) across 5 chains, rank each locus based on mean\n",
    "    - Create boolean column with True if locus is ranked in top 1% for at least 3/5 chains\n",
    "    - Create boolean column with True if locus has BF(dB) >= 15 for at least 3/5 chains\n",
    "    - Create boolean column with True if locus has BF(dB) >= 20 for at least 3/5 chains\n",
    "- __look at BF scores for consistent top 1% ranks__\n",
    "    - explore the top 1% of ranks\n",
    "    - count number of SNPs >= BF(dB) thresholds {15, 20}, print if not all SNPs >= thresh are consistently in top 1% across chains"
   ]
  },
  {
   "cell_type": "markdown",
   "metadata": {},
   "source": [
    "  "
   ]
  },
  {
   "cell_type": "markdown",
   "metadata": {},
   "source": [
    " "
   ]
  },
  {
   "cell_type": "markdown",
   "metadata": {},
   "source": [
    " "
   ]
  },
  {
   "cell_type": "code",
   "execution_count": 1,
   "metadata": {},
   "outputs": [],
   "source": [
    "from pythonimports import *"
   ]
  },
  {
   "cell_type": "code",
   "execution_count": 2,
   "metadata": {},
   "outputs": [],
   "source": [
    "# dir names\n",
    "baydir = '/lu213/brandon.lind/projects/pool_seq/DF_datasets/DF_pooled_GEA/DF_pooled/snpsANDindels/coastal_variety_with-p6/03_maf-p05_RD-recalculated_FDC/baypass'\n",
    "cmddir = op.join(baydir, 'cmd_files')\n",
    "rundir = op.join(cmddir, 'run_01')\n",
    "gfile_dir = op.join(baydir, 'individual_gfiles')\n",
    "shdir = op.join(cmddir, 'shfiles')\n",
    "resdir = op.join(cmddir, 'results')\n",
    "rsyncdir = makedir(op.join(baydir, 'rsync_files'))"
   ]
  },
  {
   "cell_type": "code",
   "execution_count": 3,
   "metadata": {},
   "outputs": [
    {
     "name": "stdout",
     "output_type": "stream",
     "text": [
      "56 56\n"
     ]
    }
   ],
   "source": [
    "lview,dview = get_client()"
   ]
  },
  {
   "cell_type": "markdown",
   "metadata": {},
   "source": [
    "# rsync files from servers"
   ]
  },
  {
   "cell_type": "code",
   "execution_count": 4,
   "metadata": {},
   "outputs": [
    {
     "data": {
      "text/plain": [
       "['/lu213/brandon.lind/projects/pool_seq/DF_datasets/DF_pooled_GEA/DF_pooled/snpsANDindels/coastal_variety_with-p6/03_maf-p05_RD-recalculated_FDC/baypass/rsync_files/cedar_rsync_cmds.txt']"
      ]
     },
     "execution_count": 4,
     "metadata": {},
     "output_type": "execute_result"
    }
   ],
   "source": [
    "fs(rsyncdir)"
   ]
  },
  {
   "cell_type": "code",
   "execution_count": 29,
   "metadata": {},
   "outputs": [],
   "source": [
    "def submit_cmds(cmds):\n",
    "    \"\"\"Execute a list of system commands in parallel. Return cmd if there was an error.\"\"\"\n",
    "    global jobs\n",
    "    jobs = []\n",
    "    for cmd in nb(cmds):\n",
    "        src,dst = cmd.split()[2:]\n",
    "        jobs.append(lview.apply_async(rsync, *(src, dst)))\n",
    "    watch_async(jobs)\n",
    "    \n",
    "    badcmds = []\n",
    "    for i,j in enumerate(jobs):\n",
    "        try:\n",
    "            x=j.r\n",
    "        except:\n",
    "            badcmds.append(cmds[i])\n",
    "    print('len(badcmds) = ', len(badcmds))\n",
    "    \n",
    "    return badcmds"
   ]
  },
  {
   "cell_type": "code",
   "execution_count": 6,
   "metadata": {},
   "outputs": [],
   "source": [
    "def check_realfiles(cmds, new=False):\n",
    "    \"\"\"Make sure all transferred files exist.\n",
    "    new is used if transferring the results from SNPs that were once REPEATS\n",
    "    \"\"\"\n",
    "    realfiles = []\n",
    "#     if new is True:\n",
    "#         rundir = newrundir\n",
    "#         gfile_dir = newgfiledir\n",
    "#         shdir = newshdir\n",
    "#         resdir = newresdir\n",
    "    for d in [rundir, gfile_dir, shdir, resdir]:\n",
    "        realfiles.extend(fs(d, dirs=False))\n",
    "    \n",
    "    expfiles = []\n",
    "    for cmd in cmds:\n",
    "        expfiles.append(cmd.split()[-1])\n",
    "    \n",
    "    print('len(realfiles) = ', len(realfiles))\n",
    "    print('len(expfiles) =', len(expfiles))\n",
    "    \n",
    "    needed = list(set(expfiles) - set(realfiles))\n",
    "    \n",
    "    print('needed = ', len(needed))\n",
    "    \n",
    "    needed_cmds = []\n",
    "    for n in needed:\n",
    "        for cmd in cmds:\n",
    "            if n in cmd:\n",
    "                needed_cmds.append(cmd)\n",
    "    print('needed_cmds = ', len(needed_cmds))\n",
    "    return needed_cmds"
   ]
  },
  {
   "cell_type": "markdown",
   "metadata": {},
   "source": [
    "#### cedar cmds"
   ]
  },
  {
   "cell_type": "code",
   "execution_count": 7,
   "metadata": {},
   "outputs": [
    {
     "data": {
      "text/plain": [
       "37891"
      ]
     },
     "execution_count": 7,
     "metadata": {},
     "output_type": "execute_result"
    }
   ],
   "source": [
    "# first from cedar\n",
    "cmds = read(op.join(rsyncdir, 'cedar_rsync_cmds.txt'))\n",
    "len(cmds)"
   ]
  },
  {
   "cell_type": "code",
   "execution_count": 8,
   "metadata": {},
   "outputs": [
    {
     "data": {
      "text/plain": [
       "['rsync',\n",
       " '-avz',\n",
       " 'cedar:/scratch/lindb/coastal_baypass/cmd_files/shfiles/watcher.sh',\n",
       " '/lu213/brandon.lind/projects/pool_seq/DF_datasets/DF_pooled_GEA/DF_pooled/snpsANDindels/coastal_variety_with-p6/03_maf-p05_RD-recalculated_FDC/baypass/cmd_files/shfiles/watcher.sh']"
      ]
     },
     "execution_count": 8,
     "metadata": {},
     "output_type": "execute_result"
    }
   ],
   "source": [
    "cmds[-1].split()"
   ]
  },
  {
   "cell_type": "code",
   "execution_count": 9,
   "metadata": {},
   "outputs": [
    {
     "data": {
      "text/plain": [
       "'/lu213/brandon.lind/projects/pool_seq/DF_datasets/DF_pooled_GEA/DF_pooled/snpsANDindels/coastal_variety_with-p6/03_maf-p05_RD-recalculated_FDC/baypass/cmd_files/shfiles'"
      ]
     },
     "execution_count": 9,
     "metadata": {},
     "output_type": "execute_result"
    }
   ],
   "source": [
    "dirs = []\n",
    "for cmd in cmds:\n",
    "    newfile = cmd.split()[-1]\n",
    "    dname = op.dirname(newfile)\n",
    "    dirs.append(dname)\n",
    "for d in uni(dirs):\n",
    "    assert op.exists(d)\n",
    "d"
   ]
  },
  {
   "cell_type": "code",
   "execution_count": 10,
   "metadata": {},
   "outputs": [
    {
     "data": {
      "text/plain": [
       "['cedar:/scratch/lindb/coastal_baypass/cmd_files/results/coastal_all_snps_ADP-lt-1000_gfile_0000_chain_1_DIC.out',\n",
       " '/lu213/brandon.lind/projects/pool_seq/DF_datasets/DF_pooled_GEA/DF_pooled/snpsANDindels/coastal_variety_with-p6/03_maf-p05_RD-recalculated_FDC/baypass/cmd_files/results/coastal_all_snps_ADP-lt-1000_gfile_0000_chain_1_DIC.out']"
      ]
     },
     "execution_count": 10,
     "metadata": {},
     "output_type": "execute_result"
    }
   ],
   "source": [
    "cmds[0].split()[2:]"
   ]
  },
  {
   "cell_type": "code",
   "execution_count": 32,
   "metadata": {},
   "outputs": [
    {
     "name": "stderr",
     "output_type": "stream",
     "text": [
      "100%|██████████| 5/5 [00:00<00:00, 461.53it/s]\n"
     ]
    },
    {
     "name": "stdout",
     "output_type": "stream",
     "text": [
      "\u001b[1m\n",
      "Watching 5 jobs ...\u001b[0m\n"
     ]
    },
    {
     "name": "stderr",
     "output_type": "stream",
     "text": [
      "100%|██████████| 5/5 [00:05<00:00,  1.07s/it]"
     ]
    },
    {
     "name": "stdout",
     "output_type": "stream",
     "text": [
      "len(badcmds) =  0\n"
     ]
    },
    {
     "name": "stderr",
     "output_type": "stream",
     "text": [
      "\n"
     ]
    },
    {
     "data": {
      "text/plain": [
       "[]"
      ]
     },
     "execution_count": 32,
     "metadata": {},
     "output_type": "execute_result"
    }
   ],
   "source": [
    "submit_cmds(cmds[:5])"
   ]
  },
  {
   "cell_type": "code",
   "execution_count": null,
   "metadata": {},
   "outputs": [],
   "source": [
    "badcmds = submit_cmds(cmds)"
   ]
  },
  {
   "cell_type": "code",
   "execution_count": 34,
   "metadata": {},
   "outputs": [
    {
     "data": {
      "text/plain": [
       "15"
      ]
     },
     "execution_count": 34,
     "metadata": {},
     "output_type": "execute_result"
    }
   ],
   "source": [
    "len(badcmds)"
   ]
  },
  {
   "cell_type": "code",
   "execution_count": 37,
   "metadata": {
    "scrolled": true
   },
   "outputs": [
    {
     "name": "stdout",
     "output_type": "stream",
     "text": [
      "len(realfiles) =  40897\n",
      "len(expfiles) = 37891\n",
      "needed =  0\n",
      "needed_cmds =  0\n"
     ]
    },
    {
     "data": {
      "text/plain": [
       "0"
      ]
     },
     "execution_count": 37,
     "metadata": {},
     "output_type": "execute_result"
    }
   ],
   "source": [
    "needed = check_realfiles(cmds)\n",
    "len(needed)"
   ]
  },
  {
   "cell_type": "code",
   "execution_count": 38,
   "metadata": {},
   "outputs": [
    {
     "name": "stderr",
     "output_type": "stream",
     "text": [
      "0it [00:00, ?it/s]\n"
     ]
    },
    {
     "name": "stdout",
     "output_type": "stream",
     "text": [
      "\u001b[1m\n",
      "Watching 0 jobs ...\u001b[0m\n"
     ]
    },
    {
     "name": "stderr",
     "output_type": "stream",
     "text": [
      "0it [00:00, ?it/s]"
     ]
    },
    {
     "name": "stdout",
     "output_type": "stream",
     "text": [
      "len(badcmds) =  0\n"
     ]
    },
    {
     "name": "stderr",
     "output_type": "stream",
     "text": [
      "\n"
     ]
    }
   ],
   "source": [
    "badcmds = submit_cmds(needed)"
   ]
  },
  {
   "cell_type": "code",
   "execution_count": null,
   "metadata": {},
   "outputs": [],
   "source": []
  },
  {
   "cell_type": "markdown",
   "metadata": {},
   "source": [
    "# check what needs to be done\n",
    "given the number of gfiles and chains, make sure all of the commands have been executed/transferred"
   ]
  },
  {
   "cell_type": "markdown",
   "metadata": {},
   "source": [
    "#### first check to make sure every sh file was exececuted (ie, check that each has a slurm .out file)"
   ]
  },
  {
   "cell_type": "code",
   "execution_count": 39,
   "metadata": {},
   "outputs": [
    {
     "data": {
      "text/plain": [
       "(157, 157)"
      ]
     },
     "execution_count": 39,
     "metadata": {},
     "output_type": "execute_result"
    }
   ],
   "source": [
    "# the the shfiles and out files\n",
    "shfiles = fs(shdir, endswith='.sh', exclude='watcher')\n",
    "outs = fs(shdir, endswith='.out', exclude='watcher')\n",
    "len(shfiles), len(outs)"
   ]
  },
  {
   "cell_type": "code",
   "execution_count": 40,
   "metadata": {
    "scrolled": true
   },
   "outputs": [],
   "source": [
    "# which sh files were not run, print out any that weren't run\n",
    "pairs = {}\n",
    "for sh in shfiles:\n",
    "    pairs[sh] = []\n",
    "    for out in outs:\n",
    "        if op.basename(sh).split(\".\")[0] in out:\n",
    "            pairs[sh].append(out)\n",
    "needed = []\n",
    "for sh,outfiles in pairs.items():\n",
    "    if len(outfiles) < 1:\n",
    "        print(sh, len(outfiles))\n",
    "        needed.append(sh)"
   ]
  },
  {
   "cell_type": "markdown",
   "metadata": {},
   "source": [
    "#### go through catfiles and make sure all of the commands inside were run"
   ]
  },
  {
   "cell_type": "code",
   "execution_count": 41,
   "metadata": {},
   "outputs": [
    {
     "data": {
      "text/plain": [
       "'/lu213/brandon.lind/projects/pool_seq/DF_datasets/DF_pooled_GEA/DF_pooled/snpsANDindels/coastal_variety_with-p6/03_maf-p05_RD-recalculated_FDC/baypass/cmd_files/results'"
      ]
     },
     "execution_count": 41,
     "metadata": {},
     "output_type": "execute_result"
    }
   ],
   "source": [
    "resdir"
   ]
  },
  {
   "cell_type": "code",
   "execution_count": 42,
   "metadata": {},
   "outputs": [
    {
     "data": {
      "text/plain": [
       "7515"
      ]
     },
     "execution_count": 42,
     "metadata": {},
     "output_type": "execute_result"
    }
   ],
   "source": [
    "# get one of the files for each of the commands that executed successfully (count the succesful cmds)\n",
    "resfiles = fs(resdir, endswith='DIC.out')\n",
    "len(resfiles)"
   ]
  },
  {
   "cell_type": "code",
   "execution_count": 45,
   "metadata": {},
   "outputs": [
    {
     "data": {
      "text/plain": [
       "True"
      ]
     },
     "execution_count": 45,
     "metadata": {},
     "output_type": "execute_result"
    }
   ],
   "source": [
    "catdir = op.join(cmddir, 'run_01')\n",
    "op.exists(catdir)"
   ]
  },
  {
   "cell_type": "code",
   "execution_count": 47,
   "metadata": {},
   "outputs": [
    {
     "data": {
      "text/plain": [
       "157"
      ]
     },
     "execution_count": 47,
     "metadata": {},
     "output_type": "execute_result"
    }
   ],
   "source": [
    "# get the files with the baypass commands - this matches number of sh files (good)\n",
    "catfiles = fs(catdir, pattern='catfile')\n",
    "len(catfiles)"
   ]
  },
  {
   "cell_type": "code",
   "execution_count": 48,
   "metadata": {},
   "outputs": [
    {
     "name": "stderr",
     "output_type": "stream",
     "text": [
      "100%|██████████| 157/157 [00:39<00:00,  3.99it/s]\n"
     ]
    },
    {
     "data": {
      "text/plain": [
       "'coastal_all_snps_ADP-lt-1000_gfile_1502_chain_5'"
      ]
     },
     "execution_count": 48,
     "metadata": {},
     "output_type": "execute_result"
    }
   ],
   "source": [
    "# iterate through catfile commands and make sure there's a result for each\n",
    "found = {}  # map prefix to output file\n",
    "exe = {}  # map prefix to command used\n",
    "needed_catfiles = []\n",
    "catcount = Counter()\n",
    "cmdcats = {}  # map cmds to catfiles\n",
    "for cat in nb(catfiles):\n",
    "    # get the commands\n",
    "    cmds = read(cat)\n",
    "    \n",
    "    # assign prefixes (= num cmds) to their output\n",
    "    notfound = True\n",
    "    for cmd in cmds:\n",
    "        assert cmd not in cmdcats\n",
    "        cmdcats[cmd] = cat\n",
    "        prefix = cmd.split(\"-outprefix\")[1].split()[0]\n",
    "        assert prefix not in found and 'chain' in prefix\n",
    "        exe[prefix] = cmd\n",
    "        found[prefix] = []\n",
    "        for res in resfiles:\n",
    "            if prefix in op.basename(res):\n",
    "                found[prefix].append(res)\n",
    "        if len(found[prefix]) > 0:\n",
    "            notfound = False\n",
    "            catcount[cat] += 1\n",
    "    if notfound is True:\n",
    "        needed_catfiles.append(cat)\n",
    "            \n",
    "prefix"
   ]
  },
  {
   "cell_type": "code",
   "execution_count": 49,
   "metadata": {},
   "outputs": [
    {
     "data": {
      "text/plain": [
       "0"
      ]
     },
     "execution_count": 49,
     "metadata": {},
     "output_type": "execute_result"
    }
   ],
   "source": [
    "len(needed_catfiles)"
   ]
  },
  {
   "cell_type": "code",
   "execution_count": 50,
   "metadata": {},
   "outputs": [
    {
     "data": {
      "text/plain": [
       "Counter({48: 156, 27: 1})"
      ]
     },
     "execution_count": 50,
     "metadata": {},
     "output_type": "execute_result"
    }
   ],
   "source": [
    "Counter(catcount.values())"
   ]
  },
  {
   "cell_type": "code",
   "execution_count": 51,
   "metadata": {},
   "outputs": [
    {
     "data": {
      "text/plain": [
       "[]"
      ]
     },
     "execution_count": 51,
     "metadata": {},
     "output_type": "execute_result"
    }
   ],
   "source": [
    "needed_catfiles"
   ]
  },
  {
   "cell_type": "code",
   "execution_count": 52,
   "metadata": {},
   "outputs": [
    {
     "data": {
      "text/plain": [
       "0"
      ]
     },
     "execution_count": 52,
     "metadata": {},
     "output_type": "execute_result"
    }
   ],
   "source": [
    "# figure out which prefixes have zero output (and need to be reran) or cmds with >1 output (impossible...)\n",
    "needed_cmds = []\n",
    "for prefix,reslist in found.items():\n",
    "    if len(reslist) == 0:\n",
    "        needed_cmds.append(exe[prefix])  # get the cmd that needs to be executed\n",
    "    elif len(reslist) > 1:\n",
    "        print('\\n', prefix, len(reslist))  # this shouldn't be possible, check anyway, print if so\n",
    "len(needed_cmds)"
   ]
  },
  {
   "cell_type": "markdown",
   "metadata": {},
   "source": [
    " "
   ]
  },
  {
   "cell_type": "code",
   "execution_count": 53,
   "metadata": {},
   "outputs": [
    {
     "name": "stdout",
     "output_type": "stream",
     "text": [
      "##################################################################\n",
      "Current commit of pythonimports:\n",
      "commit 1d94048244f2d15d6762e0ff2f8b0cb43dcfa848\n",
      "Author: Brandon <lindb@vcu.edu>\n",
      "Date:   Tue Dec 22 12:16:15 2020 -0700\n",
      "Today:\tDecember 23, 2020 - 18:38:55\n",
      "##################################################################\n",
      "\n"
     ]
    }
   ],
   "source": [
    "latest_commit()"
   ]
  },
  {
   "cell_type": "code",
   "execution_count": null,
   "metadata": {},
   "outputs": [],
   "source": []
  },
  {
   "cell_type": "code",
   "execution_count": null,
   "metadata": {},
   "outputs": [],
   "source": []
  },
  {
   "cell_type": "code",
   "execution_count": null,
   "metadata": {},
   "outputs": [],
   "source": []
  },
  {
   "cell_type": "code",
   "execution_count": null,
   "metadata": {},
   "outputs": [],
   "source": []
  },
  {
   "cell_type": "code",
   "execution_count": null,
   "metadata": {},
   "outputs": [],
   "source": []
  },
  {
   "cell_type": "markdown",
   "metadata": {},
   "source": [
    " "
   ]
  },
  {
   "cell_type": "markdown",
   "metadata": {},
   "source": [
    "# gather all of the wanted resfiles and concat into single dataframes\n",
    "\n",
    "gather the files with BF, label SNP IDs, label environmental covariables, and concat into single dataframe"
   ]
  },
  {
   "cell_type": "code",
   "execution_count": null,
   "metadata": {},
   "outputs": [],
   "source": [
    "# restart notebook"
   ]
  },
  {
   "cell_type": "code",
   "execution_count": 4,
   "metadata": {},
   "outputs": [
    {
     "name": "stdout",
     "output_type": "stream",
     "text": [
      "##################################################################\n",
      "Current commit of pythonimports:\n",
      "commit 1d94048244f2d15d6762e0ff2f8b0cb43dcfa848\n",
      "Author: Brandon <lindb@vcu.edu>\n",
      "Date:   Tue Dec 22 12:16:15 2020 -0700\n",
      "Today:\tDecember 31, 2020 - 12:40:06\n",
      "##################################################################\n",
      "\n"
     ]
    }
   ],
   "source": [
    "latest_commit()"
   ]
  },
  {
   "cell_type": "code",
   "execution_count": 5,
   "metadata": {
    "scrolled": true
   },
   "outputs": [
    {
     "data": {
      "text/plain": [
       "(7515, 7515)"
      ]
     },
     "execution_count": 5,
     "metadata": {},
     "output_type": "execute_result"
    }
   ],
   "source": [
    "bffiles = fs(resdir, endswith='betai_reg.out')\n",
    "xtxfiles = fs(resdir, endswith='pi_xtx.out')\n",
    "len(bffiles), len(xtxfiles)"
   ]
  },
  {
   "cell_type": "code",
   "execution_count": 6,
   "metadata": {},
   "outputs": [
    {
     "data": {
      "text/html": [
       "<div>\n",
       "<style scoped>\n",
       "    .dataframe tbody tr th:only-of-type {\n",
       "        vertical-align: middle;\n",
       "    }\n",
       "\n",
       "    .dataframe tbody tr th {\n",
       "        vertical-align: top;\n",
       "    }\n",
       "\n",
       "    .dataframe thead th {\n",
       "        text-align: right;\n",
       "    }\n",
       "</style>\n",
       "<table border=\"1\" class=\"dataframe\">\n",
       "  <thead>\n",
       "    <tr style=\"text-align: right;\">\n",
       "      <th></th>\n",
       "      <th>COVARIABLE</th>\n",
       "      <th>MRK</th>\n",
       "      <th>M_Pearson</th>\n",
       "      <th>SD_Pearson</th>\n",
       "      <th>BF(dB)</th>\n",
       "      <th>Beta_is</th>\n",
       "      <th>SD_Beta_is</th>\n",
       "      <th>eBPis</th>\n",
       "    </tr>\n",
       "  </thead>\n",
       "  <tbody>\n",
       "    <tr>\n",
       "      <th>0</th>\n",
       "      <td>1</td>\n",
       "      <td>1</td>\n",
       "      <td>0.051010</td>\n",
       "      <td>0.143831</td>\n",
       "      <td>-8.631235</td>\n",
       "      <td>0.004227</td>\n",
       "      <td>0.011712</td>\n",
       "      <td>0.143763</td>\n",
       "    </tr>\n",
       "    <tr>\n",
       "      <th>1</th>\n",
       "      <td>1</td>\n",
       "      <td>2</td>\n",
       "      <td>0.068187</td>\n",
       "      <td>0.140099</td>\n",
       "      <td>-9.029162</td>\n",
       "      <td>0.005564</td>\n",
       "      <td>0.011653</td>\n",
       "      <td>0.198579</td>\n",
       "    </tr>\n",
       "    <tr>\n",
       "      <th>2</th>\n",
       "      <td>1</td>\n",
       "      <td>3</td>\n",
       "      <td>-0.004120</td>\n",
       "      <td>0.154803</td>\n",
       "      <td>-11.697166</td>\n",
       "      <td>-0.000522</td>\n",
       "      <td>0.007232</td>\n",
       "      <td>0.025738</td>\n",
       "    </tr>\n",
       "    <tr>\n",
       "      <th>3</th>\n",
       "      <td>1</td>\n",
       "      <td>4</td>\n",
       "      <td>-0.083301</td>\n",
       "      <td>0.128562</td>\n",
       "      <td>-11.353031</td>\n",
       "      <td>-0.004240</td>\n",
       "      <td>0.006860</td>\n",
       "      <td>0.270385</td>\n",
       "    </tr>\n",
       "    <tr>\n",
       "      <th>4</th>\n",
       "      <td>1</td>\n",
       "      <td>5</td>\n",
       "      <td>0.048291</td>\n",
       "      <td>0.140174</td>\n",
       "      <td>-10.912934</td>\n",
       "      <td>0.002534</td>\n",
       "      <td>0.008152</td>\n",
       "      <td>0.121542</td>\n",
       "    </tr>\n",
       "  </tbody>\n",
       "</table>\n",
       "</div>"
      ],
      "text/plain": [
       "   COVARIABLE  MRK  M_Pearson  SD_Pearson     BF(dB)   Beta_is  SD_Beta_is  \\\n",
       "0           1    1   0.051010    0.143831  -8.631235  0.004227    0.011712   \n",
       "1           1    2   0.068187    0.140099  -9.029162  0.005564    0.011653   \n",
       "2           1    3  -0.004120    0.154803 -11.697166 -0.000522    0.007232   \n",
       "3           1    4  -0.083301    0.128562 -11.353031 -0.004240    0.006860   \n",
       "4           1    5   0.048291    0.140174 -10.912934  0.002534    0.008152   \n",
       "\n",
       "      eBPis  \n",
       "0  0.143763  \n",
       "1  0.198579  \n",
       "2  0.025738  \n",
       "3  0.270385  \n",
       "4  0.121542  "
      ]
     },
     "execution_count": 6,
     "metadata": {},
     "output_type": "execute_result"
    }
   ],
   "source": [
    "bf = pd.read_table(bffiles[0], delim_whitespace=True)\n",
    "bf.head()"
   ]
  },
  {
   "cell_type": "code",
   "execution_count": 7,
   "metadata": {},
   "outputs": [
    {
     "data": {
      "text/html": [
       "<div>\n",
       "<style scoped>\n",
       "    .dataframe tbody tr th:only-of-type {\n",
       "        vertical-align: middle;\n",
       "    }\n",
       "\n",
       "    .dataframe tbody tr th {\n",
       "        vertical-align: top;\n",
       "    }\n",
       "\n",
       "    .dataframe thead th {\n",
       "        text-align: right;\n",
       "    }\n",
       "</style>\n",
       "<table border=\"1\" class=\"dataframe\">\n",
       "  <thead>\n",
       "    <tr style=\"text-align: right;\">\n",
       "      <th></th>\n",
       "      <th>MRK</th>\n",
       "      <th>M_P</th>\n",
       "      <th>SD_P</th>\n",
       "      <th>M_XtX</th>\n",
       "      <th>SD_XtX</th>\n",
       "      <th>XtXst</th>\n",
       "      <th>log10(1/pval)</th>\n",
       "    </tr>\n",
       "  </thead>\n",
       "  <tbody>\n",
       "    <tr>\n",
       "      <th>0</th>\n",
       "      <td>1</td>\n",
       "      <td>0.902778</td>\n",
       "      <td>0.058954</td>\n",
       "      <td>38.660734</td>\n",
       "      <td>8.607617</td>\n",
       "      <td>26.037784</td>\n",
       "      <td>0.031791</td>\n",
       "    </tr>\n",
       "    <tr>\n",
       "      <th>1</th>\n",
       "      <td>2</td>\n",
       "      <td>0.895660</td>\n",
       "      <td>0.065577</td>\n",
       "      <td>39.078162</td>\n",
       "      <td>8.584471</td>\n",
       "      <td>33.358255</td>\n",
       "      <td>0.165050</td>\n",
       "    </tr>\n",
       "    <tr>\n",
       "      <th>2</th>\n",
       "      <td>3</td>\n",
       "      <td>0.968126</td>\n",
       "      <td>0.020901</td>\n",
       "      <td>36.570096</td>\n",
       "      <td>8.503298</td>\n",
       "      <td>15.817544</td>\n",
       "      <td>0.000247</td>\n",
       "    </tr>\n",
       "    <tr>\n",
       "      <th>3</th>\n",
       "      <td>4</td>\n",
       "      <td>0.962959</td>\n",
       "      <td>0.043897</td>\n",
       "      <td>37.065706</td>\n",
       "      <td>8.618123</td>\n",
       "      <td>43.829959</td>\n",
       "      <td>0.623535</td>\n",
       "    </tr>\n",
       "    <tr>\n",
       "      <th>4</th>\n",
       "      <td>5</td>\n",
       "      <td>0.949803</td>\n",
       "      <td>0.028133</td>\n",
       "      <td>36.876638</td>\n",
       "      <td>8.516656</td>\n",
       "      <td>30.847451</td>\n",
       "      <td>0.103296</td>\n",
       "    </tr>\n",
       "  </tbody>\n",
       "</table>\n",
       "</div>"
      ],
      "text/plain": [
       "   MRK       M_P      SD_P      M_XtX    SD_XtX      XtXst  log10(1/pval)\n",
       "0    1  0.902778  0.058954  38.660734  8.607617  26.037784       0.031791\n",
       "1    2  0.895660  0.065577  39.078162  8.584471  33.358255       0.165050\n",
       "2    3  0.968126  0.020901  36.570096  8.503298  15.817544       0.000247\n",
       "3    4  0.962959  0.043897  37.065706  8.618123  43.829959       0.623535\n",
       "4    5  0.949803  0.028133  36.876638  8.516656  30.847451       0.103296"
      ]
     },
     "execution_count": 7,
     "metadata": {},
     "output_type": "execute_result"
    }
   ],
   "source": [
    "xtx = pd.read_table(xtxfiles[0], delim_whitespace=True)\n",
    "xtx.head()"
   ]
  },
  {
   "cell_type": "code",
   "execution_count": 8,
   "metadata": {},
   "outputs": [],
   "source": [
    "def label_snps(resfile):\n",
    "    \"\"\"Label baypass resfiles with SNP ID using pkl files saved in 002_kickoff.\"\"\"\n",
    "    import os\n",
    "    import pandas\n",
    "    import tqdm\n",
    "    # find the gfile associated with resfile\n",
    "    prefix = os.path.basename(resfile).split(\"_chain\")[0]\n",
    "    chain = \"chain_%s\" % os.path.basename(resfile).split(prefix)[1].split(\"_\")[2]\n",
    "    \n",
    "    # get the pkl file that has the ordered list of SNP IDs for the gfile\n",
    "    if 'new' in resfile:\n",
    "        newgfile_dir = os.path.dirname(resfile).replace(\"new_results\", \"new_individual_gfiles\")\n",
    "        pklfile = os.path.join(newgfile_dir, f'{prefix}_noheaderidx.pkl')\n",
    "    else:\n",
    "        pklfile = os.path.join(gfile_dir, f'{prefix}_noheaderidx.pkl')\n",
    "    gloci = pklload(pklfile)  # read in rows with SNPIDs, but only one column\n",
    "    \n",
    "    # read in the resfile\n",
    "    print('reading table ...')\n",
    "    df = pandas.read_table(resfile, delim_whitespace=True)\n",
    "    \n",
    "    # map MRK column (SNP index) to locus name\n",
    "    print('getting gdict ...')\n",
    "    gdict = dict((num+1, locus) for num,locus in enumerate(gloci))\n",
    "    \n",
    "    # map covariable column to environment ID\n",
    "    print('getting edict ...')\n",
    "    edict = dict((num+1, env) for num,env in enumerate(efile.index))\n",
    "    \n",
    "    # split each covariable (env) in to its own file, label index with SNP ID\n",
    "    df['env'] = df['COVARIABLE'].map(edict)\n",
    "    envdfs = {chain:{}}\n",
    "    for env in tqdm.tqdm(uni(df['env']), desc='annotating snps'):\n",
    "        envdfs[chain][env] = df[df['env']==env].copy()\n",
    "        envdfs[chain][env].index = envdfs[chain][env]['MRK'].map(gdict)\n",
    "        envdfs[chain][env].index.names = ['']\n",
    "\n",
    "    return envdfs\n",
    "\n",
    "efile = pd.read_table(op.join(baydir, 'coastal_efile_std_HEADERIDX.txt'), index_col=0, usecols=[0,1])\n",
    "dview['efile'] = efile\n",
    "dview['uni'] = uni\n",
    "dview['gfile_dir'] = gfile_dir\n",
    "dview['pklload'] = pklload"
   ]
  },
  {
   "cell_type": "code",
   "execution_count": 41,
   "metadata": {},
   "outputs": [
    {
     "name": "stdout",
     "output_type": "stream",
     "text": [
      "\u001b[1m\n",
      "Watching 7515 jobs ...\u001b[0m\n"
     ]
    },
    {
     "name": "stderr",
     "output_type": "stream",
     "text": [
      " 50%|█████     | 3759/7515 [00:14<00:14, 260.86it/s]  \n"
     ]
    },
    {
     "name": "stdout",
     "output_type": "stream",
     "text": [
      "\u001b[93mKeboardInterrupted\u001b[0m\n"
     ]
    }
   ],
   "source": [
    "# # label SNP IDs in parallel\n",
    "# jobs = []\n",
    "# for bffile in nb(bffiles):\n",
    "#     jobs.append(lview.apply_async(label_snps, bffile))\n",
    "watch_async(jobs)"
   ]
  },
  {
   "cell_type": "code",
   "execution_count": 47,
   "metadata": {},
   "outputs": [
    {
     "name": "stdout",
     "output_type": "stream",
     "text": [
      "7515\n",
      "\u001b[1m\n",
      "Watching 7515 jobs ...\u001b[0m\n"
     ]
    },
    {
     "name": "stderr",
     "output_type": "stream",
     "text": [
      "100%|██████████| 7515/7515 [00:00<00:00, 61854.39it/s]\n"
     ]
    }
   ],
   "source": [
    "count=0\n",
    "for j in jobs:\n",
    "    if j.ready():\n",
    "        count +=1 \n",
    "print(count)\n",
    "\n",
    "watch_async(jobs)"
   ]
  },
  {
   "cell_type": "code",
   "execution_count": null,
   "metadata": {},
   "outputs": [],
   "source": []
  },
  {
   "cell_type": "code",
   "execution_count": 48,
   "metadata": {},
   "outputs": [
    {
     "name": "stderr",
     "output_type": "stream",
     "text": [
      "100%|██████████| 7515/7515 [00:00<00:00, 20365.38it/s]\n"
     ]
    },
    {
     "data": {
      "text/plain": [
       "['chain_1', 'chain_2', 'chain_3', 'chain_4', 'chain_5']"
      ]
     },
     "execution_count": 48,
     "metadata": {},
     "output_type": "execute_result"
    }
   ],
   "source": [
    "# gather output by environment\n",
    "envlist = {}\n",
    "for j in nb(jobs):\n",
    "    if j.ready():\n",
    "        chain = keys(j.r)[0]\n",
    "        if chain not in envlist:\n",
    "            envlist[chain] = {}\n",
    "        for env in j.r[chain]:\n",
    "            if env not in envlist[chain]:\n",
    "                envlist[chain][env] = []\n",
    "            envlist[chain][env].append(j.r[chain][env])\n",
    "keys(envlist)"
   ]
  },
  {
   "cell_type": "code",
   "execution_count": 49,
   "metadata": {
    "scrolled": true
   },
   "outputs": [
    {
     "name": "stderr",
     "output_type": "stream",
     "text": [
      "chain_1: 100%|██████████| 19/19 [00:09<00:00,  1.95it/s]\n",
      "chain_2: 100%|██████████| 19/19 [00:09<00:00,  1.96it/s]\n",
      "chain_3: 100%|██████████| 19/19 [00:12<00:00,  1.53it/s]\n",
      "chain_4: 100%|██████████| 19/19 [00:09<00:00,  1.93it/s]\n",
      "chain_5: 100%|██████████| 19/19 [00:10<00:00,  1.89it/s]"
     ]
    },
    {
     "name": "stdout",
     "output_type": "stream",
     "text": [
      "\u001b[1mchain_1\u001b[0m\n",
      "\t MAP 2254011\n",
      "\t MCMT 2254011\n",
      "\t FFP 2254011\n",
      "\t EXT 2254011\n",
      "\t AHM 2254011\n",
      "\t DD5 2254011\n",
      "\t EMT 2254011\n",
      "\t bFFP 2254011\n",
      "\t DD_0 2254011\n",
      "\t MWMT 2254011\n",
      "\t CMD 2254011\n",
      "\t eFFP 2254011\n",
      "\t TD 2254011\n",
      "\t MAT 2254011\n",
      "\t PAS 2254011\n",
      "\t Eref 2254011\n",
      "\t NFFD 2254011\n",
      "\t SHM 2254011\n",
      "\t MSP 2254011\n",
      "\u001b[1mchain_2\u001b[0m\n",
      "\t PAS 2254011\n",
      "\t EXT 2254011\n",
      "\t EMT 2254011\n",
      "\t MAT 2254011\n",
      "\t eFFP 2254011\n",
      "\t MSP 2254011\n",
      "\t Eref 2254011\n",
      "\t MWMT 2254011\n",
      "\t AHM 2254011\n",
      "\t DD5 2254011\n",
      "\t CMD 2254011\n",
      "\t MAP 2254011\n",
      "\t FFP 2254011\n",
      "\t TD 2254011\n",
      "\t SHM 2254011\n",
      "\t DD_0 2254011\n",
      "\t bFFP 2254011\n",
      "\t MCMT 2254011\n",
      "\t NFFD 2254011\n",
      "\u001b[1mchain_3\u001b[0m\n",
      "\t PAS 2254011\n",
      "\t FFP 2254011\n",
      "\t Eref 2254011\n",
      "\t eFFP 2254011\n",
      "\t MSP 2254011\n",
      "\t AHM 2254011\n",
      "\t EMT 2254011\n",
      "\t MCMT 2254011\n",
      "\t CMD 2254011\n",
      "\t TD 2254011\n",
      "\t DD_0 2254011\n",
      "\t MAP 2254011\n",
      "\t DD5 2254011\n",
      "\t bFFP 2254011\n",
      "\t SHM 2254011\n",
      "\t NFFD 2254011\n",
      "\t EXT 2254011\n",
      "\t MAT 2254011\n",
      "\t MWMT 2254011\n",
      "\u001b[1mchain_4\u001b[0m\n",
      "\t FFP 2254011\n",
      "\t MAP 2254011\n",
      "\t PAS 2254011\n",
      "\t MAT 2254011\n",
      "\t eFFP 2254011\n",
      "\t MSP 2254011\n",
      "\t NFFD 2254011\n",
      "\t EXT 2254011\n",
      "\t AHM 2254011\n",
      "\t EMT 2254011\n",
      "\t MCMT 2254011\n",
      "\t MWMT 2254011\n",
      "\t TD 2254011\n",
      "\t Eref 2254011\n",
      "\t CMD 2254011\n",
      "\t SHM 2254011\n",
      "\t bFFP 2254011\n",
      "\t DD_0 2254011\n",
      "\t DD5 2254011\n",
      "\u001b[1mchain_5\u001b[0m\n",
      "\t EMT 2254011\n",
      "\t eFFP 2254011\n",
      "\t SHM 2254011\n",
      "\t MAP 2254011\n",
      "\t PAS 2254011\n",
      "\t FFP 2254011\n",
      "\t DD5 2254011\n",
      "\t MCMT 2254011\n",
      "\t CMD 2254011\n",
      "\t MAT 2254011\n",
      "\t AHM 2254011\n",
      "\t NFFD 2254011\n",
      "\t Eref 2254011\n",
      "\t MSP 2254011\n",
      "\t TD 2254011\n",
      "\t DD_0 2254011\n",
      "\t EXT 2254011\n",
      "\t bFFP 2254011\n",
      "\t MWMT 2254011\n"
     ]
    },
    {
     "name": "stderr",
     "output_type": "stream",
     "text": [
      "\n"
     ]
    }
   ],
   "source": [
    "# concatenate environmental output by each chain, print out num snps for each env for each chain\n",
    "chaindfs = {}\n",
    "for chain,envs in envlist.items():\n",
    "    assert len(envs) == 19\n",
    "    if chain not in chaindfs:\n",
    "        chaindfs[chain] = {}\n",
    "    for env,dfs in nb(envs.items(), desc=chain):\n",
    "        if env not in chaindfs[chain]:\n",
    "            chaindfs[chain][env] = pd.concat(dfs)\n",
    "        else:\n",
    "            print('crap ', chain, env)\n",
    "for chain in chaindfs:\n",
    "    print(ColorText(chain).bold())\n",
    "    for env in chaindfs[chain]:\n",
    "        print('\\t',env, nrow(chaindfs[chain][env]))"
   ]
  },
  {
   "cell_type": "code",
   "execution_count": 50,
   "metadata": {
    "scrolled": true
   },
   "outputs": [
    {
     "name": "stderr",
     "output_type": "stream",
     "text": [
      "chain_1: 100%|██████████| 19/19 [00:12<00:00,  1.48it/s]\n",
      "chain_2: 100%|██████████| 19/19 [00:10<00:00,  1.85it/s]\n",
      "chain_3: 100%|██████████| 19/19 [00:10<00:00,  1.89it/s]\n",
      "chain_4: 100%|██████████| 19/19 [00:12<00:00,  1.52it/s]\n",
      "chain_5: 100%|██████████| 19/19 [00:09<00:00,  1.93it/s]\n",
      "combo: 100%|██████████| 19/19 [02:37<00:00,  8.29s/it]\n"
     ]
    },
    {
     "data": {
      "text/html": [
       "<div>\n",
       "<style scoped>\n",
       "    .dataframe tbody tr th:only-of-type {\n",
       "        vertical-align: middle;\n",
       "    }\n",
       "\n",
       "    .dataframe tbody tr th {\n",
       "        vertical-align: top;\n",
       "    }\n",
       "\n",
       "    .dataframe thead th {\n",
       "        text-align: right;\n",
       "    }\n",
       "</style>\n",
       "<table border=\"1\" class=\"dataframe\">\n",
       "  <thead>\n",
       "    <tr style=\"text-align: right;\">\n",
       "      <th></th>\n",
       "      <th>chain_1-COVARIABLE</th>\n",
       "      <th>chain_1-MRK</th>\n",
       "      <th>chain_1-M_Pearson</th>\n",
       "      <th>chain_1-SD_Pearson</th>\n",
       "      <th>chain_1-BF(dB)</th>\n",
       "      <th>chain_1-Beta_is</th>\n",
       "      <th>chain_1-SD_Beta_is</th>\n",
       "      <th>chain_1-eBPis</th>\n",
       "      <th>chain_1-env</th>\n",
       "      <th>chain_2-COVARIABLE</th>\n",
       "      <th>chain_2-MRK</th>\n",
       "      <th>chain_2-M_Pearson</th>\n",
       "      <th>chain_2-SD_Pearson</th>\n",
       "      <th>chain_2-BF(dB)</th>\n",
       "      <th>chain_2-Beta_is</th>\n",
       "      <th>chain_2-SD_Beta_is</th>\n",
       "      <th>chain_2-eBPis</th>\n",
       "      <th>chain_2-env</th>\n",
       "      <th>chain_3-COVARIABLE</th>\n",
       "      <th>chain_3-MRK</th>\n",
       "      <th>chain_3-M_Pearson</th>\n",
       "      <th>chain_3-SD_Pearson</th>\n",
       "      <th>chain_3-BF(dB)</th>\n",
       "      <th>chain_3-Beta_is</th>\n",
       "      <th>chain_3-SD_Beta_is</th>\n",
       "      <th>chain_3-eBPis</th>\n",
       "      <th>chain_3-env</th>\n",
       "      <th>chain_4-COVARIABLE</th>\n",
       "      <th>chain_4-MRK</th>\n",
       "      <th>chain_4-M_Pearson</th>\n",
       "      <th>chain_4-SD_Pearson</th>\n",
       "      <th>chain_4-BF(dB)</th>\n",
       "      <th>chain_4-Beta_is</th>\n",
       "      <th>chain_4-SD_Beta_is</th>\n",
       "      <th>chain_4-eBPis</th>\n",
       "      <th>chain_4-env</th>\n",
       "      <th>chain_5-COVARIABLE</th>\n",
       "      <th>chain_5-MRK</th>\n",
       "      <th>chain_5-M_Pearson</th>\n",
       "      <th>chain_5-SD_Pearson</th>\n",
       "      <th>chain_5-BF(dB)</th>\n",
       "      <th>chain_5-Beta_is</th>\n",
       "      <th>chain_5-SD_Beta_is</th>\n",
       "      <th>chain_5-eBPis</th>\n",
       "      <th>chain_5-env</th>\n",
       "    </tr>\n",
       "    <tr>\n",
       "      <th></th>\n",
       "      <th></th>\n",
       "      <th></th>\n",
       "      <th></th>\n",
       "      <th></th>\n",
       "      <th></th>\n",
       "      <th></th>\n",
       "      <th></th>\n",
       "      <th></th>\n",
       "      <th></th>\n",
       "      <th></th>\n",
       "      <th></th>\n",
       "      <th></th>\n",
       "      <th></th>\n",
       "      <th></th>\n",
       "      <th></th>\n",
       "      <th></th>\n",
       "      <th></th>\n",
       "      <th></th>\n",
       "      <th></th>\n",
       "      <th></th>\n",
       "      <th></th>\n",
       "      <th></th>\n",
       "      <th></th>\n",
       "      <th></th>\n",
       "      <th></th>\n",
       "      <th></th>\n",
       "      <th></th>\n",
       "      <th></th>\n",
       "      <th></th>\n",
       "      <th></th>\n",
       "      <th></th>\n",
       "      <th></th>\n",
       "      <th></th>\n",
       "      <th></th>\n",
       "      <th></th>\n",
       "      <th></th>\n",
       "      <th></th>\n",
       "      <th></th>\n",
       "      <th></th>\n",
       "      <th></th>\n",
       "      <th></th>\n",
       "      <th></th>\n",
       "      <th></th>\n",
       "      <th></th>\n",
       "      <th></th>\n",
       "    </tr>\n",
       "  </thead>\n",
       "  <tbody>\n",
       "    <tr>\n",
       "      <th>jcf7190000000000-77738</th>\n",
       "      <td>6</td>\n",
       "      <td>1</td>\n",
       "      <td>-0.105142</td>\n",
       "      <td>0.143850</td>\n",
       "      <td>-2.704644</td>\n",
       "      <td>-0.009589</td>\n",
       "      <td>0.012788</td>\n",
       "      <td>0.343560</td>\n",
       "      <td>MSP</td>\n",
       "      <td>6</td>\n",
       "      <td>1</td>\n",
       "      <td>-0.103247</td>\n",
       "      <td>0.147413</td>\n",
       "      <td>-5.677152</td>\n",
       "      <td>-0.010303</td>\n",
       "      <td>0.013329</td>\n",
       "      <td>0.356987</td>\n",
       "      <td>MSP</td>\n",
       "      <td>6</td>\n",
       "      <td>1</td>\n",
       "      <td>-0.108743</td>\n",
       "      <td>0.145482</td>\n",
       "      <td>-4.815455</td>\n",
       "      <td>-0.010426</td>\n",
       "      <td>0.013531</td>\n",
       "      <td>0.355580</td>\n",
       "      <td>MSP</td>\n",
       "      <td>6</td>\n",
       "      <td>1</td>\n",
       "      <td>-0.104288</td>\n",
       "      <td>0.140495</td>\n",
       "      <td>-6.141851</td>\n",
       "      <td>-0.009577</td>\n",
       "      <td>0.012232</td>\n",
       "      <td>0.362858</td>\n",
       "      <td>MSP</td>\n",
       "      <td>6</td>\n",
       "      <td>1</td>\n",
       "      <td>-0.094067</td>\n",
       "      <td>0.137391</td>\n",
       "      <td>-7.398643</td>\n",
       "      <td>-0.009261</td>\n",
       "      <td>0.012065</td>\n",
       "      <td>0.353853</td>\n",
       "      <td>MSP</td>\n",
       "    </tr>\n",
       "    <tr>\n",
       "      <th>jcf7190000000000-77764</th>\n",
       "      <td>6</td>\n",
       "      <td>2</td>\n",
       "      <td>-0.099859</td>\n",
       "      <td>0.129947</td>\n",
       "      <td>-6.359129</td>\n",
       "      <td>-0.010124</td>\n",
       "      <td>0.011451</td>\n",
       "      <td>0.424095</td>\n",
       "      <td>MSP</td>\n",
       "      <td>6</td>\n",
       "      <td>2</td>\n",
       "      <td>-0.121466</td>\n",
       "      <td>0.134996</td>\n",
       "      <td>-6.300504</td>\n",
       "      <td>-0.012334</td>\n",
       "      <td>0.012188</td>\n",
       "      <td>0.506495</td>\n",
       "      <td>MSP</td>\n",
       "      <td>6</td>\n",
       "      <td>2</td>\n",
       "      <td>-0.122716</td>\n",
       "      <td>0.143279</td>\n",
       "      <td>-5.545702</td>\n",
       "      <td>-0.011387</td>\n",
       "      <td>0.012773</td>\n",
       "      <td>0.428692</td>\n",
       "      <td>MSP</td>\n",
       "      <td>6</td>\n",
       "      <td>2</td>\n",
       "      <td>-0.094303</td>\n",
       "      <td>0.153015</td>\n",
       "      <td>-5.911247</td>\n",
       "      <td>-0.009088</td>\n",
       "      <td>0.013616</td>\n",
       "      <td>0.297153</td>\n",
       "      <td>MSP</td>\n",
       "      <td>6</td>\n",
       "      <td>2</td>\n",
       "      <td>-0.117785</td>\n",
       "      <td>0.142586</td>\n",
       "      <td>-5.794739</td>\n",
       "      <td>-0.011592</td>\n",
       "      <td>0.012694</td>\n",
       "      <td>0.442315</td>\n",
       "      <td>MSP</td>\n",
       "    </tr>\n",
       "    <tr>\n",
       "      <th>jcf7190000000004-54418</th>\n",
       "      <td>6</td>\n",
       "      <td>3</td>\n",
       "      <td>-0.048377</td>\n",
       "      <td>0.157033</td>\n",
       "      <td>-7.251326</td>\n",
       "      <td>0.001092</td>\n",
       "      <td>0.007596</td>\n",
       "      <td>0.052704</td>\n",
       "      <td>MSP</td>\n",
       "      <td>6</td>\n",
       "      <td>3</td>\n",
       "      <td>-0.051437</td>\n",
       "      <td>0.151264</td>\n",
       "      <td>-10.782116</td>\n",
       "      <td>0.000860</td>\n",
       "      <td>0.007276</td>\n",
       "      <td>0.042936</td>\n",
       "      <td>MSP</td>\n",
       "      <td>6</td>\n",
       "      <td>3</td>\n",
       "      <td>-0.050947</td>\n",
       "      <td>0.149747</td>\n",
       "      <td>-11.492466</td>\n",
       "      <td>0.000918</td>\n",
       "      <td>0.007105</td>\n",
       "      <td>0.047136</td>\n",
       "      <td>MSP</td>\n",
       "      <td>6</td>\n",
       "      <td>3</td>\n",
       "      <td>-0.043383</td>\n",
       "      <td>0.153916</td>\n",
       "      <td>-11.395781</td>\n",
       "      <td>0.001050</td>\n",
       "      <td>0.007542</td>\n",
       "      <td>0.050960</td>\n",
       "      <td>MSP</td>\n",
       "      <td>6</td>\n",
       "      <td>3</td>\n",
       "      <td>-0.052768</td>\n",
       "      <td>0.149279</td>\n",
       "      <td>-11.660797</td>\n",
       "      <td>0.000716</td>\n",
       "      <td>0.007169</td>\n",
       "      <td>0.036008</td>\n",
       "      <td>MSP</td>\n",
       "    </tr>\n",
       "    <tr>\n",
       "      <th>jcf7190000000004-54508</th>\n",
       "      <td>6</td>\n",
       "      <td>4</td>\n",
       "      <td>0.097649</td>\n",
       "      <td>0.119296</td>\n",
       "      <td>-11.713609</td>\n",
       "      <td>0.003659</td>\n",
       "      <td>0.006082</td>\n",
       "      <td>0.261656</td>\n",
       "      <td>MSP</td>\n",
       "      <td>6</td>\n",
       "      <td>4</td>\n",
       "      <td>0.097744</td>\n",
       "      <td>0.123997</td>\n",
       "      <td>-11.892776</td>\n",
       "      <td>0.003933</td>\n",
       "      <td>0.006428</td>\n",
       "      <td>0.267076</td>\n",
       "      <td>MSP</td>\n",
       "      <td>6</td>\n",
       "      <td>4</td>\n",
       "      <td>0.098573</td>\n",
       "      <td>0.123026</td>\n",
       "      <td>-11.831760</td>\n",
       "      <td>0.003835</td>\n",
       "      <td>0.006453</td>\n",
       "      <td>0.257822</td>\n",
       "      <td>MSP</td>\n",
       "      <td>6</td>\n",
       "      <td>4</td>\n",
       "      <td>0.105508</td>\n",
       "      <td>0.118271</td>\n",
       "      <td>-11.704069</td>\n",
       "      <td>0.004382</td>\n",
       "      <td>0.006300</td>\n",
       "      <td>0.312710</td>\n",
       "      <td>MSP</td>\n",
       "      <td>6</td>\n",
       "      <td>4</td>\n",
       "      <td>0.098117</td>\n",
       "      <td>0.125987</td>\n",
       "      <td>-12.075991</td>\n",
       "      <td>0.003946</td>\n",
       "      <td>0.006166</td>\n",
       "      <td>0.282154</td>\n",
       "      <td>MSP</td>\n",
       "    </tr>\n",
       "    <tr>\n",
       "      <th>jcf7190000000004-54540</th>\n",
       "      <td>6</td>\n",
       "      <td>5</td>\n",
       "      <td>0.084677</td>\n",
       "      <td>0.138404</td>\n",
       "      <td>-6.805682</td>\n",
       "      <td>0.008524</td>\n",
       "      <td>0.008601</td>\n",
       "      <td>0.492596</td>\n",
       "      <td>MSP</td>\n",
       "      <td>6</td>\n",
       "      <td>5</td>\n",
       "      <td>0.095070</td>\n",
       "      <td>0.138945</td>\n",
       "      <td>-5.982927</td>\n",
       "      <td>0.009135</td>\n",
       "      <td>0.008951</td>\n",
       "      <td>0.512206</td>\n",
       "      <td>MSP</td>\n",
       "      <td>6</td>\n",
       "      <td>5</td>\n",
       "      <td>0.088263</td>\n",
       "      <td>0.136628</td>\n",
       "      <td>-7.620589</td>\n",
       "      <td>0.008808</td>\n",
       "      <td>0.008646</td>\n",
       "      <td>0.510989</td>\n",
       "      <td>MSP</td>\n",
       "      <td>6</td>\n",
       "      <td>5</td>\n",
       "      <td>0.086639</td>\n",
       "      <td>0.136883</td>\n",
       "      <td>-7.780728</td>\n",
       "      <td>0.008343</td>\n",
       "      <td>0.008484</td>\n",
       "      <td>0.487549</td>\n",
       "      <td>MSP</td>\n",
       "      <td>6</td>\n",
       "      <td>5</td>\n",
       "      <td>0.081866</td>\n",
       "      <td>0.143466</td>\n",
       "      <td>-4.035397</td>\n",
       "      <td>0.008545</td>\n",
       "      <td>0.009124</td>\n",
       "      <td>0.457173</td>\n",
       "      <td>MSP</td>\n",
       "    </tr>\n",
       "  </tbody>\n",
       "</table>\n",
       "</div>"
      ],
      "text/plain": [
       "                        chain_1-COVARIABLE  chain_1-MRK  chain_1-M_Pearson  \\\n",
       "                                                                             \n",
       "jcf7190000000000-77738                   6            1          -0.105142   \n",
       "jcf7190000000000-77764                   6            2          -0.099859   \n",
       "jcf7190000000004-54418                   6            3          -0.048377   \n",
       "jcf7190000000004-54508                   6            4           0.097649   \n",
       "jcf7190000000004-54540                   6            5           0.084677   \n",
       "\n",
       "                        chain_1-SD_Pearson  chain_1-BF(dB)  chain_1-Beta_is  \\\n",
       "                                                                              \n",
       "jcf7190000000000-77738            0.143850       -2.704644        -0.009589   \n",
       "jcf7190000000000-77764            0.129947       -6.359129        -0.010124   \n",
       "jcf7190000000004-54418            0.157033       -7.251326         0.001092   \n",
       "jcf7190000000004-54508            0.119296      -11.713609         0.003659   \n",
       "jcf7190000000004-54540            0.138404       -6.805682         0.008524   \n",
       "\n",
       "                        chain_1-SD_Beta_is  chain_1-eBPis chain_1-env  \\\n",
       "                                                                        \n",
       "jcf7190000000000-77738            0.012788       0.343560         MSP   \n",
       "jcf7190000000000-77764            0.011451       0.424095         MSP   \n",
       "jcf7190000000004-54418            0.007596       0.052704         MSP   \n",
       "jcf7190000000004-54508            0.006082       0.261656         MSP   \n",
       "jcf7190000000004-54540            0.008601       0.492596         MSP   \n",
       "\n",
       "                        chain_2-COVARIABLE  chain_2-MRK  chain_2-M_Pearson  \\\n",
       "                                                                             \n",
       "jcf7190000000000-77738                   6            1          -0.103247   \n",
       "jcf7190000000000-77764                   6            2          -0.121466   \n",
       "jcf7190000000004-54418                   6            3          -0.051437   \n",
       "jcf7190000000004-54508                   6            4           0.097744   \n",
       "jcf7190000000004-54540                   6            5           0.095070   \n",
       "\n",
       "                        chain_2-SD_Pearson  chain_2-BF(dB)  chain_2-Beta_is  \\\n",
       "                                                                              \n",
       "jcf7190000000000-77738            0.147413       -5.677152        -0.010303   \n",
       "jcf7190000000000-77764            0.134996       -6.300504        -0.012334   \n",
       "jcf7190000000004-54418            0.151264      -10.782116         0.000860   \n",
       "jcf7190000000004-54508            0.123997      -11.892776         0.003933   \n",
       "jcf7190000000004-54540            0.138945       -5.982927         0.009135   \n",
       "\n",
       "                        chain_2-SD_Beta_is  chain_2-eBPis chain_2-env  \\\n",
       "                                                                        \n",
       "jcf7190000000000-77738            0.013329       0.356987         MSP   \n",
       "jcf7190000000000-77764            0.012188       0.506495         MSP   \n",
       "jcf7190000000004-54418            0.007276       0.042936         MSP   \n",
       "jcf7190000000004-54508            0.006428       0.267076         MSP   \n",
       "jcf7190000000004-54540            0.008951       0.512206         MSP   \n",
       "\n",
       "                        chain_3-COVARIABLE  chain_3-MRK  chain_3-M_Pearson  \\\n",
       "                                                                             \n",
       "jcf7190000000000-77738                   6            1          -0.108743   \n",
       "jcf7190000000000-77764                   6            2          -0.122716   \n",
       "jcf7190000000004-54418                   6            3          -0.050947   \n",
       "jcf7190000000004-54508                   6            4           0.098573   \n",
       "jcf7190000000004-54540                   6            5           0.088263   \n",
       "\n",
       "                        chain_3-SD_Pearson  chain_3-BF(dB)  chain_3-Beta_is  \\\n",
       "                                                                              \n",
       "jcf7190000000000-77738            0.145482       -4.815455        -0.010426   \n",
       "jcf7190000000000-77764            0.143279       -5.545702        -0.011387   \n",
       "jcf7190000000004-54418            0.149747      -11.492466         0.000918   \n",
       "jcf7190000000004-54508            0.123026      -11.831760         0.003835   \n",
       "jcf7190000000004-54540            0.136628       -7.620589         0.008808   \n",
       "\n",
       "                        chain_3-SD_Beta_is  chain_3-eBPis chain_3-env  \\\n",
       "                                                                        \n",
       "jcf7190000000000-77738            0.013531       0.355580         MSP   \n",
       "jcf7190000000000-77764            0.012773       0.428692         MSP   \n",
       "jcf7190000000004-54418            0.007105       0.047136         MSP   \n",
       "jcf7190000000004-54508            0.006453       0.257822         MSP   \n",
       "jcf7190000000004-54540            0.008646       0.510989         MSP   \n",
       "\n",
       "                        chain_4-COVARIABLE  chain_4-MRK  chain_4-M_Pearson  \\\n",
       "                                                                             \n",
       "jcf7190000000000-77738                   6            1          -0.104288   \n",
       "jcf7190000000000-77764                   6            2          -0.094303   \n",
       "jcf7190000000004-54418                   6            3          -0.043383   \n",
       "jcf7190000000004-54508                   6            4           0.105508   \n",
       "jcf7190000000004-54540                   6            5           0.086639   \n",
       "\n",
       "                        chain_4-SD_Pearson  chain_4-BF(dB)  chain_4-Beta_is  \\\n",
       "                                                                              \n",
       "jcf7190000000000-77738            0.140495       -6.141851        -0.009577   \n",
       "jcf7190000000000-77764            0.153015       -5.911247        -0.009088   \n",
       "jcf7190000000004-54418            0.153916      -11.395781         0.001050   \n",
       "jcf7190000000004-54508            0.118271      -11.704069         0.004382   \n",
       "jcf7190000000004-54540            0.136883       -7.780728         0.008343   \n",
       "\n",
       "                        chain_4-SD_Beta_is  chain_4-eBPis chain_4-env  \\\n",
       "                                                                        \n",
       "jcf7190000000000-77738            0.012232       0.362858         MSP   \n",
       "jcf7190000000000-77764            0.013616       0.297153         MSP   \n",
       "jcf7190000000004-54418            0.007542       0.050960         MSP   \n",
       "jcf7190000000004-54508            0.006300       0.312710         MSP   \n",
       "jcf7190000000004-54540            0.008484       0.487549         MSP   \n",
       "\n",
       "                        chain_5-COVARIABLE  chain_5-MRK  chain_5-M_Pearson  \\\n",
       "                                                                             \n",
       "jcf7190000000000-77738                   6            1          -0.094067   \n",
       "jcf7190000000000-77764                   6            2          -0.117785   \n",
       "jcf7190000000004-54418                   6            3          -0.052768   \n",
       "jcf7190000000004-54508                   6            4           0.098117   \n",
       "jcf7190000000004-54540                   6            5           0.081866   \n",
       "\n",
       "                        chain_5-SD_Pearson  chain_5-BF(dB)  chain_5-Beta_is  \\\n",
       "                                                                              \n",
       "jcf7190000000000-77738            0.137391       -7.398643        -0.009261   \n",
       "jcf7190000000000-77764            0.142586       -5.794739        -0.011592   \n",
       "jcf7190000000004-54418            0.149279      -11.660797         0.000716   \n",
       "jcf7190000000004-54508            0.125987      -12.075991         0.003946   \n",
       "jcf7190000000004-54540            0.143466       -4.035397         0.008545   \n",
       "\n",
       "                        chain_5-SD_Beta_is  chain_5-eBPis chain_5-env  \n",
       "                                                                       \n",
       "jcf7190000000000-77738            0.012065       0.353853         MSP  \n",
       "jcf7190000000000-77764            0.012694       0.442315         MSP  \n",
       "jcf7190000000004-54418            0.007169       0.036008         MSP  \n",
       "jcf7190000000004-54508            0.006166       0.282154         MSP  \n",
       "jcf7190000000004-54540            0.009124       0.457173         MSP  "
      ]
     },
     "execution_count": 50,
     "metadata": {},
     "output_type": "execute_result"
    }
   ],
   "source": [
    "# concatenate environmental output by each env, combine chains into single df\n",
    "dflst = {}\n",
    "for chain,envs in envlist.items():\n",
    "    for env,dfs in nb(envs.items(), desc=chain):\n",
    "        if env not in dflst:\n",
    "            dflst[env] = []\n",
    "        df = pd.concat(dfs)\n",
    "        df.columns = [f\"{chain}-{col}\" for col in df.columns]\n",
    "        dflst[env].append(df)\n",
    "# combine chains for each env - should have done this in parallel\n",
    "envdfs = {}\n",
    "for env,lst in nb(dflst.items(), desc='combo'):\n",
    "    assert len(lst) == 5\n",
    "    df = pd.merge(lst[0], lst[1], left_index=True, right_index=True)\n",
    "    df2 = pd.merge(lst[2], lst[3], left_index=True, right_index=True)\n",
    "    df3 = pd.merge(df, df2, left_index=True, right_index=True)\n",
    "    envdfs[env] = pd.merge(df3, lst[4], left_index=True, right_index=True)\n",
    "    \n",
    "    \n",
    "envdfs[env].head()           "
   ]
  },
  {
   "cell_type": "code",
   "execution_count": 52,
   "metadata": {},
   "outputs": [
    {
     "name": "stderr",
     "output_type": "stream",
     "text": [
      "100%|██████████| 1503/1503 [00:08<00:00, 174.24it/s]\n"
     ]
    },
    {
     "data": {
      "text/plain": [
       "2254011"
      ]
     },
     "execution_count": 52,
     "metadata": {},
     "output_type": "execute_result"
    }
   ],
   "source": [
    "# how many SNPs should be in each env file?\n",
    "# read in each of the gfiles and sum rows\n",
    "rows = 0\n",
    "for gfile in nb(fs(gfile_dir, pattern='noheaderidx.txt')):\n",
    "    df = pd.read_table(gfile, usecols=[0], header=None)\n",
    "    rows += nrow(df)\n",
    "rows"
   ]
  },
  {
   "cell_type": "code",
   "execution_count": 53,
   "metadata": {
    "scrolled": false
   },
   "outputs": [
    {
     "name": "stdout",
     "output_type": "stream",
     "text": [
      "\u001b[1mMAP\u001b[0m\n",
      "\t MAP 2254011\n",
      "\u001b[1mMCMT\u001b[0m\n",
      "\t MCMT 2254011\n",
      "\u001b[1mFFP\u001b[0m\n",
      "\t FFP 2254011\n",
      "\u001b[1mEXT\u001b[0m\n",
      "\t EXT 2254011\n",
      "\u001b[1mAHM\u001b[0m\n",
      "\t AHM 2254011\n",
      "\u001b[1mDD5\u001b[0m\n",
      "\t DD5 2254011\n",
      "\u001b[1mEMT\u001b[0m\n",
      "\t EMT 2254011\n",
      "\u001b[1mbFFP\u001b[0m\n",
      "\t bFFP 2254011\n",
      "\u001b[1mDD_0\u001b[0m\n",
      "\t DD_0 2254011\n",
      "\u001b[1mMWMT\u001b[0m\n",
      "\t MWMT 2254011\n",
      "\u001b[1mCMD\u001b[0m\n",
      "\t CMD 2254011\n",
      "\u001b[1meFFP\u001b[0m\n",
      "\t eFFP 2254011\n",
      "\u001b[1mTD\u001b[0m\n",
      "\t TD 2254011\n",
      "\u001b[1mMAT\u001b[0m\n",
      "\t MAT 2254011\n",
      "\u001b[1mPAS\u001b[0m\n",
      "\t PAS 2254011\n",
      "\u001b[1mEref\u001b[0m\n",
      "\t Eref 2254011\n",
      "\u001b[1mNFFD\u001b[0m\n",
      "\t NFFD 2254011\n",
      "\u001b[1mSHM\u001b[0m\n",
      "\t SHM 2254011\n",
      "\u001b[1mMSP\u001b[0m\n",
      "\t MSP 2254011\n"
     ]
    }
   ],
   "source": [
    "# assert each env has the expected number of rows (SNPs)\n",
    "for env in envdfs:\n",
    "    print(ColorText(env).bold())\n",
    "    print('\\t',env, nrow(envdfs[env]))\n",
    "    if nrow(envdfs[env]) != rows:\n",
    "        print(ColorText('CRAAAAAAAAAP').fail().bold())"
   ]
  },
  {
   "cell_type": "code",
   "execution_count": 54,
   "metadata": {},
   "outputs": [],
   "source": [
    "# release some RAM\n",
    "del dflst, chaindfs, df, df2, df3, dfs, envlist, jobs"
   ]
  },
  {
   "cell_type": "markdown",
   "metadata": {},
   "source": [
    "# Rank all loci"
   ]
  },
  {
   "cell_type": "code",
   "execution_count": 55,
   "metadata": {},
   "outputs": [
    {
     "name": "stdout",
     "output_type": "stream",
     "text": [
      "56 56\n"
     ]
    }
   ],
   "source": [
    "lview,dview = get_client()"
   ]
  },
  {
   "cell_type": "code",
   "execution_count": 63,
   "metadata": {},
   "outputs": [],
   "source": [
    "def rank_baypass(df):\n",
    "    \"\"\"Create columns to rank loci within and across chains.\"\"\"\n",
    "    import pandas\n",
    "    import tqdm\n",
    "    import math\n",
    "    chains = ['chain_1', 'chain_2', 'chain_3', 'chain_4', 'chain_5']\n",
    "\n",
    "    # rank per chain based on chain BF\n",
    "    for chain in tqdm.tqdm(chains, desc='chains'):\n",
    "        col = f'{chain}-BF(dB)'\n",
    "#         colBF = df[col].apply(lambda x: 10**(x/10))  # convert deciban to BF\n",
    "        colBF = df[col]  # no need to convert!\n",
    "        ranked = dict((locus,rank+1) for (rank,locus) in enumerate(colBF.sort_values(ascending=False).index))\n",
    "        df[f'rank_{chain}-BF'] = [ranked[locus] for locus in df.index]\n",
    "\n",
    "    # mean BF\n",
    "    print('getting mean BF')\n",
    "    bfcols = [col for col in df if 'BF(dB)' in col and col.startswith('chain')]\n",
    "    print(bfcols)\n",
    "    assert len(bfcols) == 5  # 5 chains\n",
    "#     mean_BF_dB = df[bfcols].mean(axis=1)\n",
    "#     df['mean_BF'] = mean_BF_dB.apply(lambda x: 10**(x/10))  # convert deciban to BF\n",
    "    df['mean_BF(dB)'] = df[bfcols].mean(axis=1)  # no need to convert!\n",
    "\n",
    "    # rank of mean BF\n",
    "    print('ranking mean BF')\n",
    "    ranked = dict((locus,rank+1) for (rank,locus) in enumerate(df['mean_BF(dB)'].sort_values(ascending=False).index))\n",
    "    df['rank_mean_BF(dB)'] = [ranked[locus] for locus in df.index]\n",
    "    \n",
    "    # bool column, enter True if BF >= 20 for >=3 chains, and BF >= 15 for >= 3 chains\n",
    "    print('calculating bool column')\n",
    "#     df['BF_gte20_for-gte3chains'] = (df[bfcols] >= 10*math.log10(20)).sum(axis=1) >= 3\n",
    "#     df['BF_gte15_for-gte3chains'] = (df[bfcols] >= 10*math.log10(15)).sum(axis=1) >= 3\n",
    "#     print(sum((df[bfcols] > 10*math.log10(20)).sum(axis=1) > 3))\n",
    "    df['BF(dB)_gte20_for-gte3chains'] = (df[bfcols] >= 20).sum(axis=1) >= 3  # no need to convert!\n",
    "    df['BF(dB)_gte15_for-gte3chains'] = (df[bfcols] >= 15).sum(axis=1) >= 3  # no need to convert!\n",
    "    print(sum((df[bfcols] > 20).sum(axis=1) > 3))  # no need to convert!\n",
    "\n",
    "    return df"
   ]
  },
  {
   "cell_type": "code",
   "execution_count": 64,
   "metadata": {},
   "outputs": [
    {
     "name": "stdout",
     "output_type": "stream",
     "text": [
      "\u001b[1m\n",
      "Watching 19 jobs ...\u001b[0m\n"
     ]
    },
    {
     "name": "stderr",
     "output_type": "stream",
     "text": [
      "100%|██████████| 19/19 [00:36<00:00,  1.90s/it]\n"
     ]
    },
    {
     "data": {
      "text/plain": [
       "'0-00:00:55'"
      ]
     },
     "execution_count": 64,
     "metadata": {},
     "output_type": "execute_result"
    }
   ],
   "source": [
    "# call rank_baypass() in parallel for each environment\n",
    "t1 = dt.now()\n",
    "jobs = []\n",
    "for env,df in envdfs.items():\n",
    "    bfcols = [col for col in df.columns if 'BF(dB)' in col and col.startswith('chain')]\n",
    "    assert len(bfcols) == 5  # num chains\n",
    "    jobs.append(lview.apply_async(rank_baypass, df[bfcols]))\n",
    "watch_async(jobs)\n",
    "formatclock(dt.now() - t1, exact=True)"
   ]
  },
  {
   "cell_type": "code",
   "execution_count": 65,
   "metadata": {},
   "outputs": [
    {
     "data": {
      "text/html": [
       "<div>\n",
       "<style scoped>\n",
       "    .dataframe tbody tr th:only-of-type {\n",
       "        vertical-align: middle;\n",
       "    }\n",
       "\n",
       "    .dataframe tbody tr th {\n",
       "        vertical-align: top;\n",
       "    }\n",
       "\n",
       "    .dataframe thead th {\n",
       "        text-align: right;\n",
       "    }\n",
       "</style>\n",
       "<table border=\"1\" class=\"dataframe\">\n",
       "  <thead>\n",
       "    <tr style=\"text-align: right;\">\n",
       "      <th></th>\n",
       "      <th>chain_1-BF(dB)</th>\n",
       "      <th>chain_2-BF(dB)</th>\n",
       "      <th>chain_3-BF(dB)</th>\n",
       "      <th>chain_4-BF(dB)</th>\n",
       "      <th>chain_5-BF(dB)</th>\n",
       "      <th>rank_chain_1-BF</th>\n",
       "      <th>rank_chain_2-BF</th>\n",
       "      <th>rank_chain_3-BF</th>\n",
       "      <th>rank_chain_4-BF</th>\n",
       "      <th>rank_chain_5-BF</th>\n",
       "      <th>mean_BF(dB)</th>\n",
       "      <th>rank_mean_BF(dB)</th>\n",
       "      <th>BF(dB)_gte20_for-gte3chains</th>\n",
       "      <th>BF(dB)_gte15_for-gte3chains</th>\n",
       "    </tr>\n",
       "    <tr>\n",
       "      <th></th>\n",
       "      <th></th>\n",
       "      <th></th>\n",
       "      <th></th>\n",
       "      <th></th>\n",
       "      <th></th>\n",
       "      <th></th>\n",
       "      <th></th>\n",
       "      <th></th>\n",
       "      <th></th>\n",
       "      <th></th>\n",
       "      <th></th>\n",
       "      <th></th>\n",
       "      <th></th>\n",
       "      <th></th>\n",
       "    </tr>\n",
       "  </thead>\n",
       "  <tbody>\n",
       "    <tr>\n",
       "      <th>jcf7190000000000-77738</th>\n",
       "      <td>-2.704644</td>\n",
       "      <td>-5.677152</td>\n",
       "      <td>-4.815455</td>\n",
       "      <td>-6.141851</td>\n",
       "      <td>-7.398643</td>\n",
       "      <td>133415</td>\n",
       "      <td>277048</td>\n",
       "      <td>223136</td>\n",
       "      <td>311324</td>\n",
       "      <td>432978</td>\n",
       "      <td>-5.347549</td>\n",
       "      <td>248667</td>\n",
       "      <td>False</td>\n",
       "      <td>False</td>\n",
       "    </tr>\n",
       "    <tr>\n",
       "      <th>jcf7190000000000-77764</th>\n",
       "      <td>-6.359129</td>\n",
       "      <td>-6.300504</td>\n",
       "      <td>-5.545702</td>\n",
       "      <td>-5.911247</td>\n",
       "      <td>-5.794739</td>\n",
       "      <td>329288</td>\n",
       "      <td>324372</td>\n",
       "      <td>267614</td>\n",
       "      <td>293345</td>\n",
       "      <td>285003</td>\n",
       "      <td>-5.982264</td>\n",
       "      <td>293155</td>\n",
       "      <td>False</td>\n",
       "      <td>False</td>\n",
       "    </tr>\n",
       "    <tr>\n",
       "      <th>jcf7190000000004-54418</th>\n",
       "      <td>-7.251326</td>\n",
       "      <td>-10.782116</td>\n",
       "      <td>-11.492466</td>\n",
       "      <td>-11.395781</td>\n",
       "      <td>-11.660797</td>\n",
       "      <td>416045</td>\n",
       "      <td>1264220</td>\n",
       "      <td>1501778</td>\n",
       "      <td>1471183</td>\n",
       "      <td>1551457</td>\n",
       "      <td>-10.516497</td>\n",
       "      <td>1179824</td>\n",
       "      <td>False</td>\n",
       "      <td>False</td>\n",
       "    </tr>\n",
       "    <tr>\n",
       "      <th>jcf7190000000004-54508</th>\n",
       "      <td>-11.713609</td>\n",
       "      <td>-11.892776</td>\n",
       "      <td>-11.831760</td>\n",
       "      <td>-11.704069</td>\n",
       "      <td>-12.075991</td>\n",
       "      <td>1567739</td>\n",
       "      <td>1618864</td>\n",
       "      <td>1602183</td>\n",
       "      <td>1564515</td>\n",
       "      <td>1668393</td>\n",
       "      <td>-11.843641</td>\n",
       "      <td>1616852</td>\n",
       "      <td>False</td>\n",
       "      <td>False</td>\n",
       "    </tr>\n",
       "    <tr>\n",
       "      <th>jcf7190000000004-54540</th>\n",
       "      <td>-6.805682</td>\n",
       "      <td>-5.982927</td>\n",
       "      <td>-7.620589</td>\n",
       "      <td>-7.780728</td>\n",
       "      <td>-4.035397</td>\n",
       "      <td>369922</td>\n",
       "      <td>299203</td>\n",
       "      <td>460209</td>\n",
       "      <td>480746</td>\n",
       "      <td>184377</td>\n",
       "      <td>-6.445065</td>\n",
       "      <td>330792</td>\n",
       "      <td>False</td>\n",
       "      <td>False</td>\n",
       "    </tr>\n",
       "  </tbody>\n",
       "</table>\n",
       "</div>"
      ],
      "text/plain": [
       "                        chain_1-BF(dB)  chain_2-BF(dB)  chain_3-BF(dB)  \\\n",
       "                                                                         \n",
       "jcf7190000000000-77738       -2.704644       -5.677152       -4.815455   \n",
       "jcf7190000000000-77764       -6.359129       -6.300504       -5.545702   \n",
       "jcf7190000000004-54418       -7.251326      -10.782116      -11.492466   \n",
       "jcf7190000000004-54508      -11.713609      -11.892776      -11.831760   \n",
       "jcf7190000000004-54540       -6.805682       -5.982927       -7.620589   \n",
       "\n",
       "                        chain_4-BF(dB)  chain_5-BF(dB)  rank_chain_1-BF  \\\n",
       "                                                                          \n",
       "jcf7190000000000-77738       -6.141851       -7.398643           133415   \n",
       "jcf7190000000000-77764       -5.911247       -5.794739           329288   \n",
       "jcf7190000000004-54418      -11.395781      -11.660797           416045   \n",
       "jcf7190000000004-54508      -11.704069      -12.075991          1567739   \n",
       "jcf7190000000004-54540       -7.780728       -4.035397           369922   \n",
       "\n",
       "                        rank_chain_2-BF  rank_chain_3-BF  rank_chain_4-BF  \\\n",
       "                                                                            \n",
       "jcf7190000000000-77738           277048           223136           311324   \n",
       "jcf7190000000000-77764           324372           267614           293345   \n",
       "jcf7190000000004-54418          1264220          1501778          1471183   \n",
       "jcf7190000000004-54508          1618864          1602183          1564515   \n",
       "jcf7190000000004-54540           299203           460209           480746   \n",
       "\n",
       "                        rank_chain_5-BF  mean_BF(dB)  rank_mean_BF(dB)  \\\n",
       "                                                                         \n",
       "jcf7190000000000-77738           432978    -5.347549            248667   \n",
       "jcf7190000000000-77764           285003    -5.982264            293155   \n",
       "jcf7190000000004-54418          1551457   -10.516497           1179824   \n",
       "jcf7190000000004-54508          1668393   -11.843641           1616852   \n",
       "jcf7190000000004-54540           184377    -6.445065            330792   \n",
       "\n",
       "                        BF(dB)_gte20_for-gte3chains  \\\n",
       "                                                      \n",
       "jcf7190000000000-77738                        False   \n",
       "jcf7190000000000-77764                        False   \n",
       "jcf7190000000004-54418                        False   \n",
       "jcf7190000000004-54508                        False   \n",
       "jcf7190000000004-54540                        False   \n",
       "\n",
       "                        BF(dB)_gte15_for-gte3chains  \n",
       "                                                     \n",
       "jcf7190000000000-77738                        False  \n",
       "jcf7190000000000-77764                        False  \n",
       "jcf7190000000004-54418                        False  \n",
       "jcf7190000000004-54508                        False  \n",
       "jcf7190000000004-54540                        False  "
      ]
     },
     "execution_count": 65,
     "metadata": {},
     "output_type": "execute_result"
    }
   ],
   "source": [
    "# get the returns from the engines\n",
    "new_envdfs = {}\n",
    "for i,env in enumerate(envdfs):\n",
    "    new_envdfs[env] = jobs[i].r\n",
    "new_envdfs[env].head()"
   ]
  },
  {
   "cell_type": "code",
   "execution_count": 66,
   "metadata": {},
   "outputs": [
    {
     "name": "stdout",
     "output_type": "stream",
     "text": [
      "18\n",
      "MSP\n"
     ]
    },
    {
     "data": {
      "text/html": [
       "<div>\n",
       "<style scoped>\n",
       "    .dataframe tbody tr th:only-of-type {\n",
       "        vertical-align: middle;\n",
       "    }\n",
       "\n",
       "    .dataframe tbody tr th {\n",
       "        vertical-align: top;\n",
       "    }\n",
       "\n",
       "    .dataframe thead th {\n",
       "        text-align: right;\n",
       "    }\n",
       "</style>\n",
       "<table border=\"1\" class=\"dataframe\">\n",
       "  <thead>\n",
       "    <tr style=\"text-align: right;\">\n",
       "      <th></th>\n",
       "      <th>chain_1-COVARIABLE</th>\n",
       "      <th>chain_1-MRK</th>\n",
       "      <th>chain_1-M_Pearson</th>\n",
       "      <th>chain_1-SD_Pearson</th>\n",
       "      <th>chain_1-BF(dB)</th>\n",
       "      <th>chain_1-Beta_is</th>\n",
       "      <th>chain_1-SD_Beta_is</th>\n",
       "      <th>chain_1-eBPis</th>\n",
       "      <th>chain_1-env</th>\n",
       "      <th>chain_2-COVARIABLE</th>\n",
       "      <th>chain_2-MRK</th>\n",
       "      <th>chain_2-M_Pearson</th>\n",
       "      <th>chain_2-SD_Pearson</th>\n",
       "      <th>chain_2-BF(dB)</th>\n",
       "      <th>chain_2-Beta_is</th>\n",
       "      <th>chain_2-SD_Beta_is</th>\n",
       "      <th>chain_2-eBPis</th>\n",
       "      <th>chain_2-env</th>\n",
       "      <th>chain_3-COVARIABLE</th>\n",
       "      <th>chain_3-MRK</th>\n",
       "      <th>chain_3-M_Pearson</th>\n",
       "      <th>chain_3-SD_Pearson</th>\n",
       "      <th>chain_3-BF(dB)</th>\n",
       "      <th>chain_3-Beta_is</th>\n",
       "      <th>chain_3-SD_Beta_is</th>\n",
       "      <th>chain_3-eBPis</th>\n",
       "      <th>chain_3-env</th>\n",
       "      <th>chain_4-COVARIABLE</th>\n",
       "      <th>chain_4-MRK</th>\n",
       "      <th>chain_4-M_Pearson</th>\n",
       "      <th>chain_4-SD_Pearson</th>\n",
       "      <th>chain_4-BF(dB)</th>\n",
       "      <th>chain_4-Beta_is</th>\n",
       "      <th>chain_4-SD_Beta_is</th>\n",
       "      <th>chain_4-eBPis</th>\n",
       "      <th>chain_4-env</th>\n",
       "      <th>chain_5-COVARIABLE</th>\n",
       "      <th>chain_5-MRK</th>\n",
       "      <th>chain_5-M_Pearson</th>\n",
       "      <th>chain_5-SD_Pearson</th>\n",
       "      <th>chain_5-BF(dB)</th>\n",
       "      <th>chain_5-Beta_is</th>\n",
       "      <th>chain_5-SD_Beta_is</th>\n",
       "      <th>chain_5-eBPis</th>\n",
       "      <th>chain_5-env</th>\n",
       "      <th>rank_chain_1-BF</th>\n",
       "      <th>rank_chain_2-BF</th>\n",
       "      <th>rank_chain_3-BF</th>\n",
       "      <th>rank_chain_4-BF</th>\n",
       "      <th>rank_chain_5-BF</th>\n",
       "      <th>mean_BF(dB)</th>\n",
       "      <th>rank_mean_BF(dB)</th>\n",
       "      <th>BF(dB)_gte20_for-gte3chains</th>\n",
       "      <th>BF(dB)_gte15_for-gte3chains</th>\n",
       "    </tr>\n",
       "    <tr>\n",
       "      <th></th>\n",
       "      <th></th>\n",
       "      <th></th>\n",
       "      <th></th>\n",
       "      <th></th>\n",
       "      <th></th>\n",
       "      <th></th>\n",
       "      <th></th>\n",
       "      <th></th>\n",
       "      <th></th>\n",
       "      <th></th>\n",
       "      <th></th>\n",
       "      <th></th>\n",
       "      <th></th>\n",
       "      <th></th>\n",
       "      <th></th>\n",
       "      <th></th>\n",
       "      <th></th>\n",
       "      <th></th>\n",
       "      <th></th>\n",
       "      <th></th>\n",
       "      <th></th>\n",
       "      <th></th>\n",
       "      <th></th>\n",
       "      <th></th>\n",
       "      <th></th>\n",
       "      <th></th>\n",
       "      <th></th>\n",
       "      <th></th>\n",
       "      <th></th>\n",
       "      <th></th>\n",
       "      <th></th>\n",
       "      <th></th>\n",
       "      <th></th>\n",
       "      <th></th>\n",
       "      <th></th>\n",
       "      <th></th>\n",
       "      <th></th>\n",
       "      <th></th>\n",
       "      <th></th>\n",
       "      <th></th>\n",
       "      <th></th>\n",
       "      <th></th>\n",
       "      <th></th>\n",
       "      <th></th>\n",
       "      <th></th>\n",
       "      <th></th>\n",
       "      <th></th>\n",
       "      <th></th>\n",
       "      <th></th>\n",
       "      <th></th>\n",
       "      <th></th>\n",
       "      <th></th>\n",
       "      <th></th>\n",
       "      <th></th>\n",
       "    </tr>\n",
       "  </thead>\n",
       "  <tbody>\n",
       "    <tr>\n",
       "      <th>jcf7190000000000-77738</th>\n",
       "      <td>6</td>\n",
       "      <td>1</td>\n",
       "      <td>-0.105142</td>\n",
       "      <td>0.143850</td>\n",
       "      <td>-2.704644</td>\n",
       "      <td>-0.009589</td>\n",
       "      <td>0.012788</td>\n",
       "      <td>0.343560</td>\n",
       "      <td>MSP</td>\n",
       "      <td>6</td>\n",
       "      <td>1</td>\n",
       "      <td>-0.103247</td>\n",
       "      <td>0.147413</td>\n",
       "      <td>-5.677152</td>\n",
       "      <td>-0.010303</td>\n",
       "      <td>0.013329</td>\n",
       "      <td>0.356987</td>\n",
       "      <td>MSP</td>\n",
       "      <td>6</td>\n",
       "      <td>1</td>\n",
       "      <td>-0.108743</td>\n",
       "      <td>0.145482</td>\n",
       "      <td>-4.815455</td>\n",
       "      <td>-0.010426</td>\n",
       "      <td>0.013531</td>\n",
       "      <td>0.355580</td>\n",
       "      <td>MSP</td>\n",
       "      <td>6</td>\n",
       "      <td>1</td>\n",
       "      <td>-0.104288</td>\n",
       "      <td>0.140495</td>\n",
       "      <td>-6.141851</td>\n",
       "      <td>-0.009577</td>\n",
       "      <td>0.012232</td>\n",
       "      <td>0.362858</td>\n",
       "      <td>MSP</td>\n",
       "      <td>6</td>\n",
       "      <td>1</td>\n",
       "      <td>-0.094067</td>\n",
       "      <td>0.137391</td>\n",
       "      <td>-7.398643</td>\n",
       "      <td>-0.009261</td>\n",
       "      <td>0.012065</td>\n",
       "      <td>0.353853</td>\n",
       "      <td>MSP</td>\n",
       "      <td>133415</td>\n",
       "      <td>277048</td>\n",
       "      <td>223136</td>\n",
       "      <td>311324</td>\n",
       "      <td>432978</td>\n",
       "      <td>-5.347549</td>\n",
       "      <td>248667</td>\n",
       "      <td>False</td>\n",
       "      <td>False</td>\n",
       "    </tr>\n",
       "    <tr>\n",
       "      <th>jcf7190000000000-77764</th>\n",
       "      <td>6</td>\n",
       "      <td>2</td>\n",
       "      <td>-0.099859</td>\n",
       "      <td>0.129947</td>\n",
       "      <td>-6.359129</td>\n",
       "      <td>-0.010124</td>\n",
       "      <td>0.011451</td>\n",
       "      <td>0.424095</td>\n",
       "      <td>MSP</td>\n",
       "      <td>6</td>\n",
       "      <td>2</td>\n",
       "      <td>-0.121466</td>\n",
       "      <td>0.134996</td>\n",
       "      <td>-6.300504</td>\n",
       "      <td>-0.012334</td>\n",
       "      <td>0.012188</td>\n",
       "      <td>0.506495</td>\n",
       "      <td>MSP</td>\n",
       "      <td>6</td>\n",
       "      <td>2</td>\n",
       "      <td>-0.122716</td>\n",
       "      <td>0.143279</td>\n",
       "      <td>-5.545702</td>\n",
       "      <td>-0.011387</td>\n",
       "      <td>0.012773</td>\n",
       "      <td>0.428692</td>\n",
       "      <td>MSP</td>\n",
       "      <td>6</td>\n",
       "      <td>2</td>\n",
       "      <td>-0.094303</td>\n",
       "      <td>0.153015</td>\n",
       "      <td>-5.911247</td>\n",
       "      <td>-0.009088</td>\n",
       "      <td>0.013616</td>\n",
       "      <td>0.297153</td>\n",
       "      <td>MSP</td>\n",
       "      <td>6</td>\n",
       "      <td>2</td>\n",
       "      <td>-0.117785</td>\n",
       "      <td>0.142586</td>\n",
       "      <td>-5.794739</td>\n",
       "      <td>-0.011592</td>\n",
       "      <td>0.012694</td>\n",
       "      <td>0.442315</td>\n",
       "      <td>MSP</td>\n",
       "      <td>329288</td>\n",
       "      <td>324372</td>\n",
       "      <td>267614</td>\n",
       "      <td>293345</td>\n",
       "      <td>285003</td>\n",
       "      <td>-5.982264</td>\n",
       "      <td>293155</td>\n",
       "      <td>False</td>\n",
       "      <td>False</td>\n",
       "    </tr>\n",
       "    <tr>\n",
       "      <th>jcf7190000000004-54418</th>\n",
       "      <td>6</td>\n",
       "      <td>3</td>\n",
       "      <td>-0.048377</td>\n",
       "      <td>0.157033</td>\n",
       "      <td>-7.251326</td>\n",
       "      <td>0.001092</td>\n",
       "      <td>0.007596</td>\n",
       "      <td>0.052704</td>\n",
       "      <td>MSP</td>\n",
       "      <td>6</td>\n",
       "      <td>3</td>\n",
       "      <td>-0.051437</td>\n",
       "      <td>0.151264</td>\n",
       "      <td>-10.782116</td>\n",
       "      <td>0.000860</td>\n",
       "      <td>0.007276</td>\n",
       "      <td>0.042936</td>\n",
       "      <td>MSP</td>\n",
       "      <td>6</td>\n",
       "      <td>3</td>\n",
       "      <td>-0.050947</td>\n",
       "      <td>0.149747</td>\n",
       "      <td>-11.492466</td>\n",
       "      <td>0.000918</td>\n",
       "      <td>0.007105</td>\n",
       "      <td>0.047136</td>\n",
       "      <td>MSP</td>\n",
       "      <td>6</td>\n",
       "      <td>3</td>\n",
       "      <td>-0.043383</td>\n",
       "      <td>0.153916</td>\n",
       "      <td>-11.395781</td>\n",
       "      <td>0.001050</td>\n",
       "      <td>0.007542</td>\n",
       "      <td>0.050960</td>\n",
       "      <td>MSP</td>\n",
       "      <td>6</td>\n",
       "      <td>3</td>\n",
       "      <td>-0.052768</td>\n",
       "      <td>0.149279</td>\n",
       "      <td>-11.660797</td>\n",
       "      <td>0.000716</td>\n",
       "      <td>0.007169</td>\n",
       "      <td>0.036008</td>\n",
       "      <td>MSP</td>\n",
       "      <td>416045</td>\n",
       "      <td>1264220</td>\n",
       "      <td>1501778</td>\n",
       "      <td>1471183</td>\n",
       "      <td>1551457</td>\n",
       "      <td>-10.516497</td>\n",
       "      <td>1179824</td>\n",
       "      <td>False</td>\n",
       "      <td>False</td>\n",
       "    </tr>\n",
       "    <tr>\n",
       "      <th>jcf7190000000004-54508</th>\n",
       "      <td>6</td>\n",
       "      <td>4</td>\n",
       "      <td>0.097649</td>\n",
       "      <td>0.119296</td>\n",
       "      <td>-11.713609</td>\n",
       "      <td>0.003659</td>\n",
       "      <td>0.006082</td>\n",
       "      <td>0.261656</td>\n",
       "      <td>MSP</td>\n",
       "      <td>6</td>\n",
       "      <td>4</td>\n",
       "      <td>0.097744</td>\n",
       "      <td>0.123997</td>\n",
       "      <td>-11.892776</td>\n",
       "      <td>0.003933</td>\n",
       "      <td>0.006428</td>\n",
       "      <td>0.267076</td>\n",
       "      <td>MSP</td>\n",
       "      <td>6</td>\n",
       "      <td>4</td>\n",
       "      <td>0.098573</td>\n",
       "      <td>0.123026</td>\n",
       "      <td>-11.831760</td>\n",
       "      <td>0.003835</td>\n",
       "      <td>0.006453</td>\n",
       "      <td>0.257822</td>\n",
       "      <td>MSP</td>\n",
       "      <td>6</td>\n",
       "      <td>4</td>\n",
       "      <td>0.105508</td>\n",
       "      <td>0.118271</td>\n",
       "      <td>-11.704069</td>\n",
       "      <td>0.004382</td>\n",
       "      <td>0.006300</td>\n",
       "      <td>0.312710</td>\n",
       "      <td>MSP</td>\n",
       "      <td>6</td>\n",
       "      <td>4</td>\n",
       "      <td>0.098117</td>\n",
       "      <td>0.125987</td>\n",
       "      <td>-12.075991</td>\n",
       "      <td>0.003946</td>\n",
       "      <td>0.006166</td>\n",
       "      <td>0.282154</td>\n",
       "      <td>MSP</td>\n",
       "      <td>1567739</td>\n",
       "      <td>1618864</td>\n",
       "      <td>1602183</td>\n",
       "      <td>1564515</td>\n",
       "      <td>1668393</td>\n",
       "      <td>-11.843641</td>\n",
       "      <td>1616852</td>\n",
       "      <td>False</td>\n",
       "      <td>False</td>\n",
       "    </tr>\n",
       "    <tr>\n",
       "      <th>jcf7190000000004-54540</th>\n",
       "      <td>6</td>\n",
       "      <td>5</td>\n",
       "      <td>0.084677</td>\n",
       "      <td>0.138404</td>\n",
       "      <td>-6.805682</td>\n",
       "      <td>0.008524</td>\n",
       "      <td>0.008601</td>\n",
       "      <td>0.492596</td>\n",
       "      <td>MSP</td>\n",
       "      <td>6</td>\n",
       "      <td>5</td>\n",
       "      <td>0.095070</td>\n",
       "      <td>0.138945</td>\n",
       "      <td>-5.982927</td>\n",
       "      <td>0.009135</td>\n",
       "      <td>0.008951</td>\n",
       "      <td>0.512206</td>\n",
       "      <td>MSP</td>\n",
       "      <td>6</td>\n",
       "      <td>5</td>\n",
       "      <td>0.088263</td>\n",
       "      <td>0.136628</td>\n",
       "      <td>-7.620589</td>\n",
       "      <td>0.008808</td>\n",
       "      <td>0.008646</td>\n",
       "      <td>0.510989</td>\n",
       "      <td>MSP</td>\n",
       "      <td>6</td>\n",
       "      <td>5</td>\n",
       "      <td>0.086639</td>\n",
       "      <td>0.136883</td>\n",
       "      <td>-7.780728</td>\n",
       "      <td>0.008343</td>\n",
       "      <td>0.008484</td>\n",
       "      <td>0.487549</td>\n",
       "      <td>MSP</td>\n",
       "      <td>6</td>\n",
       "      <td>5</td>\n",
       "      <td>0.081866</td>\n",
       "      <td>0.143466</td>\n",
       "      <td>-4.035397</td>\n",
       "      <td>0.008545</td>\n",
       "      <td>0.009124</td>\n",
       "      <td>0.457173</td>\n",
       "      <td>MSP</td>\n",
       "      <td>369922</td>\n",
       "      <td>299203</td>\n",
       "      <td>460209</td>\n",
       "      <td>480746</td>\n",
       "      <td>184377</td>\n",
       "      <td>-6.445065</td>\n",
       "      <td>330792</td>\n",
       "      <td>False</td>\n",
       "      <td>False</td>\n",
       "    </tr>\n",
       "  </tbody>\n",
       "</table>\n",
       "</div>"
      ],
      "text/plain": [
       "                        chain_1-COVARIABLE  chain_1-MRK  chain_1-M_Pearson  \\\n",
       "                                                                             \n",
       "jcf7190000000000-77738                   6            1          -0.105142   \n",
       "jcf7190000000000-77764                   6            2          -0.099859   \n",
       "jcf7190000000004-54418                   6            3          -0.048377   \n",
       "jcf7190000000004-54508                   6            4           0.097649   \n",
       "jcf7190000000004-54540                   6            5           0.084677   \n",
       "\n",
       "                        chain_1-SD_Pearson  chain_1-BF(dB)  chain_1-Beta_is  \\\n",
       "                                                                              \n",
       "jcf7190000000000-77738            0.143850       -2.704644        -0.009589   \n",
       "jcf7190000000000-77764            0.129947       -6.359129        -0.010124   \n",
       "jcf7190000000004-54418            0.157033       -7.251326         0.001092   \n",
       "jcf7190000000004-54508            0.119296      -11.713609         0.003659   \n",
       "jcf7190000000004-54540            0.138404       -6.805682         0.008524   \n",
       "\n",
       "                        chain_1-SD_Beta_is  chain_1-eBPis chain_1-env  \\\n",
       "                                                                        \n",
       "jcf7190000000000-77738            0.012788       0.343560         MSP   \n",
       "jcf7190000000000-77764            0.011451       0.424095         MSP   \n",
       "jcf7190000000004-54418            0.007596       0.052704         MSP   \n",
       "jcf7190000000004-54508            0.006082       0.261656         MSP   \n",
       "jcf7190000000004-54540            0.008601       0.492596         MSP   \n",
       "\n",
       "                        chain_2-COVARIABLE  chain_2-MRK  chain_2-M_Pearson  \\\n",
       "                                                                             \n",
       "jcf7190000000000-77738                   6            1          -0.103247   \n",
       "jcf7190000000000-77764                   6            2          -0.121466   \n",
       "jcf7190000000004-54418                   6            3          -0.051437   \n",
       "jcf7190000000004-54508                   6            4           0.097744   \n",
       "jcf7190000000004-54540                   6            5           0.095070   \n",
       "\n",
       "                        chain_2-SD_Pearson  chain_2-BF(dB)  chain_2-Beta_is  \\\n",
       "                                                                              \n",
       "jcf7190000000000-77738            0.147413       -5.677152        -0.010303   \n",
       "jcf7190000000000-77764            0.134996       -6.300504        -0.012334   \n",
       "jcf7190000000004-54418            0.151264      -10.782116         0.000860   \n",
       "jcf7190000000004-54508            0.123997      -11.892776         0.003933   \n",
       "jcf7190000000004-54540            0.138945       -5.982927         0.009135   \n",
       "\n",
       "                        chain_2-SD_Beta_is  chain_2-eBPis chain_2-env  \\\n",
       "                                                                        \n",
       "jcf7190000000000-77738            0.013329       0.356987         MSP   \n",
       "jcf7190000000000-77764            0.012188       0.506495         MSP   \n",
       "jcf7190000000004-54418            0.007276       0.042936         MSP   \n",
       "jcf7190000000004-54508            0.006428       0.267076         MSP   \n",
       "jcf7190000000004-54540            0.008951       0.512206         MSP   \n",
       "\n",
       "                        chain_3-COVARIABLE  chain_3-MRK  chain_3-M_Pearson  \\\n",
       "                                                                             \n",
       "jcf7190000000000-77738                   6            1          -0.108743   \n",
       "jcf7190000000000-77764                   6            2          -0.122716   \n",
       "jcf7190000000004-54418                   6            3          -0.050947   \n",
       "jcf7190000000004-54508                   6            4           0.098573   \n",
       "jcf7190000000004-54540                   6            5           0.088263   \n",
       "\n",
       "                        chain_3-SD_Pearson  chain_3-BF(dB)  chain_3-Beta_is  \\\n",
       "                                                                              \n",
       "jcf7190000000000-77738            0.145482       -4.815455        -0.010426   \n",
       "jcf7190000000000-77764            0.143279       -5.545702        -0.011387   \n",
       "jcf7190000000004-54418            0.149747      -11.492466         0.000918   \n",
       "jcf7190000000004-54508            0.123026      -11.831760         0.003835   \n",
       "jcf7190000000004-54540            0.136628       -7.620589         0.008808   \n",
       "\n",
       "                        chain_3-SD_Beta_is  chain_3-eBPis chain_3-env  \\\n",
       "                                                                        \n",
       "jcf7190000000000-77738            0.013531       0.355580         MSP   \n",
       "jcf7190000000000-77764            0.012773       0.428692         MSP   \n",
       "jcf7190000000004-54418            0.007105       0.047136         MSP   \n",
       "jcf7190000000004-54508            0.006453       0.257822         MSP   \n",
       "jcf7190000000004-54540            0.008646       0.510989         MSP   \n",
       "\n",
       "                        chain_4-COVARIABLE  chain_4-MRK  chain_4-M_Pearson  \\\n",
       "                                                                             \n",
       "jcf7190000000000-77738                   6            1          -0.104288   \n",
       "jcf7190000000000-77764                   6            2          -0.094303   \n",
       "jcf7190000000004-54418                   6            3          -0.043383   \n",
       "jcf7190000000004-54508                   6            4           0.105508   \n",
       "jcf7190000000004-54540                   6            5           0.086639   \n",
       "\n",
       "                        chain_4-SD_Pearson  chain_4-BF(dB)  chain_4-Beta_is  \\\n",
       "                                                                              \n",
       "jcf7190000000000-77738            0.140495       -6.141851        -0.009577   \n",
       "jcf7190000000000-77764            0.153015       -5.911247        -0.009088   \n",
       "jcf7190000000004-54418            0.153916      -11.395781         0.001050   \n",
       "jcf7190000000004-54508            0.118271      -11.704069         0.004382   \n",
       "jcf7190000000004-54540            0.136883       -7.780728         0.008343   \n",
       "\n",
       "                        chain_4-SD_Beta_is  chain_4-eBPis chain_4-env  \\\n",
       "                                                                        \n",
       "jcf7190000000000-77738            0.012232       0.362858         MSP   \n",
       "jcf7190000000000-77764            0.013616       0.297153         MSP   \n",
       "jcf7190000000004-54418            0.007542       0.050960         MSP   \n",
       "jcf7190000000004-54508            0.006300       0.312710         MSP   \n",
       "jcf7190000000004-54540            0.008484       0.487549         MSP   \n",
       "\n",
       "                        chain_5-COVARIABLE  chain_5-MRK  chain_5-M_Pearson  \\\n",
       "                                                                             \n",
       "jcf7190000000000-77738                   6            1          -0.094067   \n",
       "jcf7190000000000-77764                   6            2          -0.117785   \n",
       "jcf7190000000004-54418                   6            3          -0.052768   \n",
       "jcf7190000000004-54508                   6            4           0.098117   \n",
       "jcf7190000000004-54540                   6            5           0.081866   \n",
       "\n",
       "                        chain_5-SD_Pearson  chain_5-BF(dB)  chain_5-Beta_is  \\\n",
       "                                                                              \n",
       "jcf7190000000000-77738            0.137391       -7.398643        -0.009261   \n",
       "jcf7190000000000-77764            0.142586       -5.794739        -0.011592   \n",
       "jcf7190000000004-54418            0.149279      -11.660797         0.000716   \n",
       "jcf7190000000004-54508            0.125987      -12.075991         0.003946   \n",
       "jcf7190000000004-54540            0.143466       -4.035397         0.008545   \n",
       "\n",
       "                        chain_5-SD_Beta_is  chain_5-eBPis chain_5-env  \\\n",
       "                                                                        \n",
       "jcf7190000000000-77738            0.012065       0.353853         MSP   \n",
       "jcf7190000000000-77764            0.012694       0.442315         MSP   \n",
       "jcf7190000000004-54418            0.007169       0.036008         MSP   \n",
       "jcf7190000000004-54508            0.006166       0.282154         MSP   \n",
       "jcf7190000000004-54540            0.009124       0.457173         MSP   \n",
       "\n",
       "                        rank_chain_1-BF  rank_chain_2-BF  rank_chain_3-BF  \\\n",
       "                                                                            \n",
       "jcf7190000000000-77738           133415           277048           223136   \n",
       "jcf7190000000000-77764           329288           324372           267614   \n",
       "jcf7190000000004-54418           416045          1264220          1501778   \n",
       "jcf7190000000004-54508          1567739          1618864          1602183   \n",
       "jcf7190000000004-54540           369922           299203           460209   \n",
       "\n",
       "                        rank_chain_4-BF  rank_chain_5-BF  mean_BF(dB)  \\\n",
       "                                                                        \n",
       "jcf7190000000000-77738           311324           432978    -5.347549   \n",
       "jcf7190000000000-77764           293345           285003    -5.982264   \n",
       "jcf7190000000004-54418          1471183          1551457   -10.516497   \n",
       "jcf7190000000004-54508          1564515          1668393   -11.843641   \n",
       "jcf7190000000004-54540           480746           184377    -6.445065   \n",
       "\n",
       "                        rank_mean_BF(dB)  BF(dB)_gte20_for-gte3chains  \\\n",
       "                                                                        \n",
       "jcf7190000000000-77738            248667                        False   \n",
       "jcf7190000000000-77764            293155                        False   \n",
       "jcf7190000000004-54418           1179824                        False   \n",
       "jcf7190000000004-54508           1616852                        False   \n",
       "jcf7190000000004-54540            330792                        False   \n",
       "\n",
       "                        BF(dB)_gte15_for-gte3chains  \n",
       "                                                     \n",
       "jcf7190000000000-77738                        False  \n",
       "jcf7190000000000-77764                        False  \n",
       "jcf7190000000004-54418                        False  \n",
       "jcf7190000000004-54508                        False  \n",
       "jcf7190000000004-54540                        False  "
      ]
     },
     "execution_count": 66,
     "metadata": {},
     "output_type": "execute_result"
    }
   ],
   "source": [
    "# add in the new columns\n",
    "count = 0\n",
    "for env,df in envdfs.items():\n",
    "    update([count, env])\n",
    "    # keep original columns with chain info only\n",
    "    startcols = [col for col in df.columns if col.startswith('chain')]\n",
    "    assert len(bfcols) == 5\n",
    "    # grab the re-ranked columns\n",
    "    newcols = [col for col in new_envdfs[env].columns if col not in startcols]\n",
    "    envdfs[env] = pd.merge(df[startcols], new_envdfs[env][newcols], right_index=True, left_index=True)\n",
    "    count += 1\n",
    "envdfs[env].head()"
   ]
  },
  {
   "cell_type": "code",
   "execution_count": 67,
   "metadata": {},
   "outputs": [
    {
     "data": {
      "text/html": [
       "<div>\n",
       "<style scoped>\n",
       "    .dataframe tbody tr th:only-of-type {\n",
       "        vertical-align: middle;\n",
       "    }\n",
       "\n",
       "    .dataframe tbody tr th {\n",
       "        vertical-align: top;\n",
       "    }\n",
       "\n",
       "    .dataframe thead th {\n",
       "        text-align: right;\n",
       "    }\n",
       "</style>\n",
       "<table border=\"1\" class=\"dataframe\">\n",
       "  <thead>\n",
       "    <tr style=\"text-align: right;\">\n",
       "      <th></th>\n",
       "      <th>chain_1-COVARIABLE</th>\n",
       "      <th>chain_1-MRK</th>\n",
       "      <th>chain_1-M_Pearson</th>\n",
       "      <th>chain_1-SD_Pearson</th>\n",
       "      <th>chain_1-BF(dB)</th>\n",
       "      <th>chain_1-Beta_is</th>\n",
       "      <th>chain_1-SD_Beta_is</th>\n",
       "      <th>chain_1-eBPis</th>\n",
       "      <th>chain_1-env</th>\n",
       "      <th>chain_2-COVARIABLE</th>\n",
       "      <th>chain_2-MRK</th>\n",
       "      <th>chain_2-M_Pearson</th>\n",
       "      <th>chain_2-SD_Pearson</th>\n",
       "      <th>chain_2-BF(dB)</th>\n",
       "      <th>chain_2-Beta_is</th>\n",
       "      <th>chain_2-SD_Beta_is</th>\n",
       "      <th>chain_2-eBPis</th>\n",
       "      <th>chain_2-env</th>\n",
       "      <th>chain_3-COVARIABLE</th>\n",
       "      <th>chain_3-MRK</th>\n",
       "      <th>chain_3-M_Pearson</th>\n",
       "      <th>chain_3-SD_Pearson</th>\n",
       "      <th>chain_3-BF(dB)</th>\n",
       "      <th>chain_3-Beta_is</th>\n",
       "      <th>chain_3-SD_Beta_is</th>\n",
       "      <th>chain_3-eBPis</th>\n",
       "      <th>chain_3-env</th>\n",
       "      <th>chain_4-COVARIABLE</th>\n",
       "      <th>chain_4-MRK</th>\n",
       "      <th>chain_4-M_Pearson</th>\n",
       "      <th>chain_4-SD_Pearson</th>\n",
       "      <th>chain_4-BF(dB)</th>\n",
       "      <th>chain_4-Beta_is</th>\n",
       "      <th>chain_4-SD_Beta_is</th>\n",
       "      <th>chain_4-eBPis</th>\n",
       "      <th>chain_4-env</th>\n",
       "      <th>chain_5-COVARIABLE</th>\n",
       "      <th>chain_5-MRK</th>\n",
       "      <th>chain_5-M_Pearson</th>\n",
       "      <th>chain_5-SD_Pearson</th>\n",
       "      <th>chain_5-BF(dB)</th>\n",
       "      <th>chain_5-Beta_is</th>\n",
       "      <th>chain_5-SD_Beta_is</th>\n",
       "      <th>chain_5-eBPis</th>\n",
       "      <th>chain_5-env</th>\n",
       "      <th>rank_chain_1-BF</th>\n",
       "      <th>rank_chain_2-BF</th>\n",
       "      <th>rank_chain_3-BF</th>\n",
       "      <th>rank_chain_4-BF</th>\n",
       "      <th>rank_chain_5-BF</th>\n",
       "      <th>mean_BF(dB)</th>\n",
       "      <th>rank_mean_BF(dB)</th>\n",
       "      <th>BF(dB)_gte20_for-gte3chains</th>\n",
       "      <th>BF(dB)_gte15_for-gte3chains</th>\n",
       "      <th>rank_consistency_top1perc_for-gte3chains</th>\n",
       "    </tr>\n",
       "    <tr>\n",
       "      <th></th>\n",
       "      <th></th>\n",
       "      <th></th>\n",
       "      <th></th>\n",
       "      <th></th>\n",
       "      <th></th>\n",
       "      <th></th>\n",
       "      <th></th>\n",
       "      <th></th>\n",
       "      <th></th>\n",
       "      <th></th>\n",
       "      <th></th>\n",
       "      <th></th>\n",
       "      <th></th>\n",
       "      <th></th>\n",
       "      <th></th>\n",
       "      <th></th>\n",
       "      <th></th>\n",
       "      <th></th>\n",
       "      <th></th>\n",
       "      <th></th>\n",
       "      <th></th>\n",
       "      <th></th>\n",
       "      <th></th>\n",
       "      <th></th>\n",
       "      <th></th>\n",
       "      <th></th>\n",
       "      <th></th>\n",
       "      <th></th>\n",
       "      <th></th>\n",
       "      <th></th>\n",
       "      <th></th>\n",
       "      <th></th>\n",
       "      <th></th>\n",
       "      <th></th>\n",
       "      <th></th>\n",
       "      <th></th>\n",
       "      <th></th>\n",
       "      <th></th>\n",
       "      <th></th>\n",
       "      <th></th>\n",
       "      <th></th>\n",
       "      <th></th>\n",
       "      <th></th>\n",
       "      <th></th>\n",
       "      <th></th>\n",
       "      <th></th>\n",
       "      <th></th>\n",
       "      <th></th>\n",
       "      <th></th>\n",
       "      <th></th>\n",
       "      <th></th>\n",
       "      <th></th>\n",
       "      <th></th>\n",
       "      <th></th>\n",
       "      <th></th>\n",
       "    </tr>\n",
       "  </thead>\n",
       "  <tbody>\n",
       "    <tr>\n",
       "      <th>jcf7190000000000-77738</th>\n",
       "      <td>6</td>\n",
       "      <td>1</td>\n",
       "      <td>-0.105142</td>\n",
       "      <td>0.143850</td>\n",
       "      <td>-2.704644</td>\n",
       "      <td>-0.009589</td>\n",
       "      <td>0.012788</td>\n",
       "      <td>0.343560</td>\n",
       "      <td>MSP</td>\n",
       "      <td>6</td>\n",
       "      <td>1</td>\n",
       "      <td>-0.103247</td>\n",
       "      <td>0.147413</td>\n",
       "      <td>-5.677152</td>\n",
       "      <td>-0.010303</td>\n",
       "      <td>0.013329</td>\n",
       "      <td>0.356987</td>\n",
       "      <td>MSP</td>\n",
       "      <td>6</td>\n",
       "      <td>1</td>\n",
       "      <td>-0.108743</td>\n",
       "      <td>0.145482</td>\n",
       "      <td>-4.815455</td>\n",
       "      <td>-0.010426</td>\n",
       "      <td>0.013531</td>\n",
       "      <td>0.355580</td>\n",
       "      <td>MSP</td>\n",
       "      <td>6</td>\n",
       "      <td>1</td>\n",
       "      <td>-0.104288</td>\n",
       "      <td>0.140495</td>\n",
       "      <td>-6.141851</td>\n",
       "      <td>-0.009577</td>\n",
       "      <td>0.012232</td>\n",
       "      <td>0.362858</td>\n",
       "      <td>MSP</td>\n",
       "      <td>6</td>\n",
       "      <td>1</td>\n",
       "      <td>-0.094067</td>\n",
       "      <td>0.137391</td>\n",
       "      <td>-7.398643</td>\n",
       "      <td>-0.009261</td>\n",
       "      <td>0.012065</td>\n",
       "      <td>0.353853</td>\n",
       "      <td>MSP</td>\n",
       "      <td>133415</td>\n",
       "      <td>277048</td>\n",
       "      <td>223136</td>\n",
       "      <td>311324</td>\n",
       "      <td>432978</td>\n",
       "      <td>-5.347549</td>\n",
       "      <td>248667</td>\n",
       "      <td>False</td>\n",
       "      <td>False</td>\n",
       "      <td>False</td>\n",
       "    </tr>\n",
       "    <tr>\n",
       "      <th>jcf7190000000000-77764</th>\n",
       "      <td>6</td>\n",
       "      <td>2</td>\n",
       "      <td>-0.099859</td>\n",
       "      <td>0.129947</td>\n",
       "      <td>-6.359129</td>\n",
       "      <td>-0.010124</td>\n",
       "      <td>0.011451</td>\n",
       "      <td>0.424095</td>\n",
       "      <td>MSP</td>\n",
       "      <td>6</td>\n",
       "      <td>2</td>\n",
       "      <td>-0.121466</td>\n",
       "      <td>0.134996</td>\n",
       "      <td>-6.300504</td>\n",
       "      <td>-0.012334</td>\n",
       "      <td>0.012188</td>\n",
       "      <td>0.506495</td>\n",
       "      <td>MSP</td>\n",
       "      <td>6</td>\n",
       "      <td>2</td>\n",
       "      <td>-0.122716</td>\n",
       "      <td>0.143279</td>\n",
       "      <td>-5.545702</td>\n",
       "      <td>-0.011387</td>\n",
       "      <td>0.012773</td>\n",
       "      <td>0.428692</td>\n",
       "      <td>MSP</td>\n",
       "      <td>6</td>\n",
       "      <td>2</td>\n",
       "      <td>-0.094303</td>\n",
       "      <td>0.153015</td>\n",
       "      <td>-5.911247</td>\n",
       "      <td>-0.009088</td>\n",
       "      <td>0.013616</td>\n",
       "      <td>0.297153</td>\n",
       "      <td>MSP</td>\n",
       "      <td>6</td>\n",
       "      <td>2</td>\n",
       "      <td>-0.117785</td>\n",
       "      <td>0.142586</td>\n",
       "      <td>-5.794739</td>\n",
       "      <td>-0.011592</td>\n",
       "      <td>0.012694</td>\n",
       "      <td>0.442315</td>\n",
       "      <td>MSP</td>\n",
       "      <td>329288</td>\n",
       "      <td>324372</td>\n",
       "      <td>267614</td>\n",
       "      <td>293345</td>\n",
       "      <td>285003</td>\n",
       "      <td>-5.982264</td>\n",
       "      <td>293155</td>\n",
       "      <td>False</td>\n",
       "      <td>False</td>\n",
       "      <td>False</td>\n",
       "    </tr>\n",
       "    <tr>\n",
       "      <th>jcf7190000000004-54418</th>\n",
       "      <td>6</td>\n",
       "      <td>3</td>\n",
       "      <td>-0.048377</td>\n",
       "      <td>0.157033</td>\n",
       "      <td>-7.251326</td>\n",
       "      <td>0.001092</td>\n",
       "      <td>0.007596</td>\n",
       "      <td>0.052704</td>\n",
       "      <td>MSP</td>\n",
       "      <td>6</td>\n",
       "      <td>3</td>\n",
       "      <td>-0.051437</td>\n",
       "      <td>0.151264</td>\n",
       "      <td>-10.782116</td>\n",
       "      <td>0.000860</td>\n",
       "      <td>0.007276</td>\n",
       "      <td>0.042936</td>\n",
       "      <td>MSP</td>\n",
       "      <td>6</td>\n",
       "      <td>3</td>\n",
       "      <td>-0.050947</td>\n",
       "      <td>0.149747</td>\n",
       "      <td>-11.492466</td>\n",
       "      <td>0.000918</td>\n",
       "      <td>0.007105</td>\n",
       "      <td>0.047136</td>\n",
       "      <td>MSP</td>\n",
       "      <td>6</td>\n",
       "      <td>3</td>\n",
       "      <td>-0.043383</td>\n",
       "      <td>0.153916</td>\n",
       "      <td>-11.395781</td>\n",
       "      <td>0.001050</td>\n",
       "      <td>0.007542</td>\n",
       "      <td>0.050960</td>\n",
       "      <td>MSP</td>\n",
       "      <td>6</td>\n",
       "      <td>3</td>\n",
       "      <td>-0.052768</td>\n",
       "      <td>0.149279</td>\n",
       "      <td>-11.660797</td>\n",
       "      <td>0.000716</td>\n",
       "      <td>0.007169</td>\n",
       "      <td>0.036008</td>\n",
       "      <td>MSP</td>\n",
       "      <td>416045</td>\n",
       "      <td>1264220</td>\n",
       "      <td>1501778</td>\n",
       "      <td>1471183</td>\n",
       "      <td>1551457</td>\n",
       "      <td>-10.516497</td>\n",
       "      <td>1179824</td>\n",
       "      <td>False</td>\n",
       "      <td>False</td>\n",
       "      <td>False</td>\n",
       "    </tr>\n",
       "    <tr>\n",
       "      <th>jcf7190000000004-54508</th>\n",
       "      <td>6</td>\n",
       "      <td>4</td>\n",
       "      <td>0.097649</td>\n",
       "      <td>0.119296</td>\n",
       "      <td>-11.713609</td>\n",
       "      <td>0.003659</td>\n",
       "      <td>0.006082</td>\n",
       "      <td>0.261656</td>\n",
       "      <td>MSP</td>\n",
       "      <td>6</td>\n",
       "      <td>4</td>\n",
       "      <td>0.097744</td>\n",
       "      <td>0.123997</td>\n",
       "      <td>-11.892776</td>\n",
       "      <td>0.003933</td>\n",
       "      <td>0.006428</td>\n",
       "      <td>0.267076</td>\n",
       "      <td>MSP</td>\n",
       "      <td>6</td>\n",
       "      <td>4</td>\n",
       "      <td>0.098573</td>\n",
       "      <td>0.123026</td>\n",
       "      <td>-11.831760</td>\n",
       "      <td>0.003835</td>\n",
       "      <td>0.006453</td>\n",
       "      <td>0.257822</td>\n",
       "      <td>MSP</td>\n",
       "      <td>6</td>\n",
       "      <td>4</td>\n",
       "      <td>0.105508</td>\n",
       "      <td>0.118271</td>\n",
       "      <td>-11.704069</td>\n",
       "      <td>0.004382</td>\n",
       "      <td>0.006300</td>\n",
       "      <td>0.312710</td>\n",
       "      <td>MSP</td>\n",
       "      <td>6</td>\n",
       "      <td>4</td>\n",
       "      <td>0.098117</td>\n",
       "      <td>0.125987</td>\n",
       "      <td>-12.075991</td>\n",
       "      <td>0.003946</td>\n",
       "      <td>0.006166</td>\n",
       "      <td>0.282154</td>\n",
       "      <td>MSP</td>\n",
       "      <td>1567739</td>\n",
       "      <td>1618864</td>\n",
       "      <td>1602183</td>\n",
       "      <td>1564515</td>\n",
       "      <td>1668393</td>\n",
       "      <td>-11.843641</td>\n",
       "      <td>1616852</td>\n",
       "      <td>False</td>\n",
       "      <td>False</td>\n",
       "      <td>False</td>\n",
       "    </tr>\n",
       "    <tr>\n",
       "      <th>jcf7190000000004-54540</th>\n",
       "      <td>6</td>\n",
       "      <td>5</td>\n",
       "      <td>0.084677</td>\n",
       "      <td>0.138404</td>\n",
       "      <td>-6.805682</td>\n",
       "      <td>0.008524</td>\n",
       "      <td>0.008601</td>\n",
       "      <td>0.492596</td>\n",
       "      <td>MSP</td>\n",
       "      <td>6</td>\n",
       "      <td>5</td>\n",
       "      <td>0.095070</td>\n",
       "      <td>0.138945</td>\n",
       "      <td>-5.982927</td>\n",
       "      <td>0.009135</td>\n",
       "      <td>0.008951</td>\n",
       "      <td>0.512206</td>\n",
       "      <td>MSP</td>\n",
       "      <td>6</td>\n",
       "      <td>5</td>\n",
       "      <td>0.088263</td>\n",
       "      <td>0.136628</td>\n",
       "      <td>-7.620589</td>\n",
       "      <td>0.008808</td>\n",
       "      <td>0.008646</td>\n",
       "      <td>0.510989</td>\n",
       "      <td>MSP</td>\n",
       "      <td>6</td>\n",
       "      <td>5</td>\n",
       "      <td>0.086639</td>\n",
       "      <td>0.136883</td>\n",
       "      <td>-7.780728</td>\n",
       "      <td>0.008343</td>\n",
       "      <td>0.008484</td>\n",
       "      <td>0.487549</td>\n",
       "      <td>MSP</td>\n",
       "      <td>6</td>\n",
       "      <td>5</td>\n",
       "      <td>0.081866</td>\n",
       "      <td>0.143466</td>\n",
       "      <td>-4.035397</td>\n",
       "      <td>0.008545</td>\n",
       "      <td>0.009124</td>\n",
       "      <td>0.457173</td>\n",
       "      <td>MSP</td>\n",
       "      <td>369922</td>\n",
       "      <td>299203</td>\n",
       "      <td>460209</td>\n",
       "      <td>480746</td>\n",
       "      <td>184377</td>\n",
       "      <td>-6.445065</td>\n",
       "      <td>330792</td>\n",
       "      <td>False</td>\n",
       "      <td>False</td>\n",
       "      <td>False</td>\n",
       "    </tr>\n",
       "  </tbody>\n",
       "</table>\n",
       "</div>"
      ],
      "text/plain": [
       "                        chain_1-COVARIABLE  chain_1-MRK  chain_1-M_Pearson  \\\n",
       "                                                                             \n",
       "jcf7190000000000-77738                   6            1          -0.105142   \n",
       "jcf7190000000000-77764                   6            2          -0.099859   \n",
       "jcf7190000000004-54418                   6            3          -0.048377   \n",
       "jcf7190000000004-54508                   6            4           0.097649   \n",
       "jcf7190000000004-54540                   6            5           0.084677   \n",
       "\n",
       "                        chain_1-SD_Pearson  chain_1-BF(dB)  chain_1-Beta_is  \\\n",
       "                                                                              \n",
       "jcf7190000000000-77738            0.143850       -2.704644        -0.009589   \n",
       "jcf7190000000000-77764            0.129947       -6.359129        -0.010124   \n",
       "jcf7190000000004-54418            0.157033       -7.251326         0.001092   \n",
       "jcf7190000000004-54508            0.119296      -11.713609         0.003659   \n",
       "jcf7190000000004-54540            0.138404       -6.805682         0.008524   \n",
       "\n",
       "                        chain_1-SD_Beta_is  chain_1-eBPis chain_1-env  \\\n",
       "                                                                        \n",
       "jcf7190000000000-77738            0.012788       0.343560         MSP   \n",
       "jcf7190000000000-77764            0.011451       0.424095         MSP   \n",
       "jcf7190000000004-54418            0.007596       0.052704         MSP   \n",
       "jcf7190000000004-54508            0.006082       0.261656         MSP   \n",
       "jcf7190000000004-54540            0.008601       0.492596         MSP   \n",
       "\n",
       "                        chain_2-COVARIABLE  chain_2-MRK  chain_2-M_Pearson  \\\n",
       "                                                                             \n",
       "jcf7190000000000-77738                   6            1          -0.103247   \n",
       "jcf7190000000000-77764                   6            2          -0.121466   \n",
       "jcf7190000000004-54418                   6            3          -0.051437   \n",
       "jcf7190000000004-54508                   6            4           0.097744   \n",
       "jcf7190000000004-54540                   6            5           0.095070   \n",
       "\n",
       "                        chain_2-SD_Pearson  chain_2-BF(dB)  chain_2-Beta_is  \\\n",
       "                                                                              \n",
       "jcf7190000000000-77738            0.147413       -5.677152        -0.010303   \n",
       "jcf7190000000000-77764            0.134996       -6.300504        -0.012334   \n",
       "jcf7190000000004-54418            0.151264      -10.782116         0.000860   \n",
       "jcf7190000000004-54508            0.123997      -11.892776         0.003933   \n",
       "jcf7190000000004-54540            0.138945       -5.982927         0.009135   \n",
       "\n",
       "                        chain_2-SD_Beta_is  chain_2-eBPis chain_2-env  \\\n",
       "                                                                        \n",
       "jcf7190000000000-77738            0.013329       0.356987         MSP   \n",
       "jcf7190000000000-77764            0.012188       0.506495         MSP   \n",
       "jcf7190000000004-54418            0.007276       0.042936         MSP   \n",
       "jcf7190000000004-54508            0.006428       0.267076         MSP   \n",
       "jcf7190000000004-54540            0.008951       0.512206         MSP   \n",
       "\n",
       "                        chain_3-COVARIABLE  chain_3-MRK  chain_3-M_Pearson  \\\n",
       "                                                                             \n",
       "jcf7190000000000-77738                   6            1          -0.108743   \n",
       "jcf7190000000000-77764                   6            2          -0.122716   \n",
       "jcf7190000000004-54418                   6            3          -0.050947   \n",
       "jcf7190000000004-54508                   6            4           0.098573   \n",
       "jcf7190000000004-54540                   6            5           0.088263   \n",
       "\n",
       "                        chain_3-SD_Pearson  chain_3-BF(dB)  chain_3-Beta_is  \\\n",
       "                                                                              \n",
       "jcf7190000000000-77738            0.145482       -4.815455        -0.010426   \n",
       "jcf7190000000000-77764            0.143279       -5.545702        -0.011387   \n",
       "jcf7190000000004-54418            0.149747      -11.492466         0.000918   \n",
       "jcf7190000000004-54508            0.123026      -11.831760         0.003835   \n",
       "jcf7190000000004-54540            0.136628       -7.620589         0.008808   \n",
       "\n",
       "                        chain_3-SD_Beta_is  chain_3-eBPis chain_3-env  \\\n",
       "                                                                        \n",
       "jcf7190000000000-77738            0.013531       0.355580         MSP   \n",
       "jcf7190000000000-77764            0.012773       0.428692         MSP   \n",
       "jcf7190000000004-54418            0.007105       0.047136         MSP   \n",
       "jcf7190000000004-54508            0.006453       0.257822         MSP   \n",
       "jcf7190000000004-54540            0.008646       0.510989         MSP   \n",
       "\n",
       "                        chain_4-COVARIABLE  chain_4-MRK  chain_4-M_Pearson  \\\n",
       "                                                                             \n",
       "jcf7190000000000-77738                   6            1          -0.104288   \n",
       "jcf7190000000000-77764                   6            2          -0.094303   \n",
       "jcf7190000000004-54418                   6            3          -0.043383   \n",
       "jcf7190000000004-54508                   6            4           0.105508   \n",
       "jcf7190000000004-54540                   6            5           0.086639   \n",
       "\n",
       "                        chain_4-SD_Pearson  chain_4-BF(dB)  chain_4-Beta_is  \\\n",
       "                                                                              \n",
       "jcf7190000000000-77738            0.140495       -6.141851        -0.009577   \n",
       "jcf7190000000000-77764            0.153015       -5.911247        -0.009088   \n",
       "jcf7190000000004-54418            0.153916      -11.395781         0.001050   \n",
       "jcf7190000000004-54508            0.118271      -11.704069         0.004382   \n",
       "jcf7190000000004-54540            0.136883       -7.780728         0.008343   \n",
       "\n",
       "                        chain_4-SD_Beta_is  chain_4-eBPis chain_4-env  \\\n",
       "                                                                        \n",
       "jcf7190000000000-77738            0.012232       0.362858         MSP   \n",
       "jcf7190000000000-77764            0.013616       0.297153         MSP   \n",
       "jcf7190000000004-54418            0.007542       0.050960         MSP   \n",
       "jcf7190000000004-54508            0.006300       0.312710         MSP   \n",
       "jcf7190000000004-54540            0.008484       0.487549         MSP   \n",
       "\n",
       "                        chain_5-COVARIABLE  chain_5-MRK  chain_5-M_Pearson  \\\n",
       "                                                                             \n",
       "jcf7190000000000-77738                   6            1          -0.094067   \n",
       "jcf7190000000000-77764                   6            2          -0.117785   \n",
       "jcf7190000000004-54418                   6            3          -0.052768   \n",
       "jcf7190000000004-54508                   6            4           0.098117   \n",
       "jcf7190000000004-54540                   6            5           0.081866   \n",
       "\n",
       "                        chain_5-SD_Pearson  chain_5-BF(dB)  chain_5-Beta_is  \\\n",
       "                                                                              \n",
       "jcf7190000000000-77738            0.137391       -7.398643        -0.009261   \n",
       "jcf7190000000000-77764            0.142586       -5.794739        -0.011592   \n",
       "jcf7190000000004-54418            0.149279      -11.660797         0.000716   \n",
       "jcf7190000000004-54508            0.125987      -12.075991         0.003946   \n",
       "jcf7190000000004-54540            0.143466       -4.035397         0.008545   \n",
       "\n",
       "                        chain_5-SD_Beta_is  chain_5-eBPis chain_5-env  \\\n",
       "                                                                        \n",
       "jcf7190000000000-77738            0.012065       0.353853         MSP   \n",
       "jcf7190000000000-77764            0.012694       0.442315         MSP   \n",
       "jcf7190000000004-54418            0.007169       0.036008         MSP   \n",
       "jcf7190000000004-54508            0.006166       0.282154         MSP   \n",
       "jcf7190000000004-54540            0.009124       0.457173         MSP   \n",
       "\n",
       "                        rank_chain_1-BF  rank_chain_2-BF  rank_chain_3-BF  \\\n",
       "                                                                            \n",
       "jcf7190000000000-77738           133415           277048           223136   \n",
       "jcf7190000000000-77764           329288           324372           267614   \n",
       "jcf7190000000004-54418           416045          1264220          1501778   \n",
       "jcf7190000000004-54508          1567739          1618864          1602183   \n",
       "jcf7190000000004-54540           369922           299203           460209   \n",
       "\n",
       "                        rank_chain_4-BF  rank_chain_5-BF  mean_BF(dB)  \\\n",
       "                                                                        \n",
       "jcf7190000000000-77738           311324           432978    -5.347549   \n",
       "jcf7190000000000-77764           293345           285003    -5.982264   \n",
       "jcf7190000000004-54418          1471183          1551457   -10.516497   \n",
       "jcf7190000000004-54508          1564515          1668393   -11.843641   \n",
       "jcf7190000000004-54540           480746           184377    -6.445065   \n",
       "\n",
       "                        rank_mean_BF(dB)  BF(dB)_gte20_for-gte3chains  \\\n",
       "                                                                        \n",
       "jcf7190000000000-77738            248667                        False   \n",
       "jcf7190000000000-77764            293155                        False   \n",
       "jcf7190000000004-54418           1179824                        False   \n",
       "jcf7190000000004-54508           1616852                        False   \n",
       "jcf7190000000004-54540            330792                        False   \n",
       "\n",
       "                        BF(dB)_gte15_for-gte3chains  \\\n",
       "                                                      \n",
       "jcf7190000000000-77738                        False   \n",
       "jcf7190000000000-77764                        False   \n",
       "jcf7190000000004-54418                        False   \n",
       "jcf7190000000004-54508                        False   \n",
       "jcf7190000000004-54540                        False   \n",
       "\n",
       "                        rank_consistency_top1perc_for-gte3chains  \n",
       "                                                                  \n",
       "jcf7190000000000-77738                                     False  \n",
       "jcf7190000000000-77764                                     False  \n",
       "jcf7190000000004-54418                                     False  \n",
       "jcf7190000000004-54508                                     False  \n",
       "jcf7190000000004-54540                                     False  "
      ]
     },
     "execution_count": 67,
     "metadata": {},
     "output_type": "execute_result"
    }
   ],
   "source": [
    "# add column for rank consistency (True if SNP is ranked in top 1% for >= 3 chains)\n",
    "# also add a column for mean_BF >= 20\n",
    "for env,df in envdfs.items():\n",
    "    oneperc = math.ceil(0.01*nrow(df))\n",
    "    rankcols = [col for col in df if 'rank_chain' in col]\n",
    "    envdfs[env]['rank_consistency_top1perc_for-gte3chains'] = (df[rankcols] < oneperc).sum(axis=1) >= 3\n",
    "envdfs[env].head()"
   ]
  },
  {
   "cell_type": "code",
   "execution_count": 68,
   "metadata": {},
   "outputs": [
    {
     "name": "stderr",
     "output_type": "stream",
     "text": [
      "MAP: 100%|██████████| 55/55 [00:03<00:00, 17.10it/s]\n",
      "MCMT: 100%|██████████| 55/55 [00:03<00:00, 17.33it/s]\n",
      "FFP: 100%|██████████| 55/55 [00:03<00:00, 17.24it/s]\n",
      "EXT: 100%|██████████| 55/55 [00:03<00:00, 17.28it/s]\n",
      "AHM: 100%|██████████| 55/55 [00:03<00:00, 17.08it/s]\n",
      "DD5: 100%|██████████| 55/55 [00:03<00:00, 16.91it/s]\n",
      "EMT: 100%|██████████| 55/55 [00:03<00:00, 16.97it/s]\n",
      "bFFP: 100%|██████████| 55/55 [00:03<00:00, 16.75it/s]\n",
      "DD_0: 100%|██████████| 55/55 [00:03<00:00, 16.90it/s]\n",
      "MWMT: 100%|██████████| 55/55 [00:03<00:00, 16.82it/s]\n",
      "CMD: 100%|██████████| 55/55 [00:03<00:00, 17.09it/s]\n",
      "eFFP: 100%|██████████| 55/55 [00:03<00:00, 17.01it/s]\n",
      "TD: 100%|██████████| 55/55 [00:03<00:00, 17.18it/s]\n",
      "MAT: 100%|██████████| 55/55 [00:03<00:00, 16.99it/s]\n",
      "PAS: 100%|██████████| 55/55 [00:03<00:00, 16.78it/s]\n",
      "Eref: 100%|██████████| 55/55 [00:03<00:00, 16.87it/s]\n",
      "NFFD: 100%|██████████| 55/55 [00:03<00:00, 16.76it/s]\n",
      "SHM: 100%|██████████| 55/55 [00:03<00:00, 17.11it/s]\n",
      "MSP: 100%|██████████| 55/55 [00:03<00:00, 17.10it/s]\n"
     ]
    }
   ],
   "source": [
    "# make sure that there are no ranks repeated\n",
    "for env,df in envdfs.items():\n",
    "    for col in nb(df.columns, desc=env):\n",
    "        if col.startswith('rank') and 'consistency' not in col:\n",
    "            assert nrow(df) == luni(df[col])"
   ]
  },
  {
   "cell_type": "code",
   "execution_count": 69,
   "metadata": {},
   "outputs": [],
   "source": [
    "def write_file(df, file, sep='\\t', index=False):\n",
    "    import pandas\n",
    "    df['locus'] = df.index.tolist()\n",
    "    df = df[['locus'] + [col for col in df.columns if col != 'locus']]\n",
    "    df.to_csv(file, sep=sep, index=index)\n",
    "    return file"
   ]
  },
  {
   "cell_type": "code",
   "execution_count": 70,
   "metadata": {},
   "outputs": [
    {
     "data": {
      "text/plain": [
       "'/lu213/brandon.lind/projects/pool_seq/DF_datasets/DF_pooled_GEA/DF_pooled/snpsANDindels/coastal_variety_with-p6/03_maf-p05_RD-recalculated_FDC/baypass/final_results'"
      ]
     },
     "execution_count": 70,
     "metadata": {},
     "output_type": "execute_result"
    }
   ],
   "source": [
    "finaldir = makedir(op.join(baydir, 'final_results'))\n",
    "finaldir"
   ]
  },
  {
   "cell_type": "code",
   "execution_count": 71,
   "metadata": {},
   "outputs": [
    {
     "name": "stderr",
     "output_type": "stream",
     "text": [
      "100%|██████████| 19/19 [00:37<00:00,  1.98s/it]\n"
     ]
    },
    {
     "name": "stdout",
     "output_type": "stream",
     "text": [
      "\u001b[1m\n",
      "Watching 19 final jobs ...\u001b[0m\n"
     ]
    },
    {
     "name": "stderr",
     "output_type": "stream",
     "text": [
      "final: 100%|██████████| 19/19 [01:45<00:00,  5.53s/it]\n"
     ]
    }
   ],
   "source": [
    "# save files - overwrite previous saved files that included newREPEATS\n",
    "jobs = []\n",
    "for env,df in nb(envdfs.items()):\n",
    "    file = op.join(finaldir, f'coastal_maf-p05_RD-recalculated_ADP-lt-1000_{env}.txt')\n",
    "    jobs.append(lview.apply_async(write_file, *(df, file)))\n",
    "watch_async(jobs, phase='final')"
   ]
  },
  {
   "cell_type": "code",
   "execution_count": 72,
   "metadata": {},
   "outputs": [],
   "source": [
    "# save pkl for easy loading\n",
    "pkldump(envdfs, op.join(finaldir, 'envdfs_after_ranking.pkl'))"
   ]
  },
  {
   "cell_type": "code",
   "execution_count": 123,
   "metadata": {},
   "outputs": [
    {
     "name": "stdout",
     "output_type": "stream",
     "text": [
      "\u001b[92m\u001b[1mCoastal\n",
      "\u001b[0m\u001b[0m\n",
      "Env   BFConsistent20  BFConsistent15  BFMean20\t  BFMean15   BFMean13  \tRankConsistent\n",
      "AHM \t 182 \t\t 569 \t\t 200 \t    641 \t 1058 \t 17043\n",
      "CMD \t 1586 \t\t 4582 \t\t 1727 \t    4980 \t 7546 \t 19101\n",
      "DD5 \t 139 \t\t 561 \t\t 156 \t    643 \t 1134 \t 16972\n",
      "DD_0 \t 380 \t\t 1184 \t\t 410 \t    1311 \t 2125 \t 18136\n",
      "EMT \t 265 \t\t 711 \t\t 282 \t    784 \t 1280 \t 17812\n",
      "EXT \t 329 \t\t 1235 \t\t 371 \t    1376 \t 2309 \t 17814\n",
      "Eref \t 2627 \t\t 7917 \t\t 2908 \t    8576 \t 12977 \t 19239\n",
      "FFP \t 61 \t\t 187 \t\t 58 \t    210 \t 359 \t 15744\n",
      "MAP \t 159 \t\t 610 \t\t 185 \t    681 \t 1172 \t 17731\n",
      "MAT \t 143 \t\t 556 \t\t 147 \t    608 \t 1043 \t 17027\n",
      "MCMT \t 383 \t\t 1069 \t\t 417 \t    1178 \t 1857 \t 18157\n",
      "MSP \t 408 \t\t 1403 \t\t 433 \t    1532 \t 2549 \t 18015\n",
      "MWMT \t 338 \t\t 1258 \t\t 394 \t    1377 \t 2268 \t 17796\n",
      "NFFD \t 88 \t\t 290 \t\t 99 \t    308 \t 522 \t 16416\n",
      "PAS \t 104 \t\t 326 \t\t 117 \t    352 \t 631 \t 16274\n",
      "SHM \t 916 \t\t 2225 \t\t 983 \t    2425 \t 3522 \t 16874\n",
      "TD \t 613 \t\t 1426 \t\t 644 \t    1515 \t 2228 \t 18489\n",
      "bFFP \t 52 \t\t 154 \t\t 48 \t    176 \t 303 \t 15520\n",
      "eFFP \t 100 \t\t 345 \t\t 110 \t    378 \t 640 \t 16381\n"
     ]
    }
   ],
   "source": [
    "# print table with outliers based on several criteria\n",
    "print(ColorText('Coastal\\n').bold().green())\n",
    "print('Env   BFConsistent20  BFConsistent15  BFMean20\\t  BFMean15   BFMean13  \\tRankConsistent')\n",
    "for env in sorted(envdfs.keys()):\n",
    "    df = envdfs[env]\n",
    "    print(env,\n",
    "          '\\t',sum(df['BF(dB)_gte20_for-gte3chains']),\n",
    "          '\\t\\t',sum(df['BF(dB)_gte15_for-gte3chains']),\n",
    "          '\\t\\t',sum(df['mean_BF(dB)']>=20),\n",
    "          '\\t   ',sum(df['mean_BF(dB)']>=15),\n",
    "          '\\t',sum(df['mean_BF(dB)']>=13),\n",
    "          '\\t', sum(df['rank_consistency_top1perc_for-gte3chains']))"
   ]
  },
  {
   "cell_type": "code",
   "execution_count": 125,
   "metadata": {},
   "outputs": [
    {
     "data": {
      "text/plain": [
       "22540.11"
      ]
     },
     "execution_count": 125,
     "metadata": {},
     "output_type": "execute_result"
    }
   ],
   "source": [
    "# what should I expect for the number in top 1%?\n",
    "0.01*nrow(df)"
   ]
  },
  {
   "cell_type": "markdown",
   "metadata": {},
   "source": [
    "# look at BF scores for consistent top 1% ranks"
   ]
  },
  {
   "cell_type": "code",
   "execution_count": 4,
   "metadata": {},
   "outputs": [
    {
     "name": "stdout",
     "output_type": "stream",
     "text": [
      "##################################################################\n",
      "Current commit of pythonimports:\n",
      "commit 1d94048244f2d15d6762e0ff2f8b0cb43dcfa848\n",
      "Author: Brandon <lindb@vcu.edu>\n",
      "Date:   Tue Dec 22 12:16:15 2020 -0700\n",
      "Today:\tDecember 31, 2020 - 13:39:34\n",
      "##################################################################\n",
      "\n"
     ]
    }
   ],
   "source": [
    "latest_commit()"
   ]
  },
  {
   "cell_type": "code",
   "execution_count": 5,
   "metadata": {},
   "outputs": [],
   "source": [
    "from collections import defaultdict"
   ]
  },
  {
   "cell_type": "code",
   "execution_count": 6,
   "metadata": {},
   "outputs": [],
   "source": [
    "# reload data\n",
    "finaldir = op.join(baydir, 'final_results')\n",
    "envdfs = pklload(op.join(finaldir, 'envdfs_after_ranking.pkl'))"
   ]
  },
  {
   "cell_type": "code",
   "execution_count": 7,
   "metadata": {
    "scrolled": false
   },
   "outputs": [
    {
     "name": "stdout",
     "output_type": "stream",
     "text": [
      "\u001b[1mMAP\u001b[0m 17731\n",
      "\tnumber of loci with meanBF >= 0 :  17731 (True)\n",
      "\tnumber of loci with meanBF >= 10 :  2582\n",
      "\tnumber of loci with meanBF >= 15 :  681\n",
      "\tnumber of loci with meanBF >= 20 :  185\n",
      "\tfraction of BF >= 15 :  0.04\n",
      "\tfraction of BF >= 10 :  0.15\n"
     ]
    },
    {
     "data": {
      "image/png": "[encoded data removed]",
      "text/plain": [
       "<Figure size 432x288 with 1 Axes>"
      ]
     },
     "metadata": {
      "needs_background": "light"
     },
     "output_type": "display_data"
    },
    {
     "name": "stdout",
     "output_type": "stream",
     "text": [
      "\n",
      "\n",
      "\u001b[1mMCMT\u001b[0m 18157\n",
      "\tnumber of loci with meanBF >= 0 :  18157 (True)\n",
      "\tnumber of loci with meanBF >= 10 :  3906\n",
      "\tnumber of loci with meanBF >= 15 :  1178\n",
      "\tnumber of loci with meanBF >= 20 :  417\n",
      "\tfraction of BF >= 15 :  0.06\n",
      "\tfraction of BF >= 10 :  0.22\n"
     ]
    },
    {
     "data": {
      "image/png": "[encoded data removed]",
      "text/plain": [
       "<Figure size 432x288 with 1 Axes>"
      ]
     },
     "metadata": {
      "needs_background": "light"
     },
     "output_type": "display_data"
    },
    {
     "name": "stdout",
     "output_type": "stream",
     "text": [
      "\n",
      "\n",
      "\u001b[1mFFP\u001b[0m 15744\n",
      "\tnumber of loci with meanBF >= 0 :  15410 (False)\n",
      "\tnumber of loci with meanBF >= 10 :  876\n",
      "\tnumber of loci with meanBF >= 15 :  210\n",
      "\tnumber of loci with meanBF >= 20 :  58\n",
      "\tfraction of BF >= 15 :  0.01\n",
      "\tfraction of BF >= 10 :  0.06\n"
     ]
    },
    {
     "data": {
      "image/png": "[encoded data removed]",
      "text/plain": [
       "<Figure size 432x288 with 1 Axes>"
      ]
     },
     "metadata": {
      "needs_background": "light"
     },
     "output_type": "display_data"
    },
    {
     "name": "stdout",
     "output_type": "stream",
     "text": [
      "\n",
      "\n",
      "\u001b[1mEXT\u001b[0m 17814\n",
      "\tnumber of loci with meanBF >= 0 :  17814 (True)\n",
      "\tnumber of loci with meanBF >= 10 :  5307\n",
      "\tnumber of loci with meanBF >= 15 :  1376\n",
      "\tnumber of loci with meanBF >= 20 :  371\n",
      "\tfraction of BF >= 15 :  0.08\n",
      "\tfraction of BF >= 10 :  0.3\n"
     ]
    },
    {
     "data": {
      "image/png": "[encoded data removed]",
      "text/plain": [
       "<Figure size 432x288 with 1 Axes>"
      ]
     },
     "metadata": {
      "needs_background": "light"
     },
     "output_type": "display_data"
    },
    {
     "name": "stdout",
     "output_type": "stream",
     "text": [
      "\n",
      "\n",
      "\u001b[1mAHM\u001b[0m 17043\n",
      "\tnumber of loci with meanBF >= 0 :  17028 (False)\n",
      "\tnumber of loci with meanBF >= 10 :  2278\n",
      "\tnumber of loci with meanBF >= 15 :  641\n",
      "\tnumber of loci with meanBF >= 20 :  200\n",
      "\tfraction of BF >= 15 :  0.04\n",
      "\tfraction of BF >= 10 :  0.13\n"
     ]
    },
    {
     "data": {
      "image/png": "[encoded data removed]",
      "text/plain": [
       "<Figure size 432x288 with 1 Axes>"
      ]
     },
     "metadata": {
      "needs_background": "light"
     },
     "output_type": "display_data"
    },
    {
     "name": "stdout",
     "output_type": "stream",
     "text": [
      "\n",
      "\n",
      "\u001b[1mDD5\u001b[0m 16972\n",
      "\tnumber of loci with meanBF >= 0 :  16968 (False)\n",
      "\tnumber of loci with meanBF >= 10 :  2615\n",
      "\tnumber of loci with meanBF >= 15 :  643\n",
      "\tnumber of loci with meanBF >= 20 :  156\n",
      "\tfraction of BF >= 15 :  0.04\n",
      "\tfraction of BF >= 10 :  0.15\n"
     ]
    },
    {
     "data": {
      "image/png": "[encoded data removed]",
      "text/plain": [
       "<Figure size 432x288 with 1 Axes>"
      ]
     },
     "metadata": {
      "needs_background": "light"
     },
     "output_type": "display_data"
    },
    {
     "name": "stdout",
     "output_type": "stream",
     "text": [
      "\n",
      "\n",
      "\u001b[1mEMT\u001b[0m 17812\n",
      "\tnumber of loci with meanBF >= 0 :  17812 (True)\n",
      "\tnumber of loci with meanBF >= 10 :  2781\n",
      "\tnumber of loci with meanBF >= 15 :  784\n",
      "\tnumber of loci with meanBF >= 20 :  282\n",
      "\tfraction of BF >= 15 :  0.04\n",
      "\tfraction of BF >= 10 :  0.16\n"
     ]
    },
    {
     "data": {
      "image/png": "[encoded data removed]",
      "text/plain": [
       "<Figure size 432x288 with 1 Axes>"
      ]
     },
     "metadata": {
      "needs_background": "light"
     },
     "output_type": "display_data"
    },
    {
     "name": "stdout",
     "output_type": "stream",
     "text": [
      "\n",
      "\n",
      "\u001b[1mbFFP\u001b[0m 15520\n",
      "\tnumber of loci with meanBF >= 0 :  14827 (False)\n",
      "\tnumber of loci with meanBF >= 10 :  755\n",
      "\tnumber of loci with meanBF >= 15 :  176\n",
      "\tnumber of loci with meanBF >= 20 :  48\n",
      "\tfraction of BF >= 15 :  0.01\n",
      "\tfraction of BF >= 10 :  0.05\n"
     ]
    },
    {
     "data": {
      "image/png": "[encoded data removed]",
      "text/plain": [
       "<Figure size 432x288 with 1 Axes>"
      ]
     },
     "metadata": {
      "needs_background": "light"
     },
     "output_type": "display_data"
    },
    {
     "name": "stdout",
     "output_type": "stream",
     "text": [
      "\n",
      "\n",
      "\u001b[1mDD_0\u001b[0m 18136\n",
      "\tnumber of loci with meanBF >= 0 :  18136 (True)\n",
      "\tnumber of loci with meanBF >= 10 :  4428\n",
      "\tnumber of loci with meanBF >= 15 :  1311\n",
      "\tnumber of loci with meanBF >= 20 :  410\n",
      "\tfraction of BF >= 15 :  0.07\n",
      "\tfraction of BF >= 10 :  0.24\n"
     ]
    },
    {
     "data": {
      "image/png": "[encoded data removed]",
      "text/plain": [
       "<Figure size 432x288 with 1 Axes>"
      ]
     },
     "metadata": {
      "needs_background": "light"
     },
     "output_type": "display_data"
    },
    {
     "name": "stdout",
     "output_type": "stream",
     "text": [
      "\n",
      "\n",
      "\u001b[1mMWMT\u001b[0m 17796\n",
      "\tnumber of loci with meanBF >= 0 :  17796 (True)\n",
      "\tnumber of loci with meanBF >= 10 :  4845\n",
      "\tnumber of loci with meanBF >= 15 :  1377\n",
      "\tnumber of loci with meanBF >= 20 :  394\n",
      "\tfraction of BF >= 15 :  0.08\n",
      "\tfraction of BF >= 10 :  0.27\n"
     ]
    },
    {
     "data": {
      "image/png": "[encoded data removed]",
      "text/plain": [
       "<Figure size 432x288 with 1 Axes>"
      ]
     },
     "metadata": {
      "needs_background": "light"
     },
     "output_type": "display_data"
    },
    {
     "name": "stdout",
     "output_type": "stream",
     "text": [
      "\n",
      "\n",
      "\u001b[1mCMD\u001b[0m 19101\n",
      "\tnumber of loci with meanBF >= 0 :  19101 (True)\n",
      "\tnumber of loci with meanBF >= 10 :  14127\n",
      "\tnumber of loci with meanBF >= 15 :  4980\n",
      "\tnumber of loci with meanBF >= 20 :  1727\n",
      "\tfraction of BF >= 15 :  0.26\n",
      "\tfraction of BF >= 10 :  0.74\n"
     ]
    },
    {
     "data": {
      "image/png": "[encoded data removed]",
      "text/plain": [
       "<Figure size 432x288 with 1 Axes>"
      ]
     },
     "metadata": {
      "needs_background": "light"
     },
     "output_type": "display_data"
    },
    {
     "name": "stdout",
     "output_type": "stream",
     "text": [
      "\n",
      "\n",
      "\u001b[1meFFP\u001b[0m 16381\n",
      "\tnumber of loci with meanBF >= 0 :  16350 (False)\n",
      "\tnumber of loci with meanBF >= 10 :  1407\n",
      "\tnumber of loci with meanBF >= 15 :  378\n",
      "\tnumber of loci with meanBF >= 20 :  110\n",
      "\tfraction of BF >= 15 :  0.02\n",
      "\tfraction of BF >= 10 :  0.09\n"
     ]
    },
    {
     "data": {
      "image/png": "[encoded data removed]",
      "text/plain": [
       "<Figure size 432x288 with 1 Axes>"
      ]
     },
     "metadata": {
      "needs_background": "light"
     },
     "output_type": "display_data"
    },
    {
     "name": "stdout",
     "output_type": "stream",
     "text": [
      "\n",
      "\n",
      "\u001b[1mTD\u001b[0m 18489\n",
      "\tnumber of loci with meanBF >= 0 :  18488 (False)\n",
      "\tnumber of loci with meanBF >= 10 :  4200\n",
      "\tnumber of loci with meanBF >= 15 :  1515\n",
      "\tnumber of loci with meanBF >= 20 :  644\n",
      "\tfraction of BF >= 15 :  0.08\n",
      "\tfraction of BF >= 10 :  0.23\n"
     ]
    },
    {
     "data": {
      "image/png": "[encoded data removed]",
      "text/plain": [
       "<Figure size 432x288 with 1 Axes>"
      ]
     },
     "metadata": {
      "needs_background": "light"
     },
     "output_type": "display_data"
    },
    {
     "name": "stdout",
     "output_type": "stream",
     "text": [
      "\n",
      "\n",
      "\u001b[1mMAT\u001b[0m 17027\n",
      "\tnumber of loci with meanBF >= 0 :  17027 (True)\n",
      "\tnumber of loci with meanBF >= 10 :  2512\n",
      "\tnumber of loci with meanBF >= 15 :  608\n",
      "\tnumber of loci with meanBF >= 20 :  147\n",
      "\tfraction of BF >= 15 :  0.04\n",
      "\tfraction of BF >= 10 :  0.15\n"
     ]
    },
    {
     "data": {
      "image/png": "[encoded data removed]",
      "text/plain": [
       "<Figure size 432x288 with 1 Axes>"
      ]
     },
     "metadata": {
      "needs_background": "light"
     },
     "output_type": "display_data"
    },
    {
     "name": "stdout",
     "output_type": "stream",
     "text": [
      "\n",
      "\n",
      "\u001b[1mPAS\u001b[0m 16274\n",
      "\tnumber of loci with meanBF >= 0 :  16254 (False)\n",
      "\tnumber of loci with meanBF >= 10 :  1507\n",
      "\tnumber of loci with meanBF >= 15 :  352\n",
      "\tnumber of loci with meanBF >= 20 :  117\n",
      "\tfraction of BF >= 15 :  0.02\n",
      "\tfraction of BF >= 10 :  0.09\n"
     ]
    },
    {
     "data": {
      "image/png": "[encoded data removed]",
      "text/plain": [
       "<Figure size 432x288 with 1 Axes>"
      ]
     },
     "metadata": {
      "needs_background": "light"
     },
     "output_type": "display_data"
    },
    {
     "name": "stdout",
     "output_type": "stream",
     "text": [
      "\n",
      "\n",
      "\u001b[1mEref\u001b[0m 19239\n",
      "\tnumber of loci with meanBF >= 0 :  19239 (True)\n",
      "\tnumber of loci with meanBF >= 10 :  19169\n",
      "\tnumber of loci with meanBF >= 15 :  8572\n",
      "\tnumber of loci with meanBF >= 20 :  2908\n",
      "\tfraction of BF >= 15 :  0.45\n",
      "\tfraction of BF >= 10 :  1.0\n",
      "\u001b[1m\u001b[93m\tnot all SNPs with BF >= 15 are consistently in top 1% : full (8576) vs 1% (8572) (diff = 4)\u001b[0m\u001b[0m\n"
     ]
    },
    {
     "data": {
      "image/png": "[encoded data removed]",
      "text/plain": [
       "<Figure size 432x288 with 1 Axes>"
      ]
     },
     "metadata": {
      "needs_background": "light"
     },
     "output_type": "display_data"
    },
    {
     "name": "stdout",
     "output_type": "stream",
     "text": [
      "\n",
      "\n",
      "\u001b[1mNFFD\u001b[0m 16416\n",
      "\tnumber of loci with meanBF >= 0 :  16376 (False)\n",
      "\tnumber of loci with meanBF >= 10 :  1288\n",
      "\tnumber of loci with meanBF >= 15 :  308\n",
      "\tnumber of loci with meanBF >= 20 :  99\n",
      "\tfraction of BF >= 15 :  0.02\n",
      "\tfraction of BF >= 10 :  0.08\n"
     ]
    },
    {
     "data": {
      "image/png": "[encoded data removed]",
      "text/plain": [
       "<Figure size 432x288 with 1 Axes>"
      ]
     },
     "metadata": {
      "needs_background": "light"
     },
     "output_type": "display_data"
    },
    {
     "name": "stdout",
     "output_type": "stream",
     "text": [
      "\n",
      "\n",
      "\u001b[1mSHM\u001b[0m 16874\n",
      "\tnumber of loci with meanBF >= 0 :  16874 (True)\n",
      "\tnumber of loci with meanBF >= 10 :  6577\n",
      "\tnumber of loci with meanBF >= 15 :  2425\n",
      "\tnumber of loci with meanBF >= 20 :  983\n",
      "\tfraction of BF >= 15 :  0.14\n",
      "\tfraction of BF >= 10 :  0.39\n"
     ]
    },
    {
     "data": {
      "image/png": "[encoded data removed]",
      "text/plain": [
       "<Figure size 432x288 with 1 Axes>"
      ]
     },
     "metadata": {
      "needs_background": "light"
     },
     "output_type": "display_data"
    },
    {
     "name": "stdout",
     "output_type": "stream",
     "text": [
      "\n",
      "\n",
      "\u001b[1mMSP\u001b[0m 18015\n",
      "\tnumber of loci with meanBF >= 0 :  18015 (True)\n",
      "\tnumber of loci with meanBF >= 10 :  5401\n",
      "\tnumber of loci with meanBF >= 15 :  1532\n",
      "\tnumber of loci with meanBF >= 20 :  433\n",
      "\tfraction of BF >= 15 :  0.09\n",
      "\tfraction of BF >= 10 :  0.3\n"
     ]
    },
    {
     "data": {
      "image/png": "[encoded data removed]",
      "text/plain": [
       "<Figure size 432x288 with 1 Axes>"
      ]
     },
     "metadata": {
      "needs_background": "light"
     },
     "output_type": "display_data"
    },
    {
     "name": "stdout",
     "output_type": "stream",
     "text": [
      "\n",
      "\n",
      "\u001b[1m\n",
      "Fraction of meanBF >=15 across envs\u001b[0m\n"
     ]
    },
    {
     "data": {
      "image/png": "[encoded data removed]",
      "text/plain": [
       "<Figure size 432x288 with 1 Axes>"
      ]
     },
     "metadata": {
      "needs_background": "light"
     },
     "output_type": "display_data"
    },
    {
     "data": {
      "text/html": [
       "<div>\n",
       "<style scoped>\n",
       "    .dataframe tbody tr th:only-of-type {\n",
       "        vertical-align: middle;\n",
       "    }\n",
       "\n",
       "    .dataframe tbody tr th {\n",
       "        vertical-align: top;\n",
       "    }\n",
       "\n",
       "    .dataframe thead th {\n",
       "        text-align: right;\n",
       "    }\n",
       "</style>\n",
       "<table border=\"1\" class=\"dataframe\">\n",
       "  <thead>\n",
       "    <tr style=\"text-align: right;\">\n",
       "      <th></th>\n",
       "      <th>MAP</th>\n",
       "      <th>MCMT</th>\n",
       "      <th>FFP</th>\n",
       "      <th>EXT</th>\n",
       "      <th>AHM</th>\n",
       "      <th>DD5</th>\n",
       "      <th>EMT</th>\n",
       "      <th>bFFP</th>\n",
       "      <th>DD_0</th>\n",
       "      <th>MWMT</th>\n",
       "      <th>CMD</th>\n",
       "      <th>eFFP</th>\n",
       "      <th>TD</th>\n",
       "      <th>MAT</th>\n",
       "      <th>PAS</th>\n",
       "      <th>Eref</th>\n",
       "      <th>NFFD</th>\n",
       "      <th>SHM</th>\n",
       "      <th>MSP</th>\n",
       "    </tr>\n",
       "  </thead>\n",
       "  <tbody>\n",
       "    <tr>\n",
       "      <th>0</th>\n",
       "      <td>0.04</td>\n",
       "      <td>0.06</td>\n",
       "      <td>0.01</td>\n",
       "      <td>0.08</td>\n",
       "      <td>0.04</td>\n",
       "      <td>0.04</td>\n",
       "      <td>0.04</td>\n",
       "      <td>0.01</td>\n",
       "      <td>0.07</td>\n",
       "      <td>0.08</td>\n",
       "      <td>0.26</td>\n",
       "      <td>0.02</td>\n",
       "      <td>0.08</td>\n",
       "      <td>0.04</td>\n",
       "      <td>0.02</td>\n",
       "      <td>0.45</td>\n",
       "      <td>0.02</td>\n",
       "      <td>0.14</td>\n",
       "      <td>0.09</td>\n",
       "    </tr>\n",
       "  </tbody>\n",
       "</table>\n",
       "</div>"
      ],
      "text/plain": [
       "    MAP  MCMT   FFP   EXT   AHM   DD5   EMT  bFFP  DD_0  MWMT   CMD  eFFP  \\\n",
       "0  0.04  0.06  0.01  0.08  0.04  0.04  0.04  0.01  0.07  0.08  0.26  0.02   \n",
       "\n",
       "     TD   MAT   PAS  Eref  NFFD   SHM   MSP  \n",
       "0  0.08  0.04  0.02  0.45  0.02  0.14  0.09  "
      ]
     },
     "execution_count": 7,
     "metadata": {},
     "output_type": "execute_result"
    }
   ],
   "source": [
    "# for **ONLY** those loci that are consistently ranked in top 1%\n",
    "# print histograms of bayes factor for each environment\n",
    "# print fraction of top 1%BFs that have BF ≥ 15 or BF ≥ 20\n",
    "# also look at histogram for BFs < 100\n",
    "\n",
    "# also count number of loci across all SNPs that have BF ≥ 15 or BF ≥ 20, print if count doesn't match top 1%\n",
    "fracs = defaultdict(dict)\n",
    "for env,df in envdfs.items():\n",
    "    df = df[df['rank_consistency_top1perc_for-gte3chains'] == True]\n",
    "    BFs = df['mean_BF(dB)']\n",
    "    small15 = sum(BFs >= 15)\n",
    "    small20 = sum(BFs >= 20)\n",
    "    print(ColorText(env).bold(), nrow(df))\n",
    "    print('\\tnumber of loci with meanBF >= 0 : ', sum(BFs >= 0), \"(%s)\" % str(sum(BFs >= 0) == nrow(df)))\n",
    "    print('\\tnumber of loci with meanBF >= 10 : ', sum(BFs >= 10))\n",
    "    print('\\tnumber of loci with meanBF >= 15 : ', small15)\n",
    "    print('\\tnumber of loci with meanBF >= 20 : ', small20)\n",
    "    frac = round(sum(BFs >= 15)/nrow(df), 2)\n",
    "    frac2 = round(sum(BFs >= 10)/nrow(df), 2)\n",
    "    fracs[env][0] = frac\n",
    "    print('\\tfraction of BF >= 15 : ', frac)\n",
    "    print('\\tfraction of BF >= 10 : ', frac2)\n",
    "    sum15 = sum(envdfs[env]['mean_BF(dB)'] >= 15)\n",
    "    sum20 = sum(envdfs[env]['mean_BF(dB)'] >= 20)\n",
    "    if small15 != sum15:\n",
    "        text = '\\tnot all SNPs with BF >= 15 are consistently in top 1%'\n",
    "        print(ColorText(f\"{text} : full ({sum15}) vs 1% ({small15}) (diff = {sum15 - small15})\").warn().bold())\n",
    "    if small20 != sum20:\n",
    "        text = '\\tnot all SNPs with BF >= 20 are consistently in top 1%'\n",
    "        print(ColorText(f\"{text} : full ({sum20}) vs 1% ({small20}) (diff = {sum20 - small20})\").warn().bold())\n",
    "    plt.hist(BFs[BFs<100], bins=100)\n",
    "    plt.title('number of loci with BF < 100')\n",
    "    plt.show()\n",
    "    print('\\n')\n",
    "\n",
    "# create histogram for fraction of SNPs in consistent top 1% across environments\n",
    "print(ColorText('\\nFraction of meanBF >=15 across envs').bold())\n",
    "fracdf = pd.DataFrame(fracs)\n",
    "plt.hist(fracdf.loc[0,:])\n",
    "plt.xlabel('fraction')\n",
    "plt.show()\n",
    "fracdf"
   ]
  },
  {
   "cell_type": "code",
   "execution_count": null,
   "metadata": {},
   "outputs": [],
   "source": []
  },
  {
   "cell_type": "code",
   "execution_count": null,
   "metadata": {},
   "outputs": [],
   "source": []
  },
  {
   "cell_type": "code",
   "execution_count": null,
   "metadata": {},
   "outputs": [],
   "source": []
  },
  {
   "cell_type": "code",
   "execution_count": null,
   "metadata": {},
   "outputs": [],
   "source": []
  },
  {
   "cell_type": "code",
   "execution_count": null,
   "metadata": {},
   "outputs": [],
   "source": []
  },
  {
   "cell_type": "code",
   "execution_count": null,
   "metadata": {},
   "outputs": [],
   "source": []
  },
  {
   "cell_type": "code",
   "execution_count": null,
   "metadata": {},
   "outputs": [],
   "source": []
  },
  {
   "cell_type": "code",
   "execution_count": null,
   "metadata": {},
   "outputs": [],
   "source": []
  },
  {
   "cell_type": "code",
   "execution_count": null,
   "metadata": {},
   "outputs": [],
   "source": []
  },
  {
   "cell_type": "code",
   "execution_count": null,
   "metadata": {},
   "outputs": [],
   "source": []
  },
  {
   "cell_type": "code",
   "execution_count": null,
   "metadata": {},
   "outputs": [],
   "source": []
  },
  {
   "cell_type": "code",
   "execution_count": null,
   "metadata": {},
   "outputs": [],
   "source": []
  },
  {
   "cell_type": "code",
   "execution_count": null,
   "metadata": {},
   "outputs": [],
   "source": []
  },
  {
   "cell_type": "code",
   "execution_count": null,
   "metadata": {},
   "outputs": [],
   "source": []
  },
  {
   "cell_type": "code",
   "execution_count": null,
   "metadata": {},
   "outputs": [],
   "source": []
  },
  {
   "cell_type": "code",
   "execution_count": null,
   "metadata": {},
   "outputs": [],
   "source": []
  },
  {
   "cell_type": "code",
   "execution_count": null,
   "metadata": {},
   "outputs": [],
   "source": []
  },
  {
   "cell_type": "code",
   "execution_count": null,
   "metadata": {},
   "outputs": [],
   "source": []
  },
  {
   "cell_type": "code",
   "execution_count": null,
   "metadata": {},
   "outputs": [],
   "source": []
  },
  {
   "cell_type": "code",
   "execution_count": null,
   "metadata": {},
   "outputs": [],
   "source": []
  },
  {
   "cell_type": "code",
   "execution_count": null,
   "metadata": {},
   "outputs": [],
   "source": []
  },
  {
   "cell_type": "code",
   "execution_count": null,
   "metadata": {},
   "outputs": [],
   "source": []
  }
 ],
 "metadata": {
  "kernelspec": {
   "display_name": "Python 3",
   "language": "python",
   "name": "python3"
  },
  "language_info": {
   "codemirror_mode": {
    "name": "ipython",
    "version": 3
   },
   "file_extension": ".py",
   "mimetype": "text/x-python",
   "name": "python",
   "nbconvert_exporter": "python",
   "pygments_lexer": "ipython3",
   "version": "3.8.5"
  }
 },
 "nbformat": 4,
 "nbformat_minor": 4
}
