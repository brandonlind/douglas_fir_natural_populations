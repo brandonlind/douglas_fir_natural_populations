{
 "cells": [
  {
   "cell_type": "markdown",
   "metadata": {},
   "source": [
    "This notebook best viewed here: https://nbviewer.jupyter.org"
   ]
  },
  {
   "cell_type": "markdown",
   "metadata": {},
   "source": [
    " "
   ]
  },
  {
   "cell_type": "markdown",
   "metadata": {},
   "source": [
    " "
   ]
  },
  {
   "cell_type": "markdown",
   "metadata": {},
   "source": [
    " "
   ]
  },
  {
   "cell_type": "markdown",
   "metadata": {},
   "source": [
    "<a id='home'></a>\n",
    "This notebook is for the interior variety of Douglas fir GEA mapping pops\n",
    "\n",
    "#### Purpose\n",
    "• I've run the baypass commands across four servers, I need to gather the jobs and concatenate results.\n",
    "\n",
    "#### Notebook outline\n",
    "\n",
    "1. [rsync files from servers](#rsync)\n",
    "    - I execute the rsync commands to transfer files from the executing servers to our lab server\n",
    "1. [ensure complete transfer](#ensure)\n",
    "    - given the number of gfiles and chains, make sure all of the commands have been executed/transferred\n",
    "\n",
    "1. [gather all of the wanted resfiles and concat into single dataframes](#combine)\n",
    "    - gather the files with BF, label SNP IDs, label environmental covariables, and concat into single dataframe\n",
    "    \n",
    "    \n",
    "1. [rank loci](#rank)\n",
    "    - Rank each locus for each chain by descending BF(dB) score\n",
    "    - Caclulate mean BF(dB) across 5 chains, rank each locus based on mean\n",
    "    - Create boolean column with True if locus is ranked in top 1% for at least 3/5 chains\n",
    "    - Create boolean column with True if locus has BF(dB) >= 15 for at least 3/5 chains\n",
    "    - Create boolean column with True if locus has BF(dB) >= 20 for at least 3/5 chains\n",
    "    \n",
    "1. [look at BF scores for consistent top 1% ranks](#consistent)\n",
    "    - explore the top 1% of ranks\n",
    "    - count number of SNPs >= BF(dB) thresholds {15, 20}, print if not all SNPs >= thresh are consistently in top 1% across chains"
   ]
  },
  {
   "cell_type": "markdown",
   "metadata": {},
   "source": [
    "  "
   ]
  },
  {
   "cell_type": "markdown",
   "metadata": {},
   "source": [
    " "
   ]
  },
  {
   "cell_type": "markdown",
   "metadata": {},
   "source": [
    " "
   ]
  },
  {
   "cell_type": "code",
   "execution_count": 1,
   "metadata": {},
   "outputs": [],
   "source": [
    "from pythonimports import *"
   ]
  },
  {
   "cell_type": "code",
   "execution_count": 2,
   "metadata": {},
   "outputs": [],
   "source": [
    "# dir names\n",
    "baydir = '/lu213/brandon.lind/projects/pool_seq/DF_datasets/DF_pooled_GEA/DF_pooled/snpsANDindels/interior_variety_without-p6/03_maf-p05_RD-recalculated_FDI/baypass'\n",
    "assert op.exists(baydir)\n",
    "cmddir = op.join(baydir, 'cmd_files')\n",
    "rundir = op.join(cmddir, 'run_01')\n",
    "gfile_dir = op.join(baydir, 'individual_gfiles')\n",
    "shdir = op.join(cmddir, 'shfiles')\n",
    "resdir = op.join(cmddir, 'results')\n",
    "rsyncdir = makedir(op.join(baydir, 'rsync_files'))"
   ]
  },
  {
   "cell_type": "code",
   "execution_count": 3,
   "metadata": {},
   "outputs": [
    {
     "name": "stdout",
     "output_type": "stream",
     "text": [
      "56 56\n"
     ]
    }
   ],
   "source": [
    "lview,dview = get_client()"
   ]
  },
  {
   "cell_type": "markdown",
   "metadata": {},
   "source": [
    "<a id='rsync'></a>\n",
    "# rsync files from servers\n",
    "\n",
    "[top](#home)"
   ]
  },
  {
   "cell_type": "code",
   "execution_count": 4,
   "metadata": {},
   "outputs": [
    {
     "data": {
      "text/plain": [
       "['/lu213/brandon.lind/projects/pool_seq/DF_datasets/DF_pooled_GEA/DF_pooled/snpsANDindels/interior_variety_without-p6/03_maf-p05_RD-recalculated_FDI/baypass/rsync_files/beluga_rsync_cmds.txt']"
      ]
     },
     "execution_count": 4,
     "metadata": {},
     "output_type": "execute_result"
    }
   ],
   "source": [
    "fs(rsyncdir)"
   ]
  },
  {
   "cell_type": "code",
   "execution_count": 5,
   "metadata": {},
   "outputs": [],
   "source": [
    "def submit_cmds(cmds):\n",
    "    \"\"\"Execute a list of system commands in parallel. Return cmd if there was an error.\"\"\"\n",
    "    global jobs\n",
    "    jobs = []\n",
    "    for cmd in nb(cmds):\n",
    "        src,dst = cmd.split()[2:]\n",
    "        jobs.append(lview.apply_async(rsync, *(src, dst)))\n",
    "    watch_async(jobs)\n",
    "    \n",
    "    badcmds = []\n",
    "    for i,j in enumerate(jobs):\n",
    "        try:\n",
    "            x=j.r\n",
    "        except:\n",
    "            badcmds.append(cmds[i])\n",
    "    print('len(badcmds) = ', len(badcmds))\n",
    "    \n",
    "    return badcmds"
   ]
  },
  {
   "cell_type": "code",
   "execution_count": 6,
   "metadata": {},
   "outputs": [],
   "source": [
    "def check_realfiles(cmds, new=False):\n",
    "    \"\"\"Make sure all transferred files exist.\n",
    "    new is used if transferring the results from SNPs that were once REPEATS\n",
    "    \"\"\"\n",
    "    realfiles = []\n",
    "#     if new is True:\n",
    "#         rundir = newrundir\n",
    "#         gfile_dir = newgfiledir\n",
    "#         shdir = newshdir\n",
    "#         resdir = newresdir\n",
    "    for d in [rundir, gfile_dir, shdir, resdir]:\n",
    "        realfiles.extend(fs(d, dirs=False))\n",
    "    \n",
    "    expfiles = []\n",
    "    for cmd in cmds:\n",
    "        expfiles.append(cmd.split()[-1])\n",
    "    \n",
    "    print('len(realfiles) = ', len(realfiles))\n",
    "    print('len(expfiles) =', len(expfiles))\n",
    "    \n",
    "    needed = list(set(expfiles) - set(realfiles))\n",
    "    \n",
    "    print('needed = ', len(needed))\n",
    "    \n",
    "    needed_cmds = []\n",
    "    for n in needed:\n",
    "        for cmd in cmds:\n",
    "            if n in cmd:\n",
    "                needed_cmds.append(cmd)\n",
    "    print('needed_cmds = ', len(needed_cmds))\n",
    "    return needed_cmds"
   ]
  },
  {
   "cell_type": "markdown",
   "metadata": {},
   "source": [
    "#### cedar cmds"
   ]
  },
  {
   "cell_type": "code",
   "execution_count": 7,
   "metadata": {},
   "outputs": [
    {
     "data": {
      "text/plain": [
       "41920"
      ]
     },
     "execution_count": 7,
     "metadata": {},
     "output_type": "execute_result"
    }
   ],
   "source": [
    "# first from cedar\n",
    "cmds = read(op.join(rsyncdir, 'beluga_rsync_cmds.txt'))\n",
    "len(cmds)"
   ]
  },
  {
   "cell_type": "code",
   "execution_count": 8,
   "metadata": {},
   "outputs": [
    {
     "data": {
      "text/plain": [
       "['rsync',\n",
       " '-avz',\n",
       " 'beluga:/scratch/lindb/interior_baypass/cmd_files/shfiles/watcher.sh',\n",
       " '/lu213/brandon.lind/projects/pool_seq/DF_datasets/DF_pooled_GEA/DF_pooled/snpsANDindels/interior_variety_without-p6/03_maf-p05_RD-recalculated_FDI/baypass/cmd_files/shfiles/watcher.sh']"
      ]
     },
     "execution_count": 8,
     "metadata": {},
     "output_type": "execute_result"
    }
   ],
   "source": [
    "cmds[-1].split()"
   ]
  },
  {
   "cell_type": "code",
   "execution_count": 9,
   "metadata": {},
   "outputs": [
    {
     "data": {
      "text/plain": [
       "'/lu213/brandon.lind/projects/pool_seq/DF_datasets/DF_pooled_GEA/DF_pooled/snpsANDindels/interior_variety_without-p6/03_maf-p05_RD-recalculated_FDI/baypass/cmd_files/shfiles'"
      ]
     },
     "execution_count": 9,
     "metadata": {},
     "output_type": "execute_result"
    }
   ],
   "source": [
    "dirs = []\n",
    "for cmd in cmds:\n",
    "    newfile = cmd.split()[-1]\n",
    "    dname = op.dirname(newfile)\n",
    "    dirs.append(dname)\n",
    "for d in uni(dirs):\n",
    "    assert op.exists(d)\n",
    "d"
   ]
  },
  {
   "cell_type": "code",
   "execution_count": 10,
   "metadata": {},
   "outputs": [
    {
     "data": {
      "text/plain": [
       "['beluga:/scratch/lindb/interior_baypass/cmd_files/results/interior_all_snps_ADP-lt-1000_gfile_0000_chain_1_DIC.out',\n",
       " '/lu213/brandon.lind/projects/pool_seq/DF_datasets/DF_pooled_GEA/DF_pooled/snpsANDindels/interior_variety_without-p6/03_maf-p05_RD-recalculated_FDI/baypass/cmd_files/results/interior_all_snps_ADP-lt-1000_gfile_0000_chain_1_DIC.out']"
      ]
     },
     "execution_count": 10,
     "metadata": {},
     "output_type": "execute_result"
    }
   ],
   "source": [
    "cmds[0].split()[2:]"
   ]
  },
  {
   "cell_type": "code",
   "execution_count": 11,
   "metadata": {},
   "outputs": [
    {
     "name": "stderr",
     "output_type": "stream",
     "text": [
      "100%|██████████| 41920/41920 [01:44<00:00, 402.62it/s]\n"
     ]
    },
    {
     "name": "stdout",
     "output_type": "stream",
     "text": [
      "\u001b[1m\n",
      "Watching 41920 jobs ...\u001b[0m\n"
     ]
    },
    {
     "name": "stderr",
     "output_type": "stream",
     "text": [
      "100%|██████████| 41920/41920 [36:19<00:00, 19.23it/s] \n"
     ]
    },
    {
     "name": "stdout",
     "output_type": "stream",
     "text": [
      "len(badcmds) =  0\n"
     ]
    }
   ],
   "source": [
    "badcmds = submit_cmds(cmds)"
   ]
  },
  {
   "cell_type": "code",
   "execution_count": 12,
   "metadata": {},
   "outputs": [
    {
     "data": {
      "text/plain": [
       "0"
      ]
     },
     "execution_count": 12,
     "metadata": {},
     "output_type": "execute_result"
    }
   ],
   "source": [
    "len(badcmds)"
   ]
  },
  {
   "cell_type": "code",
   "execution_count": 13,
   "metadata": {
    "scrolled": true
   },
   "outputs": [
    {
     "name": "stdout",
     "output_type": "stream",
     "text": [
      "len(realfiles) =  45491\n",
      "len(expfiles) = 41920\n",
      "needed =  0\n",
      "needed_cmds =  0\n"
     ]
    },
    {
     "data": {
      "text/plain": [
       "0"
      ]
     },
     "execution_count": 13,
     "metadata": {},
     "output_type": "execute_result"
    }
   ],
   "source": [
    "needed = check_realfiles(cmds)\n",
    "len(needed)"
   ]
  },
  {
   "cell_type": "code",
   "execution_count": null,
   "metadata": {},
   "outputs": [],
   "source": [
    "badcmds = submit_cmds(needed)"
   ]
  },
  {
   "cell_type": "code",
   "execution_count": null,
   "metadata": {},
   "outputs": [],
   "source": []
  },
  {
   "cell_type": "markdown",
   "metadata": {},
   "source": [
    "<a id='ensure'></a>\n",
    "# ensure complete transfer\n",
    "given the number of gfiles and chains, make sure all of the commands have been executed/transferred\n",
    "\n",
    "[top](#home)"
   ]
  },
  {
   "cell_type": "markdown",
   "metadata": {},
   "source": [
    "#### first check to make sure every sh file was exececuted (ie, check that each has a slurm .out file)"
   ]
  },
  {
   "cell_type": "code",
   "execution_count": 14,
   "metadata": {},
   "outputs": [
    {
     "data": {
      "text/plain": [
       "(259, 259)"
      ]
     },
     "execution_count": 14,
     "metadata": {},
     "output_type": "execute_result"
    }
   ],
   "source": [
    "# the the shfiles and out files\n",
    "shfiles = fs(shdir, endswith='.sh', exclude='watcher')\n",
    "outs = fs(shdir, endswith='.out', exclude='watcher')\n",
    "len(shfiles), len(outs)"
   ]
  },
  {
   "cell_type": "code",
   "execution_count": 15,
   "metadata": {
    "scrolled": true
   },
   "outputs": [],
   "source": [
    "# which sh files were not run, print out any that weren't run\n",
    "pairs = {}\n",
    "for sh in shfiles:\n",
    "    pairs[sh] = []\n",
    "    for out in outs:\n",
    "        if op.basename(sh).split(\".\")[0] in out:\n",
    "            pairs[sh].append(out)\n",
    "needed = []\n",
    "for sh,outfiles in pairs.items():\n",
    "    if len(outfiles) < 1:\n",
    "        print(sh, len(outfiles))\n",
    "        needed.append(sh)"
   ]
  },
  {
   "cell_type": "markdown",
   "metadata": {},
   "source": [
    "#### go through catfiles and make sure all of the commands inside were run"
   ]
  },
  {
   "cell_type": "code",
   "execution_count": 16,
   "metadata": {},
   "outputs": [
    {
     "data": {
      "text/plain": [
       "'/lu213/brandon.lind/projects/pool_seq/DF_datasets/DF_pooled_GEA/DF_pooled/snpsANDindels/interior_variety_without-p6/03_maf-p05_RD-recalculated_FDI/baypass/cmd_files/results'"
      ]
     },
     "execution_count": 16,
     "metadata": {},
     "output_type": "execute_result"
    }
   ],
   "source": [
    "resdir"
   ]
  },
  {
   "cell_type": "code",
   "execution_count": 17,
   "metadata": {},
   "outputs": [
    {
     "data": {
      "text/plain": [
       "8280"
      ]
     },
     "execution_count": 17,
     "metadata": {},
     "output_type": "execute_result"
    }
   ],
   "source": [
    "# get one of the files for each of the commands that executed successfully (count the succesful cmds)\n",
    "resfiles = fs(resdir, endswith='DIC.out')\n",
    "len(resfiles)"
   ]
  },
  {
   "cell_type": "code",
   "execution_count": 18,
   "metadata": {},
   "outputs": [
    {
     "data": {
      "text/plain": [
       "True"
      ]
     },
     "execution_count": 18,
     "metadata": {},
     "output_type": "execute_result"
    }
   ],
   "source": [
    "catdir = op.join(cmddir, 'run_01')\n",
    "op.exists(catdir)"
   ]
  },
  {
   "cell_type": "code",
   "execution_count": 19,
   "metadata": {},
   "outputs": [
    {
     "data": {
      "text/plain": [
       "259"
      ]
     },
     "execution_count": 19,
     "metadata": {},
     "output_type": "execute_result"
    }
   ],
   "source": [
    "# get the files with the baypass commands - this matches number of sh files (good)\n",
    "catfiles = fs(catdir, pattern='catfile')\n",
    "len(catfiles)"
   ]
  },
  {
   "cell_type": "code",
   "execution_count": 20,
   "metadata": {},
   "outputs": [
    {
     "name": "stderr",
     "output_type": "stream",
     "text": [
      "100%|██████████| 259/259 [00:50<00:00,  5.15it/s]\n"
     ]
    },
    {
     "data": {
      "text/plain": [
       "'interior_all_snps_ADP-lt-1000_gfile_1655_chain_5'"
      ]
     },
     "execution_count": 20,
     "metadata": {},
     "output_type": "execute_result"
    }
   ],
   "source": [
    "# iterate through catfile commands and make sure there's a result for each\n",
    "found = {}  # map prefix to output file\n",
    "exe = {}  # map prefix to command used\n",
    "needed_catfiles = []\n",
    "catcount = Counter()\n",
    "cmdcats = {}  # map cmds to catfiles\n",
    "for cat in nb(catfiles):\n",
    "    # get the commands\n",
    "    cmds = read(cat)\n",
    "    \n",
    "    # assign prefixes (= num cmds) to their output\n",
    "    notfound = True\n",
    "    for cmd in cmds:\n",
    "        assert cmd not in cmdcats\n",
    "        cmdcats[cmd] = cat\n",
    "        prefix = cmd.split(\"-outprefix\")[1].split()[0]\n",
    "        assert prefix not in found and 'chain' in prefix\n",
    "        exe[prefix] = cmd\n",
    "        found[prefix] = []\n",
    "        for res in resfiles:\n",
    "            if prefix in op.basename(res):\n",
    "                found[prefix].append(res)\n",
    "        if len(found[prefix]) > 0:\n",
    "            notfound = False\n",
    "            catcount[cat] += 1\n",
    "    if notfound is True:\n",
    "        needed_catfiles.append(cat)\n",
    "            \n",
    "prefix"
   ]
  },
  {
   "cell_type": "code",
   "execution_count": 21,
   "metadata": {},
   "outputs": [
    {
     "data": {
      "text/plain": [
       "0"
      ]
     },
     "execution_count": 21,
     "metadata": {},
     "output_type": "execute_result"
    }
   ],
   "source": [
    "len(needed_catfiles)"
   ]
  },
  {
   "cell_type": "code",
   "execution_count": 22,
   "metadata": {},
   "outputs": [
    {
     "data": {
      "text/plain": [
       "Counter({32: 258, 24: 1})"
      ]
     },
     "execution_count": 22,
     "metadata": {},
     "output_type": "execute_result"
    }
   ],
   "source": [
    "Counter(catcount.values())"
   ]
  },
  {
   "cell_type": "code",
   "execution_count": 23,
   "metadata": {},
   "outputs": [
    {
     "data": {
      "text/plain": [
       "[]"
      ]
     },
     "execution_count": 23,
     "metadata": {},
     "output_type": "execute_result"
    }
   ],
   "source": [
    "needed_catfiles"
   ]
  },
  {
   "cell_type": "code",
   "execution_count": 24,
   "metadata": {},
   "outputs": [
    {
     "data": {
      "text/plain": [
       "0"
      ]
     },
     "execution_count": 24,
     "metadata": {},
     "output_type": "execute_result"
    }
   ],
   "source": [
    "# figure out which prefixes have zero output (and need to be reran) or cmds with >1 output (impossible...)\n",
    "needed_cmds = []\n",
    "for prefix,reslist in found.items():\n",
    "    if len(reslist) == 0:\n",
    "        needed_cmds.append(exe[prefix])  # get the cmd that needs to be executed\n",
    "    elif len(reslist) > 1:\n",
    "        print('\\n', prefix, len(reslist))  # this shouldn't be possible, check anyway, print if so\n",
    "len(needed_cmds)"
   ]
  },
  {
   "cell_type": "markdown",
   "metadata": {},
   "source": [
    " "
   ]
  },
  {
   "cell_type": "code",
   "execution_count": 25,
   "metadata": {},
   "outputs": [
    {
     "name": "stdout",
     "output_type": "stream",
     "text": [
      "##################################################################\n",
      "Current commit of pythonimports:\n",
      "commit e9626ace46e74716aa8e80b76ba6467313f81da5\n",
      "Author: Brandon <lindb@vcu.edu>\n",
      "Date:   Thu Dec 31 14:17:15 2020 -0700\n",
      "Today:\tDecember 31, 2020 - 16:02:40\n",
      "##################################################################\n",
      "\n"
     ]
    }
   ],
   "source": [
    "latest_commit()"
   ]
  },
  {
   "cell_type": "markdown",
   "metadata": {},
   "source": [
    " "
   ]
  },
  {
   "cell_type": "markdown",
   "metadata": {},
   "source": [
    "<a id='combine'></a>\n",
    "# gather all of the wanted resfiles and concat into single dataframes\n",
    "\n",
    "gather the files with BF, label SNP IDs, label environmental covariables, and concat into single dataframe\n",
    "\n",
    "[top](#home)"
   ]
  },
  {
   "cell_type": "code",
   "execution_count": 4,
   "metadata": {},
   "outputs": [],
   "source": [
    "# restart notebook"
   ]
  },
  {
   "cell_type": "code",
   "execution_count": 5,
   "metadata": {},
   "outputs": [
    {
     "name": "stdout",
     "output_type": "stream",
     "text": [
      "##################################################################\n",
      "Current commit of pythonimports:\n",
      "commit e9626ace46e74716aa8e80b76ba6467313f81da5\n",
      "Author: Brandon <lindb@vcu.edu>\n",
      "Date:   Thu Dec 31 14:17:15 2020 -0700\n",
      "Today:\tDecember 31, 2020 - 16:09:33\n",
      "##################################################################\n",
      "\n"
     ]
    }
   ],
   "source": [
    "latest_commit()"
   ]
  },
  {
   "cell_type": "code",
   "execution_count": 6,
   "metadata": {
    "scrolled": true
   },
   "outputs": [
    {
     "data": {
      "text/plain": [
       "(8280, 8280)"
      ]
     },
     "execution_count": 6,
     "metadata": {},
     "output_type": "execute_result"
    }
   ],
   "source": [
    "bffiles = fs(resdir, endswith='betai_reg.out')\n",
    "xtxfiles = fs(resdir, endswith='pi_xtx.out')\n",
    "len(bffiles), len(xtxfiles)"
   ]
  },
  {
   "cell_type": "code",
   "execution_count": 7,
   "metadata": {},
   "outputs": [
    {
     "data": {
      "text/html": [
       "<div>\n",
       "<style scoped>\n",
       "    .dataframe tbody tr th:only-of-type {\n",
       "        vertical-align: middle;\n",
       "    }\n",
       "\n",
       "    .dataframe tbody tr th {\n",
       "        vertical-align: top;\n",
       "    }\n",
       "\n",
       "    .dataframe thead th {\n",
       "        text-align: right;\n",
       "    }\n",
       "</style>\n",
       "<table border=\"1\" class=\"dataframe\">\n",
       "  <thead>\n",
       "    <tr style=\"text-align: right;\">\n",
       "      <th></th>\n",
       "      <th>COVARIABLE</th>\n",
       "      <th>MRK</th>\n",
       "      <th>M_Pearson</th>\n",
       "      <th>SD_Pearson</th>\n",
       "      <th>BF(dB)</th>\n",
       "      <th>Beta_is</th>\n",
       "      <th>SD_Beta_is</th>\n",
       "      <th>eBPis</th>\n",
       "    </tr>\n",
       "  </thead>\n",
       "  <tbody>\n",
       "    <tr>\n",
       "      <th>0</th>\n",
       "      <td>1</td>\n",
       "      <td>1</td>\n",
       "      <td>0.024150</td>\n",
       "      <td>0.159334</td>\n",
       "      <td>-11.099894</td>\n",
       "      <td>0.001398</td>\n",
       "      <td>0.006968</td>\n",
       "      <td>0.075186</td>\n",
       "    </tr>\n",
       "    <tr>\n",
       "      <th>1</th>\n",
       "      <td>1</td>\n",
       "      <td>2</td>\n",
       "      <td>0.018265</td>\n",
       "      <td>0.162777</td>\n",
       "      <td>-10.417835</td>\n",
       "      <td>0.001400</td>\n",
       "      <td>0.008709</td>\n",
       "      <td>0.059316</td>\n",
       "    </tr>\n",
       "    <tr>\n",
       "      <th>2</th>\n",
       "      <td>1</td>\n",
       "      <td>3</td>\n",
       "      <td>-0.037951</td>\n",
       "      <td>0.142762</td>\n",
       "      <td>-10.862759</td>\n",
       "      <td>-0.002558</td>\n",
       "      <td>0.009402</td>\n",
       "      <td>0.104812</td>\n",
       "    </tr>\n",
       "    <tr>\n",
       "      <th>3</th>\n",
       "      <td>1</td>\n",
       "      <td>4</td>\n",
       "      <td>-0.081170</td>\n",
       "      <td>0.155477</td>\n",
       "      <td>-5.775933</td>\n",
       "      <td>-0.004707</td>\n",
       "      <td>0.013165</td>\n",
       "      <td>0.142270</td>\n",
       "    </tr>\n",
       "    <tr>\n",
       "      <th>4</th>\n",
       "      <td>1</td>\n",
       "      <td>5</td>\n",
       "      <td>-0.082524</td>\n",
       "      <td>0.143969</td>\n",
       "      <td>-9.624315</td>\n",
       "      <td>-0.004197</td>\n",
       "      <td>0.010637</td>\n",
       "      <td>0.159153</td>\n",
       "    </tr>\n",
       "  </tbody>\n",
       "</table>\n",
       "</div>"
      ],
      "text/plain": [
       "   COVARIABLE  MRK  M_Pearson  SD_Pearson     BF(dB)   Beta_is  SD_Beta_is  \\\n",
       "0           1    1   0.024150    0.159334 -11.099894  0.001398    0.006968   \n",
       "1           1    2   0.018265    0.162777 -10.417835  0.001400    0.008709   \n",
       "2           1    3  -0.037951    0.142762 -10.862759 -0.002558    0.009402   \n",
       "3           1    4  -0.081170    0.155477  -5.775933 -0.004707    0.013165   \n",
       "4           1    5  -0.082524    0.143969  -9.624315 -0.004197    0.010637   \n",
       "\n",
       "      eBPis  \n",
       "0  0.075186  \n",
       "1  0.059316  \n",
       "2  0.104812  \n",
       "3  0.142270  \n",
       "4  0.159153  "
      ]
     },
     "execution_count": 7,
     "metadata": {},
     "output_type": "execute_result"
    }
   ],
   "source": [
    "bf = pd.read_table(bffiles[0], delim_whitespace=True)\n",
    "bf.head()"
   ]
  },
  {
   "cell_type": "code",
   "execution_count": 8,
   "metadata": {},
   "outputs": [
    {
     "data": {
      "text/html": [
       "<div>\n",
       "<style scoped>\n",
       "    .dataframe tbody tr th:only-of-type {\n",
       "        vertical-align: middle;\n",
       "    }\n",
       "\n",
       "    .dataframe tbody tr th {\n",
       "        vertical-align: top;\n",
       "    }\n",
       "\n",
       "    .dataframe thead th {\n",
       "        text-align: right;\n",
       "    }\n",
       "</style>\n",
       "<table border=\"1\" class=\"dataframe\">\n",
       "  <thead>\n",
       "    <tr style=\"text-align: right;\">\n",
       "      <th></th>\n",
       "      <th>MRK</th>\n",
       "      <th>M_P</th>\n",
       "      <th>SD_P</th>\n",
       "      <th>M_XtX</th>\n",
       "      <th>SD_XtX</th>\n",
       "      <th>XtXst</th>\n",
       "      <th>log10(1/pval)</th>\n",
       "    </tr>\n",
       "  </thead>\n",
       "  <tbody>\n",
       "    <tr>\n",
       "      <th>0</th>\n",
       "      <td>1</td>\n",
       "      <td>0.971497</td>\n",
       "      <td>0.023019</td>\n",
       "      <td>33.502602</td>\n",
       "      <td>8.186097</td>\n",
       "      <td>8.368955</td>\n",
       "      <td>4.300000e-07</td>\n",
       "    </tr>\n",
       "    <tr>\n",
       "      <th>1</th>\n",
       "      <td>2</td>\n",
       "      <td>0.954440</td>\n",
       "      <td>0.044520</td>\n",
       "      <td>33.846012</td>\n",
       "      <td>8.157042</td>\n",
       "      <td>10.891918</td>\n",
       "      <td>1.337000e-05</td>\n",
       "    </tr>\n",
       "    <tr>\n",
       "      <th>2</th>\n",
       "      <td>3</td>\n",
       "      <td>0.926682</td>\n",
       "      <td>0.062333</td>\n",
       "      <td>34.875100</td>\n",
       "      <td>8.211486</td>\n",
       "      <td>25.934514</td>\n",
       "      <td>6.193537e-02</td>\n",
       "    </tr>\n",
       "    <tr>\n",
       "      <th>3</th>\n",
       "      <td>4</td>\n",
       "      <td>0.889120</td>\n",
       "      <td>0.069471</td>\n",
       "      <td>35.333984</td>\n",
       "      <td>8.180398</td>\n",
       "      <td>21.938499</td>\n",
       "      <td>1.853191e-02</td>\n",
       "    </tr>\n",
       "    <tr>\n",
       "      <th>4</th>\n",
       "      <td>5</td>\n",
       "      <td>0.911084</td>\n",
       "      <td>0.055659</td>\n",
       "      <td>34.590711</td>\n",
       "      <td>8.182880</td>\n",
       "      <td>25.285455</td>\n",
       "      <td>5.229526e-02</td>\n",
       "    </tr>\n",
       "  </tbody>\n",
       "</table>\n",
       "</div>"
      ],
      "text/plain": [
       "   MRK       M_P      SD_P      M_XtX    SD_XtX      XtXst  log10(1/pval)\n",
       "0    1  0.971497  0.023019  33.502602  8.186097   8.368955   4.300000e-07\n",
       "1    2  0.954440  0.044520  33.846012  8.157042  10.891918   1.337000e-05\n",
       "2    3  0.926682  0.062333  34.875100  8.211486  25.934514   6.193537e-02\n",
       "3    4  0.889120  0.069471  35.333984  8.180398  21.938499   1.853191e-02\n",
       "4    5  0.911084  0.055659  34.590711  8.182880  25.285455   5.229526e-02"
      ]
     },
     "execution_count": 8,
     "metadata": {},
     "output_type": "execute_result"
    }
   ],
   "source": [
    "xtx = pd.read_table(xtxfiles[0], delim_whitespace=True)\n",
    "xtx.head()"
   ]
  },
  {
   "cell_type": "code",
   "execution_count": 12,
   "metadata": {},
   "outputs": [],
   "source": [
    "def label_snps(resfile):\n",
    "    \"\"\"Label baypass resfiles with SNP ID using pkl files saved in 002_kickoff.\"\"\"\n",
    "    import os\n",
    "    import pandas\n",
    "    import tqdm\n",
    "    # find the gfile associated with resfile\n",
    "    prefix = os.path.basename(resfile).split(\"_chain\")[0]\n",
    "    chain = \"chain_%s\" % os.path.basename(resfile).split(prefix)[1].split(\"_\")[2]\n",
    "    \n",
    "    # get the pkl file that has the ordered list of SNP IDs for the gfile\n",
    "    if 'new' in resfile:\n",
    "        newgfile_dir = os.path.dirname(resfile).replace(\"new_results\", \"new_individual_gfiles\")\n",
    "        pklfile = os.path.join(newgfile_dir, f'{prefix}_noheaderidx.pkl')\n",
    "    else:\n",
    "        pklfile = os.path.join(gfile_dir, f'{prefix}_noheaderidx.pkl')\n",
    "    gloci = pklload(pklfile)  # read in rows with SNPIDs, but only one column\n",
    "    \n",
    "    # read in the resfile\n",
    "    print('reading table ...')\n",
    "    df = pandas.read_table(resfile, delim_whitespace=True)\n",
    "    \n",
    "    # map MRK column (SNP index) to locus name\n",
    "    print('getting gdict ...')\n",
    "    gdict = dict((num+1, locus) for num,locus in enumerate(gloci))\n",
    "    \n",
    "    # map covariable column to environment ID\n",
    "    print('getting edict ...')\n",
    "    edict = dict((num+1, env) for num,env in enumerate(efile.index))\n",
    "    \n",
    "    # split each covariable (env) in to its own file, label index with SNP ID\n",
    "    df['env'] = df['COVARIABLE'].map(edict)\n",
    "    envdfs = {chain:{}}\n",
    "    for env in tqdm.tqdm(uni(df['env']), desc='annotating snps'):\n",
    "        envdfs[chain][env] = df[df['env']==env].copy()\n",
    "        envdfs[chain][env].index = envdfs[chain][env]['MRK'].map(gdict)\n",
    "        envdfs[chain][env].index.names = ['']\n",
    "\n",
    "    return envdfs\n",
    "\n",
    "efile = pd.read_table(op.join(baydir, 'interior_efile_std_HEADERIDX.txt'), index_col=0, usecols=[0,1])\n",
    "dview['efile'] = efile\n",
    "dview['uni'] = uni\n",
    "dview['gfile_dir'] = gfile_dir\n",
    "dview['pklload'] = pklload"
   ]
  },
  {
   "cell_type": "code",
   "execution_count": 15,
   "metadata": {},
   "outputs": [
    {
     "name": "stdout",
     "output_type": "stream",
     "text": [
      "\u001b[1m\n",
      "Watching 8280 jobs ...\u001b[0m\n"
     ]
    },
    {
     "name": "stderr",
     "output_type": "stream",
     "text": [
      "100%|██████████| 8280/8280 [09:15<00:00, 14.90it/s]  \n"
     ]
    }
   ],
   "source": [
    "# label SNP IDs in parallel\n",
    "jobs = []\n",
    "for bffile in nb(bffiles):\n",
    "    jobs.append(lview.apply_async(label_snps, bffile))\n",
    "watch_async(jobs)"
   ]
  },
  {
   "cell_type": "code",
   "execution_count": 16,
   "metadata": {},
   "outputs": [
    {
     "name": "stderr",
     "output_type": "stream",
     "text": [
      "100%|██████████| 8280/8280 [00:00<00:00, 19054.53it/s]\n"
     ]
    },
    {
     "data": {
      "text/plain": [
       "['chain_1', 'chain_2', 'chain_3', 'chain_4', 'chain_5']"
      ]
     },
     "execution_count": 16,
     "metadata": {},
     "output_type": "execute_result"
    }
   ],
   "source": [
    "# gather output by environment\n",
    "envlist = {}\n",
    "for j in nb(jobs):\n",
    "    if j.ready():\n",
    "        chain = keys(j.r)[0]\n",
    "        if chain not in envlist:\n",
    "            envlist[chain] = {}\n",
    "        for env in j.r[chain]:\n",
    "            if env not in envlist[chain]:\n",
    "                envlist[chain][env] = []\n",
    "            envlist[chain][env].append(j.r[chain][env])\n",
    "keys(envlist)"
   ]
  },
  {
   "cell_type": "code",
   "execution_count": 17,
   "metadata": {
    "scrolled": true
   },
   "outputs": [
    {
     "name": "stderr",
     "output_type": "stream",
     "text": [
      "chain_1: 100%|██████████| 19/19 [00:15<00:00,  1.20it/s]\n",
      "chain_2: 100%|██████████| 19/19 [00:11<00:00,  1.63it/s]\n",
      "chain_3: 100%|██████████| 19/19 [00:09<00:00,  1.92it/s]\n",
      "chain_4: 100%|██████████| 19/19 [00:11<00:00,  1.62it/s]\n",
      "chain_5: 100%|██████████| 19/19 [00:10<00:00,  1.87it/s]"
     ]
    },
    {
     "name": "stdout",
     "output_type": "stream",
     "text": [
      "\u001b[1mchain_1\u001b[0m\n",
      "\t eFFP 2483382\n",
      "\t AHM 2483382\n",
      "\t FFP 2483382\n",
      "\t MWMT 2483382\n",
      "\t Eref 2483382\n",
      "\t EMT 2483382\n",
      "\t MAT 2483382\n",
      "\t MSP 2483382\n",
      "\t MAP 2483382\n",
      "\t SHM 2483382\n",
      "\t PAS 2483382\n",
      "\t EXT 2483382\n",
      "\t NFFD 2483382\n",
      "\t DD_0 2483382\n",
      "\t bFFP 2483382\n",
      "\t CMD 2483382\n",
      "\t DD5 2483382\n",
      "\t MCMT 2483382\n",
      "\t TD 2483382\n",
      "\u001b[1mchain_2\u001b[0m\n",
      "\t EXT 2483382\n",
      "\t PAS 2483382\n",
      "\t MCMT 2483382\n",
      "\t AHM 2483382\n",
      "\t MAP 2483382\n",
      "\t DD_0 2483382\n",
      "\t MAT 2483382\n",
      "\t EMT 2483382\n",
      "\t SHM 2483382\n",
      "\t TD 2483382\n",
      "\t MWMT 2483382\n",
      "\t DD5 2483382\n",
      "\t CMD 2483382\n",
      "\t MSP 2483382\n",
      "\t bFFP 2483382\n",
      "\t eFFP 2483382\n",
      "\t NFFD 2483382\n",
      "\t FFP 2483382\n",
      "\t Eref 2483382\n",
      "\u001b[1mchain_3\u001b[0m\n",
      "\t NFFD 2483382\n",
      "\t MSP 2483382\n",
      "\t FFP 2483382\n",
      "\t DD5 2483382\n",
      "\t MAT 2483382\n",
      "\t bFFP 2483382\n",
      "\t Eref 2483382\n",
      "\t AHM 2483382\n",
      "\t MCMT 2483382\n",
      "\t CMD 2483382\n",
      "\t SHM 2483382\n",
      "\t TD 2483382\n",
      "\t EMT 2483382\n",
      "\t EXT 2483382\n",
      "\t DD_0 2483382\n",
      "\t eFFP 2483382\n",
      "\t PAS 2483382\n",
      "\t MWMT 2483382\n",
      "\t MAP 2483382\n",
      "\u001b[1mchain_4\u001b[0m\n",
      "\t DD5 2483382\n",
      "\t NFFD 2483382\n",
      "\t MAT 2483382\n",
      "\t Eref 2483382\n",
      "\t bFFP 2483382\n",
      "\t eFFP 2483382\n",
      "\t MAP 2483382\n",
      "\t DD_0 2483382\n",
      "\t AHM 2483382\n",
      "\t MCMT 2483382\n",
      "\t EXT 2483382\n",
      "\t PAS 2483382\n",
      "\t SHM 2483382\n",
      "\t MWMT 2483382\n",
      "\t TD 2483382\n",
      "\t EMT 2483382\n",
      "\t CMD 2483382\n",
      "\t FFP 2483382\n",
      "\t MSP 2483382\n",
      "\u001b[1mchain_5\u001b[0m\n",
      "\t CMD 2483382\n",
      "\t PAS 2483382\n",
      "\t DD_0 2483382\n",
      "\t DD5 2483382\n",
      "\t eFFP 2483382\n",
      "\t MCMT 2483382\n",
      "\t AHM 2483382\n",
      "\t FFP 2483382\n",
      "\t MAP 2483382\n",
      "\t SHM 2483382\n",
      "\t EMT 2483382\n",
      "\t MSP 2483382\n",
      "\t NFFD 2483382\n",
      "\t Eref 2483382\n",
      "\t bFFP 2483382\n",
      "\t MWMT 2483382\n",
      "\t MAT 2483382\n",
      "\t EXT 2483382\n",
      "\t TD 2483382\n"
     ]
    },
    {
     "name": "stderr",
     "output_type": "stream",
     "text": [
      "\n"
     ]
    }
   ],
   "source": [
    "# concatenate environmental output by each chain, print out num snps for each env for each chain\n",
    "chaindfs = {}\n",
    "for chain,envs in envlist.items():\n",
    "    assert len(envs) == 19\n",
    "    if chain not in chaindfs:\n",
    "        chaindfs[chain] = {}\n",
    "    for env,dfs in nb(envs.items(), desc=chain):\n",
    "        if env not in chaindfs[chain]:\n",
    "            chaindfs[chain][env] = pd.concat(dfs)\n",
    "        else:\n",
    "            print('crap ', chain, env)\n",
    "for chain in chaindfs:\n",
    "    print(ColorText(chain).bold())\n",
    "    for env in chaindfs[chain]:\n",
    "        print('\\t',env, nrow(chaindfs[chain][env]))"
   ]
  },
  {
   "cell_type": "code",
   "execution_count": 18,
   "metadata": {
    "scrolled": true
   },
   "outputs": [
    {
     "name": "stderr",
     "output_type": "stream",
     "text": [
      "chain_1: 100%|██████████| 19/19 [00:10<00:00,  1.74it/s]\n",
      "chain_2: 100%|██████████| 19/19 [00:09<00:00,  2.06it/s]\n",
      "chain_3: 100%|██████████| 19/19 [00:10<00:00,  1.76it/s]\n",
      "chain_4: 100%|██████████| 19/19 [00:09<00:00,  2.01it/s]\n",
      "chain_5: 100%|██████████| 19/19 [00:11<00:00,  1.68it/s]\n",
      "combo: 100%|██████████| 19/19 [02:53<00:00,  9.12s/it]\n"
     ]
    },
    {
     "data": {
      "text/html": [
       "<div>\n",
       "<style scoped>\n",
       "    .dataframe tbody tr th:only-of-type {\n",
       "        vertical-align: middle;\n",
       "    }\n",
       "\n",
       "    .dataframe tbody tr th {\n",
       "        vertical-align: top;\n",
       "    }\n",
       "\n",
       "    .dataframe thead th {\n",
       "        text-align: right;\n",
       "    }\n",
       "</style>\n",
       "<table border=\"1\" class=\"dataframe\">\n",
       "  <thead>\n",
       "    <tr style=\"text-align: right;\">\n",
       "      <th></th>\n",
       "      <th>chain_1-COVARIABLE</th>\n",
       "      <th>chain_1-MRK</th>\n",
       "      <th>chain_1-M_Pearson</th>\n",
       "      <th>chain_1-SD_Pearson</th>\n",
       "      <th>chain_1-BF(dB)</th>\n",
       "      <th>chain_1-Beta_is</th>\n",
       "      <th>chain_1-SD_Beta_is</th>\n",
       "      <th>chain_1-eBPis</th>\n",
       "      <th>chain_1-env</th>\n",
       "      <th>chain_2-COVARIABLE</th>\n",
       "      <th>chain_2-MRK</th>\n",
       "      <th>chain_2-M_Pearson</th>\n",
       "      <th>chain_2-SD_Pearson</th>\n",
       "      <th>chain_2-BF(dB)</th>\n",
       "      <th>chain_2-Beta_is</th>\n",
       "      <th>chain_2-SD_Beta_is</th>\n",
       "      <th>chain_2-eBPis</th>\n",
       "      <th>chain_2-env</th>\n",
       "      <th>chain_3-COVARIABLE</th>\n",
       "      <th>chain_3-MRK</th>\n",
       "      <th>chain_3-M_Pearson</th>\n",
       "      <th>chain_3-SD_Pearson</th>\n",
       "      <th>chain_3-BF(dB)</th>\n",
       "      <th>chain_3-Beta_is</th>\n",
       "      <th>chain_3-SD_Beta_is</th>\n",
       "      <th>chain_3-eBPis</th>\n",
       "      <th>chain_3-env</th>\n",
       "      <th>chain_4-COVARIABLE</th>\n",
       "      <th>chain_4-MRK</th>\n",
       "      <th>chain_4-M_Pearson</th>\n",
       "      <th>chain_4-SD_Pearson</th>\n",
       "      <th>chain_4-BF(dB)</th>\n",
       "      <th>chain_4-Beta_is</th>\n",
       "      <th>chain_4-SD_Beta_is</th>\n",
       "      <th>chain_4-eBPis</th>\n",
       "      <th>chain_4-env</th>\n",
       "      <th>chain_5-COVARIABLE</th>\n",
       "      <th>chain_5-MRK</th>\n",
       "      <th>chain_5-M_Pearson</th>\n",
       "      <th>chain_5-SD_Pearson</th>\n",
       "      <th>chain_5-BF(dB)</th>\n",
       "      <th>chain_5-Beta_is</th>\n",
       "      <th>chain_5-SD_Beta_is</th>\n",
       "      <th>chain_5-eBPis</th>\n",
       "      <th>chain_5-env</th>\n",
       "    </tr>\n",
       "    <tr>\n",
       "      <th></th>\n",
       "      <th></th>\n",
       "      <th></th>\n",
       "      <th></th>\n",
       "      <th></th>\n",
       "      <th></th>\n",
       "      <th></th>\n",
       "      <th></th>\n",
       "      <th></th>\n",
       "      <th></th>\n",
       "      <th></th>\n",
       "      <th></th>\n",
       "      <th></th>\n",
       "      <th></th>\n",
       "      <th></th>\n",
       "      <th></th>\n",
       "      <th></th>\n",
       "      <th></th>\n",
       "      <th></th>\n",
       "      <th></th>\n",
       "      <th></th>\n",
       "      <th></th>\n",
       "      <th></th>\n",
       "      <th></th>\n",
       "      <th></th>\n",
       "      <th></th>\n",
       "      <th></th>\n",
       "      <th></th>\n",
       "      <th></th>\n",
       "      <th></th>\n",
       "      <th></th>\n",
       "      <th></th>\n",
       "      <th></th>\n",
       "      <th></th>\n",
       "      <th></th>\n",
       "      <th></th>\n",
       "      <th></th>\n",
       "      <th></th>\n",
       "      <th></th>\n",
       "      <th></th>\n",
       "      <th></th>\n",
       "      <th></th>\n",
       "      <th></th>\n",
       "      <th></th>\n",
       "      <th></th>\n",
       "      <th></th>\n",
       "    </tr>\n",
       "  </thead>\n",
       "  <tbody>\n",
       "    <tr>\n",
       "      <th>jcf7190000000000-77657</th>\n",
       "      <td>4</td>\n",
       "      <td>1</td>\n",
       "      <td>0.034660</td>\n",
       "      <td>0.165297</td>\n",
       "      <td>-10.378312</td>\n",
       "      <td>0.001833</td>\n",
       "      <td>0.008062</td>\n",
       "      <td>0.086129</td>\n",
       "      <td>TD</td>\n",
       "      <td>4</td>\n",
       "      <td>1</td>\n",
       "      <td>0.035380</td>\n",
       "      <td>0.161458</td>\n",
       "      <td>-10.681736</td>\n",
       "      <td>0.001809</td>\n",
       "      <td>0.007363</td>\n",
       "      <td>0.093732</td>\n",
       "      <td>TD</td>\n",
       "      <td>4</td>\n",
       "      <td>1</td>\n",
       "      <td>0.040824</td>\n",
       "      <td>0.161570</td>\n",
       "      <td>-10.663476</td>\n",
       "      <td>0.002044</td>\n",
       "      <td>0.007595</td>\n",
       "      <td>0.103535</td>\n",
       "      <td>TD</td>\n",
       "      <td>4</td>\n",
       "      <td>1</td>\n",
       "      <td>0.043133</td>\n",
       "      <td>0.162449</td>\n",
       "      <td>-10.405035</td>\n",
       "      <td>0.002330</td>\n",
       "      <td>0.007789</td>\n",
       "      <td>0.116406</td>\n",
       "      <td>TD</td>\n",
       "      <td>4</td>\n",
       "      <td>1</td>\n",
       "      <td>0.042982</td>\n",
       "      <td>0.160099</td>\n",
       "      <td>-11.278196</td>\n",
       "      <td>0.002084</td>\n",
       "      <td>0.007536</td>\n",
       "      <td>0.106712</td>\n",
       "      <td>TD</td>\n",
       "    </tr>\n",
       "    <tr>\n",
       "      <th>jcf7190000000000-77738</th>\n",
       "      <td>4</td>\n",
       "      <td>2</td>\n",
       "      <td>0.020496</td>\n",
       "      <td>0.159772</td>\n",
       "      <td>-10.502435</td>\n",
       "      <td>0.001284</td>\n",
       "      <td>0.009312</td>\n",
       "      <td>0.050434</td>\n",
       "      <td>TD</td>\n",
       "      <td>4</td>\n",
       "      <td>2</td>\n",
       "      <td>0.006646</td>\n",
       "      <td>0.159149</td>\n",
       "      <td>-10.942311</td>\n",
       "      <td>0.000192</td>\n",
       "      <td>0.008839</td>\n",
       "      <td>0.007594</td>\n",
       "      <td>TD</td>\n",
       "      <td>4</td>\n",
       "      <td>2</td>\n",
       "      <td>0.028214</td>\n",
       "      <td>0.157353</td>\n",
       "      <td>-10.293698</td>\n",
       "      <td>0.001954</td>\n",
       "      <td>0.009640</td>\n",
       "      <td>0.076062</td>\n",
       "      <td>TD</td>\n",
       "      <td>4</td>\n",
       "      <td>2</td>\n",
       "      <td>0.022589</td>\n",
       "      <td>0.160299</td>\n",
       "      <td>-10.362645</td>\n",
       "      <td>0.001467</td>\n",
       "      <td>0.008903</td>\n",
       "      <td>0.060935</td>\n",
       "      <td>TD</td>\n",
       "      <td>4</td>\n",
       "      <td>2</td>\n",
       "      <td>0.010393</td>\n",
       "      <td>0.162525</td>\n",
       "      <td>-10.662278</td>\n",
       "      <td>0.000569</td>\n",
       "      <td>0.009297</td>\n",
       "      <td>0.021723</td>\n",
       "      <td>TD</td>\n",
       "    </tr>\n",
       "    <tr>\n",
       "      <th>jcf7190000000000-77764</th>\n",
       "      <td>4</td>\n",
       "      <td>3</td>\n",
       "      <td>-0.001886</td>\n",
       "      <td>0.147309</td>\n",
       "      <td>-10.229244</td>\n",
       "      <td>0.000522</td>\n",
       "      <td>0.010918</td>\n",
       "      <td>0.016893</td>\n",
       "      <td>TD</td>\n",
       "      <td>4</td>\n",
       "      <td>3</td>\n",
       "      <td>-0.024360</td>\n",
       "      <td>0.141678</td>\n",
       "      <td>-10.328502</td>\n",
       "      <td>-0.001345</td>\n",
       "      <td>0.011004</td>\n",
       "      <td>0.044457</td>\n",
       "      <td>TD</td>\n",
       "      <td>4</td>\n",
       "      <td>3</td>\n",
       "      <td>-0.023076</td>\n",
       "      <td>0.153027</td>\n",
       "      <td>-11.256412</td>\n",
       "      <td>-0.000764</td>\n",
       "      <td>0.008232</td>\n",
       "      <td>0.033374</td>\n",
       "      <td>TD</td>\n",
       "      <td>4</td>\n",
       "      <td>3</td>\n",
       "      <td>-0.006895</td>\n",
       "      <td>0.157198</td>\n",
       "      <td>-8.158876</td>\n",
       "      <td>-0.000087</td>\n",
       "      <td>0.010381</td>\n",
       "      <td>0.002914</td>\n",
       "      <td>TD</td>\n",
       "      <td>4</td>\n",
       "      <td>3</td>\n",
       "      <td>-0.009343</td>\n",
       "      <td>0.143585</td>\n",
       "      <td>-10.796119</td>\n",
       "      <td>-0.000019</td>\n",
       "      <td>0.009494</td>\n",
       "      <td>0.000705</td>\n",
       "      <td>TD</td>\n",
       "    </tr>\n",
       "    <tr>\n",
       "      <th>jcf7190000000004-54349</th>\n",
       "      <td>4</td>\n",
       "      <td>4</td>\n",
       "      <td>-0.023427</td>\n",
       "      <td>0.155455</td>\n",
       "      <td>-9.021264</td>\n",
       "      <td>-0.001428</td>\n",
       "      <td>0.013948</td>\n",
       "      <td>0.036945</td>\n",
       "      <td>TD</td>\n",
       "      <td>4</td>\n",
       "      <td>4</td>\n",
       "      <td>-0.026734</td>\n",
       "      <td>0.151148</td>\n",
       "      <td>-8.957126</td>\n",
       "      <td>-0.001636</td>\n",
       "      <td>0.012663</td>\n",
       "      <td>0.047118</td>\n",
       "      <td>TD</td>\n",
       "      <td>4</td>\n",
       "      <td>4</td>\n",
       "      <td>-0.052227</td>\n",
       "      <td>0.157254</td>\n",
       "      <td>-8.534846</td>\n",
       "      <td>-0.003907</td>\n",
       "      <td>0.013345</td>\n",
       "      <td>0.113667</td>\n",
       "      <td>TD</td>\n",
       "      <td>4</td>\n",
       "      <td>4</td>\n",
       "      <td>-0.040222</td>\n",
       "      <td>0.152545</td>\n",
       "      <td>-8.846310</td>\n",
       "      <td>-0.003247</td>\n",
       "      <td>0.013500</td>\n",
       "      <td>0.091550</td>\n",
       "      <td>TD</td>\n",
       "      <td>4</td>\n",
       "      <td>4</td>\n",
       "      <td>-0.039127</td>\n",
       "      <td>0.151927</td>\n",
       "      <td>-8.796077</td>\n",
       "      <td>-0.002524</td>\n",
       "      <td>0.013170</td>\n",
       "      <td>0.071590</td>\n",
       "      <td>TD</td>\n",
       "    </tr>\n",
       "    <tr>\n",
       "      <th>jcf7190000000004-54418</th>\n",
       "      <td>4</td>\n",
       "      <td>5</td>\n",
       "      <td>0.013142</td>\n",
       "      <td>0.147181</td>\n",
       "      <td>-9.951214</td>\n",
       "      <td>0.001480</td>\n",
       "      <td>0.011861</td>\n",
       "      <td>0.045421</td>\n",
       "      <td>TD</td>\n",
       "      <td>4</td>\n",
       "      <td>5</td>\n",
       "      <td>0.016755</td>\n",
       "      <td>0.144423</td>\n",
       "      <td>-10.010763</td>\n",
       "      <td>0.001684</td>\n",
       "      <td>0.011543</td>\n",
       "      <td>0.053554</td>\n",
       "      <td>TD</td>\n",
       "      <td>4</td>\n",
       "      <td>5</td>\n",
       "      <td>0.023325</td>\n",
       "      <td>0.146342</td>\n",
       "      <td>-9.669352</td>\n",
       "      <td>0.002277</td>\n",
       "      <td>0.011938</td>\n",
       "      <td>0.071217</td>\n",
       "      <td>TD</td>\n",
       "      <td>4</td>\n",
       "      <td>5</td>\n",
       "      <td>0.012571</td>\n",
       "      <td>0.142582</td>\n",
       "      <td>-9.976030</td>\n",
       "      <td>0.001147</td>\n",
       "      <td>0.011084</td>\n",
       "      <td>0.037353</td>\n",
       "      <td>TD</td>\n",
       "      <td>4</td>\n",
       "      <td>5</td>\n",
       "      <td>0.025307</td>\n",
       "      <td>0.142697</td>\n",
       "      <td>-9.822204</td>\n",
       "      <td>0.002523</td>\n",
       "      <td>0.011318</td>\n",
       "      <td>0.084299</td>\n",
       "      <td>TD</td>\n",
       "    </tr>\n",
       "  </tbody>\n",
       "</table>\n",
       "</div>"
      ],
      "text/plain": [
       "                        chain_1-COVARIABLE  chain_1-MRK  chain_1-M_Pearson  \\\n",
       "                                                                             \n",
       "jcf7190000000000-77657                   4            1           0.034660   \n",
       "jcf7190000000000-77738                   4            2           0.020496   \n",
       "jcf7190000000000-77764                   4            3          -0.001886   \n",
       "jcf7190000000004-54349                   4            4          -0.023427   \n",
       "jcf7190000000004-54418                   4            5           0.013142   \n",
       "\n",
       "                        chain_1-SD_Pearson  chain_1-BF(dB)  chain_1-Beta_is  \\\n",
       "                                                                              \n",
       "jcf7190000000000-77657            0.165297      -10.378312         0.001833   \n",
       "jcf7190000000000-77738            0.159772      -10.502435         0.001284   \n",
       "jcf7190000000000-77764            0.147309      -10.229244         0.000522   \n",
       "jcf7190000000004-54349            0.155455       -9.021264        -0.001428   \n",
       "jcf7190000000004-54418            0.147181       -9.951214         0.001480   \n",
       "\n",
       "                        chain_1-SD_Beta_is  chain_1-eBPis chain_1-env  \\\n",
       "                                                                        \n",
       "jcf7190000000000-77657            0.008062       0.086129          TD   \n",
       "jcf7190000000000-77738            0.009312       0.050434          TD   \n",
       "jcf7190000000000-77764            0.010918       0.016893          TD   \n",
       "jcf7190000000004-54349            0.013948       0.036945          TD   \n",
       "jcf7190000000004-54418            0.011861       0.045421          TD   \n",
       "\n",
       "                        chain_2-COVARIABLE  chain_2-MRK  chain_2-M_Pearson  \\\n",
       "                                                                             \n",
       "jcf7190000000000-77657                   4            1           0.035380   \n",
       "jcf7190000000000-77738                   4            2           0.006646   \n",
       "jcf7190000000000-77764                   4            3          -0.024360   \n",
       "jcf7190000000004-54349                   4            4          -0.026734   \n",
       "jcf7190000000004-54418                   4            5           0.016755   \n",
       "\n",
       "                        chain_2-SD_Pearson  chain_2-BF(dB)  chain_2-Beta_is  \\\n",
       "                                                                              \n",
       "jcf7190000000000-77657            0.161458      -10.681736         0.001809   \n",
       "jcf7190000000000-77738            0.159149      -10.942311         0.000192   \n",
       "jcf7190000000000-77764            0.141678      -10.328502        -0.001345   \n",
       "jcf7190000000004-54349            0.151148       -8.957126        -0.001636   \n",
       "jcf7190000000004-54418            0.144423      -10.010763         0.001684   \n",
       "\n",
       "                        chain_2-SD_Beta_is  chain_2-eBPis chain_2-env  \\\n",
       "                                                                        \n",
       "jcf7190000000000-77657            0.007363       0.093732          TD   \n",
       "jcf7190000000000-77738            0.008839       0.007594          TD   \n",
       "jcf7190000000000-77764            0.011004       0.044457          TD   \n",
       "jcf7190000000004-54349            0.012663       0.047118          TD   \n",
       "jcf7190000000004-54418            0.011543       0.053554          TD   \n",
       "\n",
       "                        chain_3-COVARIABLE  chain_3-MRK  chain_3-M_Pearson  \\\n",
       "                                                                             \n",
       "jcf7190000000000-77657                   4            1           0.040824   \n",
       "jcf7190000000000-77738                   4            2           0.028214   \n",
       "jcf7190000000000-77764                   4            3          -0.023076   \n",
       "jcf7190000000004-54349                   4            4          -0.052227   \n",
       "jcf7190000000004-54418                   4            5           0.023325   \n",
       "\n",
       "                        chain_3-SD_Pearson  chain_3-BF(dB)  chain_3-Beta_is  \\\n",
       "                                                                              \n",
       "jcf7190000000000-77657            0.161570      -10.663476         0.002044   \n",
       "jcf7190000000000-77738            0.157353      -10.293698         0.001954   \n",
       "jcf7190000000000-77764            0.153027      -11.256412        -0.000764   \n",
       "jcf7190000000004-54349            0.157254       -8.534846        -0.003907   \n",
       "jcf7190000000004-54418            0.146342       -9.669352         0.002277   \n",
       "\n",
       "                        chain_3-SD_Beta_is  chain_3-eBPis chain_3-env  \\\n",
       "                                                                        \n",
       "jcf7190000000000-77657            0.007595       0.103535          TD   \n",
       "jcf7190000000000-77738            0.009640       0.076062          TD   \n",
       "jcf7190000000000-77764            0.008232       0.033374          TD   \n",
       "jcf7190000000004-54349            0.013345       0.113667          TD   \n",
       "jcf7190000000004-54418            0.011938       0.071217          TD   \n",
       "\n",
       "                        chain_4-COVARIABLE  chain_4-MRK  chain_4-M_Pearson  \\\n",
       "                                                                             \n",
       "jcf7190000000000-77657                   4            1           0.043133   \n",
       "jcf7190000000000-77738                   4            2           0.022589   \n",
       "jcf7190000000000-77764                   4            3          -0.006895   \n",
       "jcf7190000000004-54349                   4            4          -0.040222   \n",
       "jcf7190000000004-54418                   4            5           0.012571   \n",
       "\n",
       "                        chain_4-SD_Pearson  chain_4-BF(dB)  chain_4-Beta_is  \\\n",
       "                                                                              \n",
       "jcf7190000000000-77657            0.162449      -10.405035         0.002330   \n",
       "jcf7190000000000-77738            0.160299      -10.362645         0.001467   \n",
       "jcf7190000000000-77764            0.157198       -8.158876        -0.000087   \n",
       "jcf7190000000004-54349            0.152545       -8.846310        -0.003247   \n",
       "jcf7190000000004-54418            0.142582       -9.976030         0.001147   \n",
       "\n",
       "                        chain_4-SD_Beta_is  chain_4-eBPis chain_4-env  \\\n",
       "                                                                        \n",
       "jcf7190000000000-77657            0.007789       0.116406          TD   \n",
       "jcf7190000000000-77738            0.008903       0.060935          TD   \n",
       "jcf7190000000000-77764            0.010381       0.002914          TD   \n",
       "jcf7190000000004-54349            0.013500       0.091550          TD   \n",
       "jcf7190000000004-54418            0.011084       0.037353          TD   \n",
       "\n",
       "                        chain_5-COVARIABLE  chain_5-MRK  chain_5-M_Pearson  \\\n",
       "                                                                             \n",
       "jcf7190000000000-77657                   4            1           0.042982   \n",
       "jcf7190000000000-77738                   4            2           0.010393   \n",
       "jcf7190000000000-77764                   4            3          -0.009343   \n",
       "jcf7190000000004-54349                   4            4          -0.039127   \n",
       "jcf7190000000004-54418                   4            5           0.025307   \n",
       "\n",
       "                        chain_5-SD_Pearson  chain_5-BF(dB)  chain_5-Beta_is  \\\n",
       "                                                                              \n",
       "jcf7190000000000-77657            0.160099      -11.278196         0.002084   \n",
       "jcf7190000000000-77738            0.162525      -10.662278         0.000569   \n",
       "jcf7190000000000-77764            0.143585      -10.796119        -0.000019   \n",
       "jcf7190000000004-54349            0.151927       -8.796077        -0.002524   \n",
       "jcf7190000000004-54418            0.142697       -9.822204         0.002523   \n",
       "\n",
       "                        chain_5-SD_Beta_is  chain_5-eBPis chain_5-env  \n",
       "                                                                       \n",
       "jcf7190000000000-77657            0.007536       0.106712          TD  \n",
       "jcf7190000000000-77738            0.009297       0.021723          TD  \n",
       "jcf7190000000000-77764            0.009494       0.000705          TD  \n",
       "jcf7190000000004-54349            0.013170       0.071590          TD  \n",
       "jcf7190000000004-54418            0.011318       0.084299          TD  "
      ]
     },
     "execution_count": 18,
     "metadata": {},
     "output_type": "execute_result"
    }
   ],
   "source": [
    "# concatenate environmental output by each env, combine chains into single df\n",
    "dflst = {}\n",
    "for chain,envs in envlist.items():\n",
    "    for env,dfs in nb(envs.items(), desc=chain):\n",
    "        if env not in dflst:\n",
    "            dflst[env] = []\n",
    "        df = pd.concat(dfs)\n",
    "        df.columns = [f\"{chain}-{col}\" for col in df.columns]\n",
    "        dflst[env].append(df)\n",
    "# combine chains for each env - should have done this in parallel\n",
    "envdfs = {}\n",
    "for env,lst in nb(dflst.items(), desc='combo'):\n",
    "    assert len(lst) == 5\n",
    "    df = pd.merge(lst[0], lst[1], left_index=True, right_index=True)\n",
    "    df2 = pd.merge(lst[2], lst[3], left_index=True, right_index=True)\n",
    "    df3 = pd.merge(df, df2, left_index=True, right_index=True)\n",
    "    envdfs[env] = pd.merge(df3, lst[4], left_index=True, right_index=True)\n",
    "    \n",
    "    \n",
    "envdfs[env].head()           "
   ]
  },
  {
   "cell_type": "code",
   "execution_count": 19,
   "metadata": {},
   "outputs": [
    {
     "name": "stderr",
     "output_type": "stream",
     "text": [
      "100%|██████████| 1656/1656 [00:06<00:00, 252.22it/s]\n"
     ]
    },
    {
     "data": {
      "text/plain": [
       "2483382"
      ]
     },
     "execution_count": 19,
     "metadata": {},
     "output_type": "execute_result"
    }
   ],
   "source": [
    "# how many SNPs should be in each env file?\n",
    "# read in each of the gfiles and sum rows\n",
    "rows = 0\n",
    "for gfile in nb(fs(gfile_dir, pattern='noheaderidx.txt')):\n",
    "    df = pd.read_table(gfile, usecols=[0], header=None)\n",
    "    rows += nrow(df)\n",
    "rows"
   ]
  },
  {
   "cell_type": "code",
   "execution_count": 20,
   "metadata": {
    "scrolled": false
   },
   "outputs": [
    {
     "name": "stdout",
     "output_type": "stream",
     "text": [
      "\u001b[1meFFP\u001b[0m\n",
      "\t eFFP 2483382\n",
      "\u001b[1mAHM\u001b[0m\n",
      "\t AHM 2483382\n",
      "\u001b[1mFFP\u001b[0m\n",
      "\t FFP 2483382\n",
      "\u001b[1mMWMT\u001b[0m\n",
      "\t MWMT 2483382\n",
      "\u001b[1mEref\u001b[0m\n",
      "\t Eref 2483382\n",
      "\u001b[1mEMT\u001b[0m\n",
      "\t EMT 2483382\n",
      "\u001b[1mMAT\u001b[0m\n",
      "\t MAT 2483382\n",
      "\u001b[1mMSP\u001b[0m\n",
      "\t MSP 2483382\n",
      "\u001b[1mMAP\u001b[0m\n",
      "\t MAP 2483382\n",
      "\u001b[1mSHM\u001b[0m\n",
      "\t SHM 2483382\n",
      "\u001b[1mPAS\u001b[0m\n",
      "\t PAS 2483382\n",
      "\u001b[1mEXT\u001b[0m\n",
      "\t EXT 2483382\n",
      "\u001b[1mNFFD\u001b[0m\n",
      "\t NFFD 2483382\n",
      "\u001b[1mDD_0\u001b[0m\n",
      "\t DD_0 2483382\n",
      "\u001b[1mbFFP\u001b[0m\n",
      "\t bFFP 2483382\n",
      "\u001b[1mCMD\u001b[0m\n",
      "\t CMD 2483382\n",
      "\u001b[1mDD5\u001b[0m\n",
      "\t DD5 2483382\n",
      "\u001b[1mMCMT\u001b[0m\n",
      "\t MCMT 2483382\n",
      "\u001b[1mTD\u001b[0m\n",
      "\t TD 2483382\n"
     ]
    }
   ],
   "source": [
    "# assert each env has the expected number of rows (SNPs)\n",
    "for env in envdfs:\n",
    "    print(ColorText(env).bold())\n",
    "    print('\\t',env, nrow(envdfs[env]))\n",
    "    if nrow(envdfs[env]) != rows:\n",
    "        print(ColorText('CRAAAAAAAAAP').fail().bold())"
   ]
  },
  {
   "cell_type": "code",
   "execution_count": 21,
   "metadata": {},
   "outputs": [],
   "source": [
    "# release some RAM\n",
    "del dflst, chaindfs, df, df2, df3, dfs, envlist, jobs"
   ]
  },
  {
   "cell_type": "code",
   "execution_count": null,
   "metadata": {},
   "outputs": [],
   "source": []
  },
  {
   "cell_type": "markdown",
   "metadata": {},
   "source": [
    "<a id='rank'></a>\n",
    "# Rank all loci\n",
    "\n",
    "[top](#home)"
   ]
  },
  {
   "cell_type": "code",
   "execution_count": 22,
   "metadata": {},
   "outputs": [],
   "source": [
    "def rank_baypass(df):\n",
    "    \"\"\"Create columns to rank loci within and across chains.\"\"\"\n",
    "    import pandas\n",
    "    import tqdm\n",
    "    import math\n",
    "    chains = ['chain_1', 'chain_2', 'chain_3', 'chain_4', 'chain_5']\n",
    "\n",
    "    # rank per chain based on chain BF\n",
    "    for chain in tqdm.tqdm(chains, desc='chains'):\n",
    "        col = f'{chain}-BF(dB)'\n",
    "#         colBF = df[col].apply(lambda x: 10**(x/10))  # convert deciban to BF\n",
    "        colBF = df[col]  # no need to convert!\n",
    "        ranked = dict((locus,rank+1) for (rank,locus) in enumerate(colBF.sort_values(ascending=False).index))\n",
    "        df[f'rank_{chain}-BF'] = [ranked[locus] for locus in df.index]\n",
    "\n",
    "    # mean BF\n",
    "    print('getting mean BF')\n",
    "    bfcols = [col for col in df if 'BF(dB)' in col and col.startswith('chain')]\n",
    "    print(bfcols)\n",
    "    assert len(bfcols) == 5  # 5 chains\n",
    "#     mean_BF_dB = df[bfcols].mean(axis=1)\n",
    "#     df['mean_BF'] = mean_BF_dB.apply(lambda x: 10**(x/10))  # convert deciban to BF\n",
    "    df['mean_BF(dB)'] = df[bfcols].mean(axis=1)  # no need to convert!\n",
    "\n",
    "    # rank of mean BF\n",
    "    print('ranking mean BF')\n",
    "    ranked = dict((locus,rank+1) for (rank,locus) in enumerate(df['mean_BF(dB)'].sort_values(ascending=False).index))\n",
    "    df['rank_mean_BF(dB)'] = [ranked[locus] for locus in df.index]\n",
    "    \n",
    "    # bool column, enter True if BF >= 20 for >=3 chains, and BF >= 15 for >= 3 chains\n",
    "    print('calculating bool column')\n",
    "#     df['BF_gte20_for-gte3chains'] = (df[bfcols] >= 10*math.log10(20)).sum(axis=1) >= 3\n",
    "#     df['BF_gte15_for-gte3chains'] = (df[bfcols] >= 10*math.log10(15)).sum(axis=1) >= 3\n",
    "#     print(sum((df[bfcols] > 10*math.log10(20)).sum(axis=1) > 3))\n",
    "    df['BF(dB)_gte20_for-gte3chains'] = (df[bfcols] >= 20).sum(axis=1) >= 3  # no need to convert!\n",
    "    df['BF(dB)_gte15_for-gte3chains'] = (df[bfcols] >= 15).sum(axis=1) >= 3  # no need to convert!\n",
    "    print(sum((df[bfcols] > 20).sum(axis=1) > 3))  # no need to convert!\n",
    "\n",
    "    return df"
   ]
  },
  {
   "cell_type": "code",
   "execution_count": 23,
   "metadata": {},
   "outputs": [
    {
     "name": "stderr",
     "output_type": "stream",
     "text": [
      "100%|██████████| 19/19 [00:32<00:00,  1.71s/it]\n"
     ]
    },
    {
     "name": "stdout",
     "output_type": "stream",
     "text": [
      "\u001b[1m\n",
      "Watching 19 jobs ...\u001b[0m\n"
     ]
    },
    {
     "name": "stderr",
     "output_type": "stream",
     "text": [
      "100%|██████████| 19/19 [00:40<00:00,  2.14s/it]\n"
     ]
    },
    {
     "data": {
      "text/plain": [
       "'0-00:01:14'"
      ]
     },
     "execution_count": 23,
     "metadata": {},
     "output_type": "execute_result"
    }
   ],
   "source": [
    "# call rank_baypass() in parallel for each environment\n",
    "t1 = dt.now()\n",
    "jobs = []\n",
    "for env,df in nb(envdfs.items()):\n",
    "    bfcols = [col for col in df.columns if 'BF(dB)' in col and col.startswith('chain')]\n",
    "    assert len(bfcols) == 5  # num chains\n",
    "    jobs.append(lview.apply_async(rank_baypass, df[bfcols]))\n",
    "watch_async(jobs)\n",
    "formatclock(dt.now() - t1, exact=True)"
   ]
  },
  {
   "cell_type": "code",
   "execution_count": 24,
   "metadata": {},
   "outputs": [
    {
     "data": {
      "text/html": [
       "<div>\n",
       "<style scoped>\n",
       "    .dataframe tbody tr th:only-of-type {\n",
       "        vertical-align: middle;\n",
       "    }\n",
       "\n",
       "    .dataframe tbody tr th {\n",
       "        vertical-align: top;\n",
       "    }\n",
       "\n",
       "    .dataframe thead th {\n",
       "        text-align: right;\n",
       "    }\n",
       "</style>\n",
       "<table border=\"1\" class=\"dataframe\">\n",
       "  <thead>\n",
       "    <tr style=\"text-align: right;\">\n",
       "      <th></th>\n",
       "      <th>chain_1-BF(dB)</th>\n",
       "      <th>chain_2-BF(dB)</th>\n",
       "      <th>chain_3-BF(dB)</th>\n",
       "      <th>chain_4-BF(dB)</th>\n",
       "      <th>chain_5-BF(dB)</th>\n",
       "      <th>rank_chain_1-BF</th>\n",
       "      <th>rank_chain_2-BF</th>\n",
       "      <th>rank_chain_3-BF</th>\n",
       "      <th>rank_chain_4-BF</th>\n",
       "      <th>rank_chain_5-BF</th>\n",
       "      <th>mean_BF(dB)</th>\n",
       "      <th>rank_mean_BF(dB)</th>\n",
       "      <th>BF(dB)_gte20_for-gte3chains</th>\n",
       "      <th>BF(dB)_gte15_for-gte3chains</th>\n",
       "    </tr>\n",
       "    <tr>\n",
       "      <th></th>\n",
       "      <th></th>\n",
       "      <th></th>\n",
       "      <th></th>\n",
       "      <th></th>\n",
       "      <th></th>\n",
       "      <th></th>\n",
       "      <th></th>\n",
       "      <th></th>\n",
       "      <th></th>\n",
       "      <th></th>\n",
       "      <th></th>\n",
       "      <th></th>\n",
       "      <th></th>\n",
       "      <th></th>\n",
       "    </tr>\n",
       "  </thead>\n",
       "  <tbody>\n",
       "    <tr>\n",
       "      <th>jcf7190000000000-77657</th>\n",
       "      <td>-10.378312</td>\n",
       "      <td>-10.681736</td>\n",
       "      <td>-10.663476</td>\n",
       "      <td>-10.405035</td>\n",
       "      <td>-11.278196</td>\n",
       "      <td>1519047</td>\n",
       "      <td>1619430</td>\n",
       "      <td>1614087</td>\n",
       "      <td>1528133</td>\n",
       "      <td>1799204</td>\n",
       "      <td>-10.681351</td>\n",
       "      <td>1628408</td>\n",
       "      <td>False</td>\n",
       "      <td>False</td>\n",
       "    </tr>\n",
       "    <tr>\n",
       "      <th>jcf7190000000000-77738</th>\n",
       "      <td>-10.502435</td>\n",
       "      <td>-10.942311</td>\n",
       "      <td>-10.293698</td>\n",
       "      <td>-10.362645</td>\n",
       "      <td>-10.662278</td>\n",
       "      <td>1560756</td>\n",
       "      <td>1700840</td>\n",
       "      <td>1489683</td>\n",
       "      <td>1513644</td>\n",
       "      <td>1613762</td>\n",
       "      <td>-10.552673</td>\n",
       "      <td>1586450</td>\n",
       "      <td>False</td>\n",
       "      <td>False</td>\n",
       "    </tr>\n",
       "    <tr>\n",
       "      <th>jcf7190000000000-77764</th>\n",
       "      <td>-10.229244</td>\n",
       "      <td>-10.328502</td>\n",
       "      <td>-11.256412</td>\n",
       "      <td>-8.158876</td>\n",
       "      <td>-10.796119</td>\n",
       "      <td>1467199</td>\n",
       "      <td>1501316</td>\n",
       "      <td>1793624</td>\n",
       "      <td>812307</td>\n",
       "      <td>1656087</td>\n",
       "      <td>-10.153831</td>\n",
       "      <td>1449411</td>\n",
       "      <td>False</td>\n",
       "      <td>False</td>\n",
       "    </tr>\n",
       "    <tr>\n",
       "      <th>jcf7190000000004-54349</th>\n",
       "      <td>-9.021264</td>\n",
       "      <td>-8.957126</td>\n",
       "      <td>-8.534846</td>\n",
       "      <td>-8.846310</td>\n",
       "      <td>-8.796077</td>\n",
       "      <td>1037995</td>\n",
       "      <td>1017834</td>\n",
       "      <td>899958</td>\n",
       "      <td>985369</td>\n",
       "      <td>970524</td>\n",
       "      <td>-8.831124</td>\n",
       "      <td>984157</td>\n",
       "      <td>False</td>\n",
       "      <td>False</td>\n",
       "    </tr>\n",
       "    <tr>\n",
       "      <th>jcf7190000000004-54418</th>\n",
       "      <td>-9.951214</td>\n",
       "      <td>-10.010763</td>\n",
       "      <td>-9.669352</td>\n",
       "      <td>-9.976030</td>\n",
       "      <td>-9.822204</td>\n",
       "      <td>1366974</td>\n",
       "      <td>1388637</td>\n",
       "      <td>1263021</td>\n",
       "      <td>1376490</td>\n",
       "      <td>1319054</td>\n",
       "      <td>-9.885913</td>\n",
       "      <td>1351855</td>\n",
       "      <td>False</td>\n",
       "      <td>False</td>\n",
       "    </tr>\n",
       "  </tbody>\n",
       "</table>\n",
       "</div>"
      ],
      "text/plain": [
       "                        chain_1-BF(dB)  chain_2-BF(dB)  chain_3-BF(dB)  \\\n",
       "                                                                         \n",
       "jcf7190000000000-77657      -10.378312      -10.681736      -10.663476   \n",
       "jcf7190000000000-77738      -10.502435      -10.942311      -10.293698   \n",
       "jcf7190000000000-77764      -10.229244      -10.328502      -11.256412   \n",
       "jcf7190000000004-54349       -9.021264       -8.957126       -8.534846   \n",
       "jcf7190000000004-54418       -9.951214      -10.010763       -9.669352   \n",
       "\n",
       "                        chain_4-BF(dB)  chain_5-BF(dB)  rank_chain_1-BF  \\\n",
       "                                                                          \n",
       "jcf7190000000000-77657      -10.405035      -11.278196          1519047   \n",
       "jcf7190000000000-77738      -10.362645      -10.662278          1560756   \n",
       "jcf7190000000000-77764       -8.158876      -10.796119          1467199   \n",
       "jcf7190000000004-54349       -8.846310       -8.796077          1037995   \n",
       "jcf7190000000004-54418       -9.976030       -9.822204          1366974   \n",
       "\n",
       "                        rank_chain_2-BF  rank_chain_3-BF  rank_chain_4-BF  \\\n",
       "                                                                            \n",
       "jcf7190000000000-77657          1619430          1614087          1528133   \n",
       "jcf7190000000000-77738          1700840          1489683          1513644   \n",
       "jcf7190000000000-77764          1501316          1793624           812307   \n",
       "jcf7190000000004-54349          1017834           899958           985369   \n",
       "jcf7190000000004-54418          1388637          1263021          1376490   \n",
       "\n",
       "                        rank_chain_5-BF  mean_BF(dB)  rank_mean_BF(dB)  \\\n",
       "                                                                         \n",
       "jcf7190000000000-77657          1799204   -10.681351           1628408   \n",
       "jcf7190000000000-77738          1613762   -10.552673           1586450   \n",
       "jcf7190000000000-77764          1656087   -10.153831           1449411   \n",
       "jcf7190000000004-54349           970524    -8.831124            984157   \n",
       "jcf7190000000004-54418          1319054    -9.885913           1351855   \n",
       "\n",
       "                        BF(dB)_gte20_for-gte3chains  \\\n",
       "                                                      \n",
       "jcf7190000000000-77657                        False   \n",
       "jcf7190000000000-77738                        False   \n",
       "jcf7190000000000-77764                        False   \n",
       "jcf7190000000004-54349                        False   \n",
       "jcf7190000000004-54418                        False   \n",
       "\n",
       "                        BF(dB)_gte15_for-gte3chains  \n",
       "                                                     \n",
       "jcf7190000000000-77657                        False  \n",
       "jcf7190000000000-77738                        False  \n",
       "jcf7190000000000-77764                        False  \n",
       "jcf7190000000004-54349                        False  \n",
       "jcf7190000000004-54418                        False  "
      ]
     },
     "execution_count": 24,
     "metadata": {},
     "output_type": "execute_result"
    }
   ],
   "source": [
    "# get the returns from the engines\n",
    "new_envdfs = {}\n",
    "for i,env in enumerate(envdfs):\n",
    "    new_envdfs[env] = jobs[i].r\n",
    "new_envdfs[env].head()"
   ]
  },
  {
   "cell_type": "code",
   "execution_count": 25,
   "metadata": {},
   "outputs": [
    {
     "name": "stdout",
     "output_type": "stream",
     "text": [
      "18\n",
      "TD\n"
     ]
    },
    {
     "data": {
      "text/html": [
       "<div>\n",
       "<style scoped>\n",
       "    .dataframe tbody tr th:only-of-type {\n",
       "        vertical-align: middle;\n",
       "    }\n",
       "\n",
       "    .dataframe tbody tr th {\n",
       "        vertical-align: top;\n",
       "    }\n",
       "\n",
       "    .dataframe thead th {\n",
       "        text-align: right;\n",
       "    }\n",
       "</style>\n",
       "<table border=\"1\" class=\"dataframe\">\n",
       "  <thead>\n",
       "    <tr style=\"text-align: right;\">\n",
       "      <th></th>\n",
       "      <th>chain_1-COVARIABLE</th>\n",
       "      <th>chain_1-MRK</th>\n",
       "      <th>chain_1-M_Pearson</th>\n",
       "      <th>chain_1-SD_Pearson</th>\n",
       "      <th>chain_1-BF(dB)</th>\n",
       "      <th>chain_1-Beta_is</th>\n",
       "      <th>chain_1-SD_Beta_is</th>\n",
       "      <th>chain_1-eBPis</th>\n",
       "      <th>chain_1-env</th>\n",
       "      <th>chain_2-COVARIABLE</th>\n",
       "      <th>chain_2-MRK</th>\n",
       "      <th>chain_2-M_Pearson</th>\n",
       "      <th>chain_2-SD_Pearson</th>\n",
       "      <th>chain_2-BF(dB)</th>\n",
       "      <th>chain_2-Beta_is</th>\n",
       "      <th>chain_2-SD_Beta_is</th>\n",
       "      <th>chain_2-eBPis</th>\n",
       "      <th>chain_2-env</th>\n",
       "      <th>chain_3-COVARIABLE</th>\n",
       "      <th>chain_3-MRK</th>\n",
       "      <th>chain_3-M_Pearson</th>\n",
       "      <th>chain_3-SD_Pearson</th>\n",
       "      <th>chain_3-BF(dB)</th>\n",
       "      <th>chain_3-Beta_is</th>\n",
       "      <th>chain_3-SD_Beta_is</th>\n",
       "      <th>chain_3-eBPis</th>\n",
       "      <th>chain_3-env</th>\n",
       "      <th>chain_4-COVARIABLE</th>\n",
       "      <th>chain_4-MRK</th>\n",
       "      <th>chain_4-M_Pearson</th>\n",
       "      <th>chain_4-SD_Pearson</th>\n",
       "      <th>chain_4-BF(dB)</th>\n",
       "      <th>chain_4-Beta_is</th>\n",
       "      <th>chain_4-SD_Beta_is</th>\n",
       "      <th>chain_4-eBPis</th>\n",
       "      <th>chain_4-env</th>\n",
       "      <th>chain_5-COVARIABLE</th>\n",
       "      <th>chain_5-MRK</th>\n",
       "      <th>chain_5-M_Pearson</th>\n",
       "      <th>chain_5-SD_Pearson</th>\n",
       "      <th>chain_5-BF(dB)</th>\n",
       "      <th>chain_5-Beta_is</th>\n",
       "      <th>chain_5-SD_Beta_is</th>\n",
       "      <th>chain_5-eBPis</th>\n",
       "      <th>chain_5-env</th>\n",
       "      <th>rank_chain_1-BF</th>\n",
       "      <th>rank_chain_2-BF</th>\n",
       "      <th>rank_chain_3-BF</th>\n",
       "      <th>rank_chain_4-BF</th>\n",
       "      <th>rank_chain_5-BF</th>\n",
       "      <th>mean_BF(dB)</th>\n",
       "      <th>rank_mean_BF(dB)</th>\n",
       "      <th>BF(dB)_gte20_for-gte3chains</th>\n",
       "      <th>BF(dB)_gte15_for-gte3chains</th>\n",
       "    </tr>\n",
       "    <tr>\n",
       "      <th></th>\n",
       "      <th></th>\n",
       "      <th></th>\n",
       "      <th></th>\n",
       "      <th></th>\n",
       "      <th></th>\n",
       "      <th></th>\n",
       "      <th></th>\n",
       "      <th></th>\n",
       "      <th></th>\n",
       "      <th></th>\n",
       "      <th></th>\n",
       "      <th></th>\n",
       "      <th></th>\n",
       "      <th></th>\n",
       "      <th></th>\n",
       "      <th></th>\n",
       "      <th></th>\n",
       "      <th></th>\n",
       "      <th></th>\n",
       "      <th></th>\n",
       "      <th></th>\n",
       "      <th></th>\n",
       "      <th></th>\n",
       "      <th></th>\n",
       "      <th></th>\n",
       "      <th></th>\n",
       "      <th></th>\n",
       "      <th></th>\n",
       "      <th></th>\n",
       "      <th></th>\n",
       "      <th></th>\n",
       "      <th></th>\n",
       "      <th></th>\n",
       "      <th></th>\n",
       "      <th></th>\n",
       "      <th></th>\n",
       "      <th></th>\n",
       "      <th></th>\n",
       "      <th></th>\n",
       "      <th></th>\n",
       "      <th></th>\n",
       "      <th></th>\n",
       "      <th></th>\n",
       "      <th></th>\n",
       "      <th></th>\n",
       "      <th></th>\n",
       "      <th></th>\n",
       "      <th></th>\n",
       "      <th></th>\n",
       "      <th></th>\n",
       "      <th></th>\n",
       "      <th></th>\n",
       "      <th></th>\n",
       "      <th></th>\n",
       "    </tr>\n",
       "  </thead>\n",
       "  <tbody>\n",
       "    <tr>\n",
       "      <th>jcf7190000000000-77657</th>\n",
       "      <td>4</td>\n",
       "      <td>1</td>\n",
       "      <td>0.034660</td>\n",
       "      <td>0.165297</td>\n",
       "      <td>-10.378312</td>\n",
       "      <td>0.001833</td>\n",
       "      <td>0.008062</td>\n",
       "      <td>0.086129</td>\n",
       "      <td>TD</td>\n",
       "      <td>4</td>\n",
       "      <td>1</td>\n",
       "      <td>0.035380</td>\n",
       "      <td>0.161458</td>\n",
       "      <td>-10.681736</td>\n",
       "      <td>0.001809</td>\n",
       "      <td>0.007363</td>\n",
       "      <td>0.093732</td>\n",
       "      <td>TD</td>\n",
       "      <td>4</td>\n",
       "      <td>1</td>\n",
       "      <td>0.040824</td>\n",
       "      <td>0.161570</td>\n",
       "      <td>-10.663476</td>\n",
       "      <td>0.002044</td>\n",
       "      <td>0.007595</td>\n",
       "      <td>0.103535</td>\n",
       "      <td>TD</td>\n",
       "      <td>4</td>\n",
       "      <td>1</td>\n",
       "      <td>0.043133</td>\n",
       "      <td>0.162449</td>\n",
       "      <td>-10.405035</td>\n",
       "      <td>0.002330</td>\n",
       "      <td>0.007789</td>\n",
       "      <td>0.116406</td>\n",
       "      <td>TD</td>\n",
       "      <td>4</td>\n",
       "      <td>1</td>\n",
       "      <td>0.042982</td>\n",
       "      <td>0.160099</td>\n",
       "      <td>-11.278196</td>\n",
       "      <td>0.002084</td>\n",
       "      <td>0.007536</td>\n",
       "      <td>0.106712</td>\n",
       "      <td>TD</td>\n",
       "      <td>1519047</td>\n",
       "      <td>1619430</td>\n",
       "      <td>1614087</td>\n",
       "      <td>1528133</td>\n",
       "      <td>1799204</td>\n",
       "      <td>-10.681351</td>\n",
       "      <td>1628408</td>\n",
       "      <td>False</td>\n",
       "      <td>False</td>\n",
       "    </tr>\n",
       "    <tr>\n",
       "      <th>jcf7190000000000-77738</th>\n",
       "      <td>4</td>\n",
       "      <td>2</td>\n",
       "      <td>0.020496</td>\n",
       "      <td>0.159772</td>\n",
       "      <td>-10.502435</td>\n",
       "      <td>0.001284</td>\n",
       "      <td>0.009312</td>\n",
       "      <td>0.050434</td>\n",
       "      <td>TD</td>\n",
       "      <td>4</td>\n",
       "      <td>2</td>\n",
       "      <td>0.006646</td>\n",
       "      <td>0.159149</td>\n",
       "      <td>-10.942311</td>\n",
       "      <td>0.000192</td>\n",
       "      <td>0.008839</td>\n",
       "      <td>0.007594</td>\n",
       "      <td>TD</td>\n",
       "      <td>4</td>\n",
       "      <td>2</td>\n",
       "      <td>0.028214</td>\n",
       "      <td>0.157353</td>\n",
       "      <td>-10.293698</td>\n",
       "      <td>0.001954</td>\n",
       "      <td>0.009640</td>\n",
       "      <td>0.076062</td>\n",
       "      <td>TD</td>\n",
       "      <td>4</td>\n",
       "      <td>2</td>\n",
       "      <td>0.022589</td>\n",
       "      <td>0.160299</td>\n",
       "      <td>-10.362645</td>\n",
       "      <td>0.001467</td>\n",
       "      <td>0.008903</td>\n",
       "      <td>0.060935</td>\n",
       "      <td>TD</td>\n",
       "      <td>4</td>\n",
       "      <td>2</td>\n",
       "      <td>0.010393</td>\n",
       "      <td>0.162525</td>\n",
       "      <td>-10.662278</td>\n",
       "      <td>0.000569</td>\n",
       "      <td>0.009297</td>\n",
       "      <td>0.021723</td>\n",
       "      <td>TD</td>\n",
       "      <td>1560756</td>\n",
       "      <td>1700840</td>\n",
       "      <td>1489683</td>\n",
       "      <td>1513644</td>\n",
       "      <td>1613762</td>\n",
       "      <td>-10.552673</td>\n",
       "      <td>1586450</td>\n",
       "      <td>False</td>\n",
       "      <td>False</td>\n",
       "    </tr>\n",
       "    <tr>\n",
       "      <th>jcf7190000000000-77764</th>\n",
       "      <td>4</td>\n",
       "      <td>3</td>\n",
       "      <td>-0.001886</td>\n",
       "      <td>0.147309</td>\n",
       "      <td>-10.229244</td>\n",
       "      <td>0.000522</td>\n",
       "      <td>0.010918</td>\n",
       "      <td>0.016893</td>\n",
       "      <td>TD</td>\n",
       "      <td>4</td>\n",
       "      <td>3</td>\n",
       "      <td>-0.024360</td>\n",
       "      <td>0.141678</td>\n",
       "      <td>-10.328502</td>\n",
       "      <td>-0.001345</td>\n",
       "      <td>0.011004</td>\n",
       "      <td>0.044457</td>\n",
       "      <td>TD</td>\n",
       "      <td>4</td>\n",
       "      <td>3</td>\n",
       "      <td>-0.023076</td>\n",
       "      <td>0.153027</td>\n",
       "      <td>-11.256412</td>\n",
       "      <td>-0.000764</td>\n",
       "      <td>0.008232</td>\n",
       "      <td>0.033374</td>\n",
       "      <td>TD</td>\n",
       "      <td>4</td>\n",
       "      <td>3</td>\n",
       "      <td>-0.006895</td>\n",
       "      <td>0.157198</td>\n",
       "      <td>-8.158876</td>\n",
       "      <td>-0.000087</td>\n",
       "      <td>0.010381</td>\n",
       "      <td>0.002914</td>\n",
       "      <td>TD</td>\n",
       "      <td>4</td>\n",
       "      <td>3</td>\n",
       "      <td>-0.009343</td>\n",
       "      <td>0.143585</td>\n",
       "      <td>-10.796119</td>\n",
       "      <td>-0.000019</td>\n",
       "      <td>0.009494</td>\n",
       "      <td>0.000705</td>\n",
       "      <td>TD</td>\n",
       "      <td>1467199</td>\n",
       "      <td>1501316</td>\n",
       "      <td>1793624</td>\n",
       "      <td>812307</td>\n",
       "      <td>1656087</td>\n",
       "      <td>-10.153831</td>\n",
       "      <td>1449411</td>\n",
       "      <td>False</td>\n",
       "      <td>False</td>\n",
       "    </tr>\n",
       "    <tr>\n",
       "      <th>jcf7190000000004-54349</th>\n",
       "      <td>4</td>\n",
       "      <td>4</td>\n",
       "      <td>-0.023427</td>\n",
       "      <td>0.155455</td>\n",
       "      <td>-9.021264</td>\n",
       "      <td>-0.001428</td>\n",
       "      <td>0.013948</td>\n",
       "      <td>0.036945</td>\n",
       "      <td>TD</td>\n",
       "      <td>4</td>\n",
       "      <td>4</td>\n",
       "      <td>-0.026734</td>\n",
       "      <td>0.151148</td>\n",
       "      <td>-8.957126</td>\n",
       "      <td>-0.001636</td>\n",
       "      <td>0.012663</td>\n",
       "      <td>0.047118</td>\n",
       "      <td>TD</td>\n",
       "      <td>4</td>\n",
       "      <td>4</td>\n",
       "      <td>-0.052227</td>\n",
       "      <td>0.157254</td>\n",
       "      <td>-8.534846</td>\n",
       "      <td>-0.003907</td>\n",
       "      <td>0.013345</td>\n",
       "      <td>0.113667</td>\n",
       "      <td>TD</td>\n",
       "      <td>4</td>\n",
       "      <td>4</td>\n",
       "      <td>-0.040222</td>\n",
       "      <td>0.152545</td>\n",
       "      <td>-8.846310</td>\n",
       "      <td>-0.003247</td>\n",
       "      <td>0.013500</td>\n",
       "      <td>0.091550</td>\n",
       "      <td>TD</td>\n",
       "      <td>4</td>\n",
       "      <td>4</td>\n",
       "      <td>-0.039127</td>\n",
       "      <td>0.151927</td>\n",
       "      <td>-8.796077</td>\n",
       "      <td>-0.002524</td>\n",
       "      <td>0.013170</td>\n",
       "      <td>0.071590</td>\n",
       "      <td>TD</td>\n",
       "      <td>1037995</td>\n",
       "      <td>1017834</td>\n",
       "      <td>899958</td>\n",
       "      <td>985369</td>\n",
       "      <td>970524</td>\n",
       "      <td>-8.831124</td>\n",
       "      <td>984157</td>\n",
       "      <td>False</td>\n",
       "      <td>False</td>\n",
       "    </tr>\n",
       "    <tr>\n",
       "      <th>jcf7190000000004-54418</th>\n",
       "      <td>4</td>\n",
       "      <td>5</td>\n",
       "      <td>0.013142</td>\n",
       "      <td>0.147181</td>\n",
       "      <td>-9.951214</td>\n",
       "      <td>0.001480</td>\n",
       "      <td>0.011861</td>\n",
       "      <td>0.045421</td>\n",
       "      <td>TD</td>\n",
       "      <td>4</td>\n",
       "      <td>5</td>\n",
       "      <td>0.016755</td>\n",
       "      <td>0.144423</td>\n",
       "      <td>-10.010763</td>\n",
       "      <td>0.001684</td>\n",
       "      <td>0.011543</td>\n",
       "      <td>0.053554</td>\n",
       "      <td>TD</td>\n",
       "      <td>4</td>\n",
       "      <td>5</td>\n",
       "      <td>0.023325</td>\n",
       "      <td>0.146342</td>\n",
       "      <td>-9.669352</td>\n",
       "      <td>0.002277</td>\n",
       "      <td>0.011938</td>\n",
       "      <td>0.071217</td>\n",
       "      <td>TD</td>\n",
       "      <td>4</td>\n",
       "      <td>5</td>\n",
       "      <td>0.012571</td>\n",
       "      <td>0.142582</td>\n",
       "      <td>-9.976030</td>\n",
       "      <td>0.001147</td>\n",
       "      <td>0.011084</td>\n",
       "      <td>0.037353</td>\n",
       "      <td>TD</td>\n",
       "      <td>4</td>\n",
       "      <td>5</td>\n",
       "      <td>0.025307</td>\n",
       "      <td>0.142697</td>\n",
       "      <td>-9.822204</td>\n",
       "      <td>0.002523</td>\n",
       "      <td>0.011318</td>\n",
       "      <td>0.084299</td>\n",
       "      <td>TD</td>\n",
       "      <td>1366974</td>\n",
       "      <td>1388637</td>\n",
       "      <td>1263021</td>\n",
       "      <td>1376490</td>\n",
       "      <td>1319054</td>\n",
       "      <td>-9.885913</td>\n",
       "      <td>1351855</td>\n",
       "      <td>False</td>\n",
       "      <td>False</td>\n",
       "    </tr>\n",
       "  </tbody>\n",
       "</table>\n",
       "</div>"
      ],
      "text/plain": [
       "                        chain_1-COVARIABLE  chain_1-MRK  chain_1-M_Pearson  \\\n",
       "                                                                             \n",
       "jcf7190000000000-77657                   4            1           0.034660   \n",
       "jcf7190000000000-77738                   4            2           0.020496   \n",
       "jcf7190000000000-77764                   4            3          -0.001886   \n",
       "jcf7190000000004-54349                   4            4          -0.023427   \n",
       "jcf7190000000004-54418                   4            5           0.013142   \n",
       "\n",
       "                        chain_1-SD_Pearson  chain_1-BF(dB)  chain_1-Beta_is  \\\n",
       "                                                                              \n",
       "jcf7190000000000-77657            0.165297      -10.378312         0.001833   \n",
       "jcf7190000000000-77738            0.159772      -10.502435         0.001284   \n",
       "jcf7190000000000-77764            0.147309      -10.229244         0.000522   \n",
       "jcf7190000000004-54349            0.155455       -9.021264        -0.001428   \n",
       "jcf7190000000004-54418            0.147181       -9.951214         0.001480   \n",
       "\n",
       "                        chain_1-SD_Beta_is  chain_1-eBPis chain_1-env  \\\n",
       "                                                                        \n",
       "jcf7190000000000-77657            0.008062       0.086129          TD   \n",
       "jcf7190000000000-77738            0.009312       0.050434          TD   \n",
       "jcf7190000000000-77764            0.010918       0.016893          TD   \n",
       "jcf7190000000004-54349            0.013948       0.036945          TD   \n",
       "jcf7190000000004-54418            0.011861       0.045421          TD   \n",
       "\n",
       "                        chain_2-COVARIABLE  chain_2-MRK  chain_2-M_Pearson  \\\n",
       "                                                                             \n",
       "jcf7190000000000-77657                   4            1           0.035380   \n",
       "jcf7190000000000-77738                   4            2           0.006646   \n",
       "jcf7190000000000-77764                   4            3          -0.024360   \n",
       "jcf7190000000004-54349                   4            4          -0.026734   \n",
       "jcf7190000000004-54418                   4            5           0.016755   \n",
       "\n",
       "                        chain_2-SD_Pearson  chain_2-BF(dB)  chain_2-Beta_is  \\\n",
       "                                                                              \n",
       "jcf7190000000000-77657            0.161458      -10.681736         0.001809   \n",
       "jcf7190000000000-77738            0.159149      -10.942311         0.000192   \n",
       "jcf7190000000000-77764            0.141678      -10.328502        -0.001345   \n",
       "jcf7190000000004-54349            0.151148       -8.957126        -0.001636   \n",
       "jcf7190000000004-54418            0.144423      -10.010763         0.001684   \n",
       "\n",
       "                        chain_2-SD_Beta_is  chain_2-eBPis chain_2-env  \\\n",
       "                                                                        \n",
       "jcf7190000000000-77657            0.007363       0.093732          TD   \n",
       "jcf7190000000000-77738            0.008839       0.007594          TD   \n",
       "jcf7190000000000-77764            0.011004       0.044457          TD   \n",
       "jcf7190000000004-54349            0.012663       0.047118          TD   \n",
       "jcf7190000000004-54418            0.011543       0.053554          TD   \n",
       "\n",
       "                        chain_3-COVARIABLE  chain_3-MRK  chain_3-M_Pearson  \\\n",
       "                                                                             \n",
       "jcf7190000000000-77657                   4            1           0.040824   \n",
       "jcf7190000000000-77738                   4            2           0.028214   \n",
       "jcf7190000000000-77764                   4            3          -0.023076   \n",
       "jcf7190000000004-54349                   4            4          -0.052227   \n",
       "jcf7190000000004-54418                   4            5           0.023325   \n",
       "\n",
       "                        chain_3-SD_Pearson  chain_3-BF(dB)  chain_3-Beta_is  \\\n",
       "                                                                              \n",
       "jcf7190000000000-77657            0.161570      -10.663476         0.002044   \n",
       "jcf7190000000000-77738            0.157353      -10.293698         0.001954   \n",
       "jcf7190000000000-77764            0.153027      -11.256412        -0.000764   \n",
       "jcf7190000000004-54349            0.157254       -8.534846        -0.003907   \n",
       "jcf7190000000004-54418            0.146342       -9.669352         0.002277   \n",
       "\n",
       "                        chain_3-SD_Beta_is  chain_3-eBPis chain_3-env  \\\n",
       "                                                                        \n",
       "jcf7190000000000-77657            0.007595       0.103535          TD   \n",
       "jcf7190000000000-77738            0.009640       0.076062          TD   \n",
       "jcf7190000000000-77764            0.008232       0.033374          TD   \n",
       "jcf7190000000004-54349            0.013345       0.113667          TD   \n",
       "jcf7190000000004-54418            0.011938       0.071217          TD   \n",
       "\n",
       "                        chain_4-COVARIABLE  chain_4-MRK  chain_4-M_Pearson  \\\n",
       "                                                                             \n",
       "jcf7190000000000-77657                   4            1           0.043133   \n",
       "jcf7190000000000-77738                   4            2           0.022589   \n",
       "jcf7190000000000-77764                   4            3          -0.006895   \n",
       "jcf7190000000004-54349                   4            4          -0.040222   \n",
       "jcf7190000000004-54418                   4            5           0.012571   \n",
       "\n",
       "                        chain_4-SD_Pearson  chain_4-BF(dB)  chain_4-Beta_is  \\\n",
       "                                                                              \n",
       "jcf7190000000000-77657            0.162449      -10.405035         0.002330   \n",
       "jcf7190000000000-77738            0.160299      -10.362645         0.001467   \n",
       "jcf7190000000000-77764            0.157198       -8.158876        -0.000087   \n",
       "jcf7190000000004-54349            0.152545       -8.846310        -0.003247   \n",
       "jcf7190000000004-54418            0.142582       -9.976030         0.001147   \n",
       "\n",
       "                        chain_4-SD_Beta_is  chain_4-eBPis chain_4-env  \\\n",
       "                                                                        \n",
       "jcf7190000000000-77657            0.007789       0.116406          TD   \n",
       "jcf7190000000000-77738            0.008903       0.060935          TD   \n",
       "jcf7190000000000-77764            0.010381       0.002914          TD   \n",
       "jcf7190000000004-54349            0.013500       0.091550          TD   \n",
       "jcf7190000000004-54418            0.011084       0.037353          TD   \n",
       "\n",
       "                        chain_5-COVARIABLE  chain_5-MRK  chain_5-M_Pearson  \\\n",
       "                                                                             \n",
       "jcf7190000000000-77657                   4            1           0.042982   \n",
       "jcf7190000000000-77738                   4            2           0.010393   \n",
       "jcf7190000000000-77764                   4            3          -0.009343   \n",
       "jcf7190000000004-54349                   4            4          -0.039127   \n",
       "jcf7190000000004-54418                   4            5           0.025307   \n",
       "\n",
       "                        chain_5-SD_Pearson  chain_5-BF(dB)  chain_5-Beta_is  \\\n",
       "                                                                              \n",
       "jcf7190000000000-77657            0.160099      -11.278196         0.002084   \n",
       "jcf7190000000000-77738            0.162525      -10.662278         0.000569   \n",
       "jcf7190000000000-77764            0.143585      -10.796119        -0.000019   \n",
       "jcf7190000000004-54349            0.151927       -8.796077        -0.002524   \n",
       "jcf7190000000004-54418            0.142697       -9.822204         0.002523   \n",
       "\n",
       "                        chain_5-SD_Beta_is  chain_5-eBPis chain_5-env  \\\n",
       "                                                                        \n",
       "jcf7190000000000-77657            0.007536       0.106712          TD   \n",
       "jcf7190000000000-77738            0.009297       0.021723          TD   \n",
       "jcf7190000000000-77764            0.009494       0.000705          TD   \n",
       "jcf7190000000004-54349            0.013170       0.071590          TD   \n",
       "jcf7190000000004-54418            0.011318       0.084299          TD   \n",
       "\n",
       "                        rank_chain_1-BF  rank_chain_2-BF  rank_chain_3-BF  \\\n",
       "                                                                            \n",
       "jcf7190000000000-77657          1519047          1619430          1614087   \n",
       "jcf7190000000000-77738          1560756          1700840          1489683   \n",
       "jcf7190000000000-77764          1467199          1501316          1793624   \n",
       "jcf7190000000004-54349          1037995          1017834           899958   \n",
       "jcf7190000000004-54418          1366974          1388637          1263021   \n",
       "\n",
       "                        rank_chain_4-BF  rank_chain_5-BF  mean_BF(dB)  \\\n",
       "                                                                        \n",
       "jcf7190000000000-77657          1528133          1799204   -10.681351   \n",
       "jcf7190000000000-77738          1513644          1613762   -10.552673   \n",
       "jcf7190000000000-77764           812307          1656087   -10.153831   \n",
       "jcf7190000000004-54349           985369           970524    -8.831124   \n",
       "jcf7190000000004-54418          1376490          1319054    -9.885913   \n",
       "\n",
       "                        rank_mean_BF(dB)  BF(dB)_gte20_for-gte3chains  \\\n",
       "                                                                        \n",
       "jcf7190000000000-77657           1628408                        False   \n",
       "jcf7190000000000-77738           1586450                        False   \n",
       "jcf7190000000000-77764           1449411                        False   \n",
       "jcf7190000000004-54349            984157                        False   \n",
       "jcf7190000000004-54418           1351855                        False   \n",
       "\n",
       "                        BF(dB)_gte15_for-gte3chains  \n",
       "                                                     \n",
       "jcf7190000000000-77657                        False  \n",
       "jcf7190000000000-77738                        False  \n",
       "jcf7190000000000-77764                        False  \n",
       "jcf7190000000004-54349                        False  \n",
       "jcf7190000000004-54418                        False  "
      ]
     },
     "execution_count": 25,
     "metadata": {},
     "output_type": "execute_result"
    }
   ],
   "source": [
    "# add in the new columns\n",
    "count = 0\n",
    "for env,df in envdfs.items():\n",
    "    update([count, env])\n",
    "    # keep original columns with chain info only\n",
    "    startcols = [col for col in df.columns if col.startswith('chain')]\n",
    "    assert len(bfcols) == 5\n",
    "    # grab the re-ranked columns\n",
    "    newcols = [col for col in new_envdfs[env].columns if col not in startcols]\n",
    "    envdfs[env] = pd.merge(df[startcols], new_envdfs[env][newcols], right_index=True, left_index=True)\n",
    "    count += 1\n",
    "envdfs[env].head()"
   ]
  },
  {
   "cell_type": "code",
   "execution_count": 26,
   "metadata": {},
   "outputs": [
    {
     "data": {
      "text/html": [
       "<div>\n",
       "<style scoped>\n",
       "    .dataframe tbody tr th:only-of-type {\n",
       "        vertical-align: middle;\n",
       "    }\n",
       "\n",
       "    .dataframe tbody tr th {\n",
       "        vertical-align: top;\n",
       "    }\n",
       "\n",
       "    .dataframe thead th {\n",
       "        text-align: right;\n",
       "    }\n",
       "</style>\n",
       "<table border=\"1\" class=\"dataframe\">\n",
       "  <thead>\n",
       "    <tr style=\"text-align: right;\">\n",
       "      <th></th>\n",
       "      <th>chain_1-COVARIABLE</th>\n",
       "      <th>chain_1-MRK</th>\n",
       "      <th>chain_1-M_Pearson</th>\n",
       "      <th>chain_1-SD_Pearson</th>\n",
       "      <th>chain_1-BF(dB)</th>\n",
       "      <th>chain_1-Beta_is</th>\n",
       "      <th>chain_1-SD_Beta_is</th>\n",
       "      <th>chain_1-eBPis</th>\n",
       "      <th>chain_1-env</th>\n",
       "      <th>chain_2-COVARIABLE</th>\n",
       "      <th>chain_2-MRK</th>\n",
       "      <th>chain_2-M_Pearson</th>\n",
       "      <th>chain_2-SD_Pearson</th>\n",
       "      <th>chain_2-BF(dB)</th>\n",
       "      <th>chain_2-Beta_is</th>\n",
       "      <th>chain_2-SD_Beta_is</th>\n",
       "      <th>chain_2-eBPis</th>\n",
       "      <th>chain_2-env</th>\n",
       "      <th>chain_3-COVARIABLE</th>\n",
       "      <th>chain_3-MRK</th>\n",
       "      <th>chain_3-M_Pearson</th>\n",
       "      <th>chain_3-SD_Pearson</th>\n",
       "      <th>chain_3-BF(dB)</th>\n",
       "      <th>chain_3-Beta_is</th>\n",
       "      <th>chain_3-SD_Beta_is</th>\n",
       "      <th>chain_3-eBPis</th>\n",
       "      <th>chain_3-env</th>\n",
       "      <th>chain_4-COVARIABLE</th>\n",
       "      <th>chain_4-MRK</th>\n",
       "      <th>chain_4-M_Pearson</th>\n",
       "      <th>chain_4-SD_Pearson</th>\n",
       "      <th>chain_4-BF(dB)</th>\n",
       "      <th>chain_4-Beta_is</th>\n",
       "      <th>chain_4-SD_Beta_is</th>\n",
       "      <th>chain_4-eBPis</th>\n",
       "      <th>chain_4-env</th>\n",
       "      <th>chain_5-COVARIABLE</th>\n",
       "      <th>chain_5-MRK</th>\n",
       "      <th>chain_5-M_Pearson</th>\n",
       "      <th>chain_5-SD_Pearson</th>\n",
       "      <th>chain_5-BF(dB)</th>\n",
       "      <th>chain_5-Beta_is</th>\n",
       "      <th>chain_5-SD_Beta_is</th>\n",
       "      <th>chain_5-eBPis</th>\n",
       "      <th>chain_5-env</th>\n",
       "      <th>rank_chain_1-BF</th>\n",
       "      <th>rank_chain_2-BF</th>\n",
       "      <th>rank_chain_3-BF</th>\n",
       "      <th>rank_chain_4-BF</th>\n",
       "      <th>rank_chain_5-BF</th>\n",
       "      <th>mean_BF(dB)</th>\n",
       "      <th>rank_mean_BF(dB)</th>\n",
       "      <th>BF(dB)_gte20_for-gte3chains</th>\n",
       "      <th>BF(dB)_gte15_for-gte3chains</th>\n",
       "      <th>rank_consistency_top1perc_for-gte3chains</th>\n",
       "    </tr>\n",
       "    <tr>\n",
       "      <th></th>\n",
       "      <th></th>\n",
       "      <th></th>\n",
       "      <th></th>\n",
       "      <th></th>\n",
       "      <th></th>\n",
       "      <th></th>\n",
       "      <th></th>\n",
       "      <th></th>\n",
       "      <th></th>\n",
       "      <th></th>\n",
       "      <th></th>\n",
       "      <th></th>\n",
       "      <th></th>\n",
       "      <th></th>\n",
       "      <th></th>\n",
       "      <th></th>\n",
       "      <th></th>\n",
       "      <th></th>\n",
       "      <th></th>\n",
       "      <th></th>\n",
       "      <th></th>\n",
       "      <th></th>\n",
       "      <th></th>\n",
       "      <th></th>\n",
       "      <th></th>\n",
       "      <th></th>\n",
       "      <th></th>\n",
       "      <th></th>\n",
       "      <th></th>\n",
       "      <th></th>\n",
       "      <th></th>\n",
       "      <th></th>\n",
       "      <th></th>\n",
       "      <th></th>\n",
       "      <th></th>\n",
       "      <th></th>\n",
       "      <th></th>\n",
       "      <th></th>\n",
       "      <th></th>\n",
       "      <th></th>\n",
       "      <th></th>\n",
       "      <th></th>\n",
       "      <th></th>\n",
       "      <th></th>\n",
       "      <th></th>\n",
       "      <th></th>\n",
       "      <th></th>\n",
       "      <th></th>\n",
       "      <th></th>\n",
       "      <th></th>\n",
       "      <th></th>\n",
       "      <th></th>\n",
       "      <th></th>\n",
       "      <th></th>\n",
       "      <th></th>\n",
       "    </tr>\n",
       "  </thead>\n",
       "  <tbody>\n",
       "    <tr>\n",
       "      <th>jcf7190000000000-77657</th>\n",
       "      <td>4</td>\n",
       "      <td>1</td>\n",
       "      <td>0.034660</td>\n",
       "      <td>0.165297</td>\n",
       "      <td>-10.378312</td>\n",
       "      <td>0.001833</td>\n",
       "      <td>0.008062</td>\n",
       "      <td>0.086129</td>\n",
       "      <td>TD</td>\n",
       "      <td>4</td>\n",
       "      <td>1</td>\n",
       "      <td>0.035380</td>\n",
       "      <td>0.161458</td>\n",
       "      <td>-10.681736</td>\n",
       "      <td>0.001809</td>\n",
       "      <td>0.007363</td>\n",
       "      <td>0.093732</td>\n",
       "      <td>TD</td>\n",
       "      <td>4</td>\n",
       "      <td>1</td>\n",
       "      <td>0.040824</td>\n",
       "      <td>0.161570</td>\n",
       "      <td>-10.663476</td>\n",
       "      <td>0.002044</td>\n",
       "      <td>0.007595</td>\n",
       "      <td>0.103535</td>\n",
       "      <td>TD</td>\n",
       "      <td>4</td>\n",
       "      <td>1</td>\n",
       "      <td>0.043133</td>\n",
       "      <td>0.162449</td>\n",
       "      <td>-10.405035</td>\n",
       "      <td>0.002330</td>\n",
       "      <td>0.007789</td>\n",
       "      <td>0.116406</td>\n",
       "      <td>TD</td>\n",
       "      <td>4</td>\n",
       "      <td>1</td>\n",
       "      <td>0.042982</td>\n",
       "      <td>0.160099</td>\n",
       "      <td>-11.278196</td>\n",
       "      <td>0.002084</td>\n",
       "      <td>0.007536</td>\n",
       "      <td>0.106712</td>\n",
       "      <td>TD</td>\n",
       "      <td>1519047</td>\n",
       "      <td>1619430</td>\n",
       "      <td>1614087</td>\n",
       "      <td>1528133</td>\n",
       "      <td>1799204</td>\n",
       "      <td>-10.681351</td>\n",
       "      <td>1628408</td>\n",
       "      <td>False</td>\n",
       "      <td>False</td>\n",
       "      <td>False</td>\n",
       "    </tr>\n",
       "    <tr>\n",
       "      <th>jcf7190000000000-77738</th>\n",
       "      <td>4</td>\n",
       "      <td>2</td>\n",
       "      <td>0.020496</td>\n",
       "      <td>0.159772</td>\n",
       "      <td>-10.502435</td>\n",
       "      <td>0.001284</td>\n",
       "      <td>0.009312</td>\n",
       "      <td>0.050434</td>\n",
       "      <td>TD</td>\n",
       "      <td>4</td>\n",
       "      <td>2</td>\n",
       "      <td>0.006646</td>\n",
       "      <td>0.159149</td>\n",
       "      <td>-10.942311</td>\n",
       "      <td>0.000192</td>\n",
       "      <td>0.008839</td>\n",
       "      <td>0.007594</td>\n",
       "      <td>TD</td>\n",
       "      <td>4</td>\n",
       "      <td>2</td>\n",
       "      <td>0.028214</td>\n",
       "      <td>0.157353</td>\n",
       "      <td>-10.293698</td>\n",
       "      <td>0.001954</td>\n",
       "      <td>0.009640</td>\n",
       "      <td>0.076062</td>\n",
       "      <td>TD</td>\n",
       "      <td>4</td>\n",
       "      <td>2</td>\n",
       "      <td>0.022589</td>\n",
       "      <td>0.160299</td>\n",
       "      <td>-10.362645</td>\n",
       "      <td>0.001467</td>\n",
       "      <td>0.008903</td>\n",
       "      <td>0.060935</td>\n",
       "      <td>TD</td>\n",
       "      <td>4</td>\n",
       "      <td>2</td>\n",
       "      <td>0.010393</td>\n",
       "      <td>0.162525</td>\n",
       "      <td>-10.662278</td>\n",
       "      <td>0.000569</td>\n",
       "      <td>0.009297</td>\n",
       "      <td>0.021723</td>\n",
       "      <td>TD</td>\n",
       "      <td>1560756</td>\n",
       "      <td>1700840</td>\n",
       "      <td>1489683</td>\n",
       "      <td>1513644</td>\n",
       "      <td>1613762</td>\n",
       "      <td>-10.552673</td>\n",
       "      <td>1586450</td>\n",
       "      <td>False</td>\n",
       "      <td>False</td>\n",
       "      <td>False</td>\n",
       "    </tr>\n",
       "    <tr>\n",
       "      <th>jcf7190000000000-77764</th>\n",
       "      <td>4</td>\n",
       "      <td>3</td>\n",
       "      <td>-0.001886</td>\n",
       "      <td>0.147309</td>\n",
       "      <td>-10.229244</td>\n",
       "      <td>0.000522</td>\n",
       "      <td>0.010918</td>\n",
       "      <td>0.016893</td>\n",
       "      <td>TD</td>\n",
       "      <td>4</td>\n",
       "      <td>3</td>\n",
       "      <td>-0.024360</td>\n",
       "      <td>0.141678</td>\n",
       "      <td>-10.328502</td>\n",
       "      <td>-0.001345</td>\n",
       "      <td>0.011004</td>\n",
       "      <td>0.044457</td>\n",
       "      <td>TD</td>\n",
       "      <td>4</td>\n",
       "      <td>3</td>\n",
       "      <td>-0.023076</td>\n",
       "      <td>0.153027</td>\n",
       "      <td>-11.256412</td>\n",
       "      <td>-0.000764</td>\n",
       "      <td>0.008232</td>\n",
       "      <td>0.033374</td>\n",
       "      <td>TD</td>\n",
       "      <td>4</td>\n",
       "      <td>3</td>\n",
       "      <td>-0.006895</td>\n",
       "      <td>0.157198</td>\n",
       "      <td>-8.158876</td>\n",
       "      <td>-0.000087</td>\n",
       "      <td>0.010381</td>\n",
       "      <td>0.002914</td>\n",
       "      <td>TD</td>\n",
       "      <td>4</td>\n",
       "      <td>3</td>\n",
       "      <td>-0.009343</td>\n",
       "      <td>0.143585</td>\n",
       "      <td>-10.796119</td>\n",
       "      <td>-0.000019</td>\n",
       "      <td>0.009494</td>\n",
       "      <td>0.000705</td>\n",
       "      <td>TD</td>\n",
       "      <td>1467199</td>\n",
       "      <td>1501316</td>\n",
       "      <td>1793624</td>\n",
       "      <td>812307</td>\n",
       "      <td>1656087</td>\n",
       "      <td>-10.153831</td>\n",
       "      <td>1449411</td>\n",
       "      <td>False</td>\n",
       "      <td>False</td>\n",
       "      <td>False</td>\n",
       "    </tr>\n",
       "    <tr>\n",
       "      <th>jcf7190000000004-54349</th>\n",
       "      <td>4</td>\n",
       "      <td>4</td>\n",
       "      <td>-0.023427</td>\n",
       "      <td>0.155455</td>\n",
       "      <td>-9.021264</td>\n",
       "      <td>-0.001428</td>\n",
       "      <td>0.013948</td>\n",
       "      <td>0.036945</td>\n",
       "      <td>TD</td>\n",
       "      <td>4</td>\n",
       "      <td>4</td>\n",
       "      <td>-0.026734</td>\n",
       "      <td>0.151148</td>\n",
       "      <td>-8.957126</td>\n",
       "      <td>-0.001636</td>\n",
       "      <td>0.012663</td>\n",
       "      <td>0.047118</td>\n",
       "      <td>TD</td>\n",
       "      <td>4</td>\n",
       "      <td>4</td>\n",
       "      <td>-0.052227</td>\n",
       "      <td>0.157254</td>\n",
       "      <td>-8.534846</td>\n",
       "      <td>-0.003907</td>\n",
       "      <td>0.013345</td>\n",
       "      <td>0.113667</td>\n",
       "      <td>TD</td>\n",
       "      <td>4</td>\n",
       "      <td>4</td>\n",
       "      <td>-0.040222</td>\n",
       "      <td>0.152545</td>\n",
       "      <td>-8.846310</td>\n",
       "      <td>-0.003247</td>\n",
       "      <td>0.013500</td>\n",
       "      <td>0.091550</td>\n",
       "      <td>TD</td>\n",
       "      <td>4</td>\n",
       "      <td>4</td>\n",
       "      <td>-0.039127</td>\n",
       "      <td>0.151927</td>\n",
       "      <td>-8.796077</td>\n",
       "      <td>-0.002524</td>\n",
       "      <td>0.013170</td>\n",
       "      <td>0.071590</td>\n",
       "      <td>TD</td>\n",
       "      <td>1037995</td>\n",
       "      <td>1017834</td>\n",
       "      <td>899958</td>\n",
       "      <td>985369</td>\n",
       "      <td>970524</td>\n",
       "      <td>-8.831124</td>\n",
       "      <td>984157</td>\n",
       "      <td>False</td>\n",
       "      <td>False</td>\n",
       "      <td>False</td>\n",
       "    </tr>\n",
       "    <tr>\n",
       "      <th>jcf7190000000004-54418</th>\n",
       "      <td>4</td>\n",
       "      <td>5</td>\n",
       "      <td>0.013142</td>\n",
       "      <td>0.147181</td>\n",
       "      <td>-9.951214</td>\n",
       "      <td>0.001480</td>\n",
       "      <td>0.011861</td>\n",
       "      <td>0.045421</td>\n",
       "      <td>TD</td>\n",
       "      <td>4</td>\n",
       "      <td>5</td>\n",
       "      <td>0.016755</td>\n",
       "      <td>0.144423</td>\n",
       "      <td>-10.010763</td>\n",
       "      <td>0.001684</td>\n",
       "      <td>0.011543</td>\n",
       "      <td>0.053554</td>\n",
       "      <td>TD</td>\n",
       "      <td>4</td>\n",
       "      <td>5</td>\n",
       "      <td>0.023325</td>\n",
       "      <td>0.146342</td>\n",
       "      <td>-9.669352</td>\n",
       "      <td>0.002277</td>\n",
       "      <td>0.011938</td>\n",
       "      <td>0.071217</td>\n",
       "      <td>TD</td>\n",
       "      <td>4</td>\n",
       "      <td>5</td>\n",
       "      <td>0.012571</td>\n",
       "      <td>0.142582</td>\n",
       "      <td>-9.976030</td>\n",
       "      <td>0.001147</td>\n",
       "      <td>0.011084</td>\n",
       "      <td>0.037353</td>\n",
       "      <td>TD</td>\n",
       "      <td>4</td>\n",
       "      <td>5</td>\n",
       "      <td>0.025307</td>\n",
       "      <td>0.142697</td>\n",
       "      <td>-9.822204</td>\n",
       "      <td>0.002523</td>\n",
       "      <td>0.011318</td>\n",
       "      <td>0.084299</td>\n",
       "      <td>TD</td>\n",
       "      <td>1366974</td>\n",
       "      <td>1388637</td>\n",
       "      <td>1263021</td>\n",
       "      <td>1376490</td>\n",
       "      <td>1319054</td>\n",
       "      <td>-9.885913</td>\n",
       "      <td>1351855</td>\n",
       "      <td>False</td>\n",
       "      <td>False</td>\n",
       "      <td>False</td>\n",
       "    </tr>\n",
       "  </tbody>\n",
       "</table>\n",
       "</div>"
      ],
      "text/plain": [
       "                        chain_1-COVARIABLE  chain_1-MRK  chain_1-M_Pearson  \\\n",
       "                                                                             \n",
       "jcf7190000000000-77657                   4            1           0.034660   \n",
       "jcf7190000000000-77738                   4            2           0.020496   \n",
       "jcf7190000000000-77764                   4            3          -0.001886   \n",
       "jcf7190000000004-54349                   4            4          -0.023427   \n",
       "jcf7190000000004-54418                   4            5           0.013142   \n",
       "\n",
       "                        chain_1-SD_Pearson  chain_1-BF(dB)  chain_1-Beta_is  \\\n",
       "                                                                              \n",
       "jcf7190000000000-77657            0.165297      -10.378312         0.001833   \n",
       "jcf7190000000000-77738            0.159772      -10.502435         0.001284   \n",
       "jcf7190000000000-77764            0.147309      -10.229244         0.000522   \n",
       "jcf7190000000004-54349            0.155455       -9.021264        -0.001428   \n",
       "jcf7190000000004-54418            0.147181       -9.951214         0.001480   \n",
       "\n",
       "                        chain_1-SD_Beta_is  chain_1-eBPis chain_1-env  \\\n",
       "                                                                        \n",
       "jcf7190000000000-77657            0.008062       0.086129          TD   \n",
       "jcf7190000000000-77738            0.009312       0.050434          TD   \n",
       "jcf7190000000000-77764            0.010918       0.016893          TD   \n",
       "jcf7190000000004-54349            0.013948       0.036945          TD   \n",
       "jcf7190000000004-54418            0.011861       0.045421          TD   \n",
       "\n",
       "                        chain_2-COVARIABLE  chain_2-MRK  chain_2-M_Pearson  \\\n",
       "                                                                             \n",
       "jcf7190000000000-77657                   4            1           0.035380   \n",
       "jcf7190000000000-77738                   4            2           0.006646   \n",
       "jcf7190000000000-77764                   4            3          -0.024360   \n",
       "jcf7190000000004-54349                   4            4          -0.026734   \n",
       "jcf7190000000004-54418                   4            5           0.016755   \n",
       "\n",
       "                        chain_2-SD_Pearson  chain_2-BF(dB)  chain_2-Beta_is  \\\n",
       "                                                                              \n",
       "jcf7190000000000-77657            0.161458      -10.681736         0.001809   \n",
       "jcf7190000000000-77738            0.159149      -10.942311         0.000192   \n",
       "jcf7190000000000-77764            0.141678      -10.328502        -0.001345   \n",
       "jcf7190000000004-54349            0.151148       -8.957126        -0.001636   \n",
       "jcf7190000000004-54418            0.144423      -10.010763         0.001684   \n",
       "\n",
       "                        chain_2-SD_Beta_is  chain_2-eBPis chain_2-env  \\\n",
       "                                                                        \n",
       "jcf7190000000000-77657            0.007363       0.093732          TD   \n",
       "jcf7190000000000-77738            0.008839       0.007594          TD   \n",
       "jcf7190000000000-77764            0.011004       0.044457          TD   \n",
       "jcf7190000000004-54349            0.012663       0.047118          TD   \n",
       "jcf7190000000004-54418            0.011543       0.053554          TD   \n",
       "\n",
       "                        chain_3-COVARIABLE  chain_3-MRK  chain_3-M_Pearson  \\\n",
       "                                                                             \n",
       "jcf7190000000000-77657                   4            1           0.040824   \n",
       "jcf7190000000000-77738                   4            2           0.028214   \n",
       "jcf7190000000000-77764                   4            3          -0.023076   \n",
       "jcf7190000000004-54349                   4            4          -0.052227   \n",
       "jcf7190000000004-54418                   4            5           0.023325   \n",
       "\n",
       "                        chain_3-SD_Pearson  chain_3-BF(dB)  chain_3-Beta_is  \\\n",
       "                                                                              \n",
       "jcf7190000000000-77657            0.161570      -10.663476         0.002044   \n",
       "jcf7190000000000-77738            0.157353      -10.293698         0.001954   \n",
       "jcf7190000000000-77764            0.153027      -11.256412        -0.000764   \n",
       "jcf7190000000004-54349            0.157254       -8.534846        -0.003907   \n",
       "jcf7190000000004-54418            0.146342       -9.669352         0.002277   \n",
       "\n",
       "                        chain_3-SD_Beta_is  chain_3-eBPis chain_3-env  \\\n",
       "                                                                        \n",
       "jcf7190000000000-77657            0.007595       0.103535          TD   \n",
       "jcf7190000000000-77738            0.009640       0.076062          TD   \n",
       "jcf7190000000000-77764            0.008232       0.033374          TD   \n",
       "jcf7190000000004-54349            0.013345       0.113667          TD   \n",
       "jcf7190000000004-54418            0.011938       0.071217          TD   \n",
       "\n",
       "                        chain_4-COVARIABLE  chain_4-MRK  chain_4-M_Pearson  \\\n",
       "                                                                             \n",
       "jcf7190000000000-77657                   4            1           0.043133   \n",
       "jcf7190000000000-77738                   4            2           0.022589   \n",
       "jcf7190000000000-77764                   4            3          -0.006895   \n",
       "jcf7190000000004-54349                   4            4          -0.040222   \n",
       "jcf7190000000004-54418                   4            5           0.012571   \n",
       "\n",
       "                        chain_4-SD_Pearson  chain_4-BF(dB)  chain_4-Beta_is  \\\n",
       "                                                                              \n",
       "jcf7190000000000-77657            0.162449      -10.405035         0.002330   \n",
       "jcf7190000000000-77738            0.160299      -10.362645         0.001467   \n",
       "jcf7190000000000-77764            0.157198       -8.158876        -0.000087   \n",
       "jcf7190000000004-54349            0.152545       -8.846310        -0.003247   \n",
       "jcf7190000000004-54418            0.142582       -9.976030         0.001147   \n",
       "\n",
       "                        chain_4-SD_Beta_is  chain_4-eBPis chain_4-env  \\\n",
       "                                                                        \n",
       "jcf7190000000000-77657            0.007789       0.116406          TD   \n",
       "jcf7190000000000-77738            0.008903       0.060935          TD   \n",
       "jcf7190000000000-77764            0.010381       0.002914          TD   \n",
       "jcf7190000000004-54349            0.013500       0.091550          TD   \n",
       "jcf7190000000004-54418            0.011084       0.037353          TD   \n",
       "\n",
       "                        chain_5-COVARIABLE  chain_5-MRK  chain_5-M_Pearson  \\\n",
       "                                                                             \n",
       "jcf7190000000000-77657                   4            1           0.042982   \n",
       "jcf7190000000000-77738                   4            2           0.010393   \n",
       "jcf7190000000000-77764                   4            3          -0.009343   \n",
       "jcf7190000000004-54349                   4            4          -0.039127   \n",
       "jcf7190000000004-54418                   4            5           0.025307   \n",
       "\n",
       "                        chain_5-SD_Pearson  chain_5-BF(dB)  chain_5-Beta_is  \\\n",
       "                                                                              \n",
       "jcf7190000000000-77657            0.160099      -11.278196         0.002084   \n",
       "jcf7190000000000-77738            0.162525      -10.662278         0.000569   \n",
       "jcf7190000000000-77764            0.143585      -10.796119        -0.000019   \n",
       "jcf7190000000004-54349            0.151927       -8.796077        -0.002524   \n",
       "jcf7190000000004-54418            0.142697       -9.822204         0.002523   \n",
       "\n",
       "                        chain_5-SD_Beta_is  chain_5-eBPis chain_5-env  \\\n",
       "                                                                        \n",
       "jcf7190000000000-77657            0.007536       0.106712          TD   \n",
       "jcf7190000000000-77738            0.009297       0.021723          TD   \n",
       "jcf7190000000000-77764            0.009494       0.000705          TD   \n",
       "jcf7190000000004-54349            0.013170       0.071590          TD   \n",
       "jcf7190000000004-54418            0.011318       0.084299          TD   \n",
       "\n",
       "                        rank_chain_1-BF  rank_chain_2-BF  rank_chain_3-BF  \\\n",
       "                                                                            \n",
       "jcf7190000000000-77657          1519047          1619430          1614087   \n",
       "jcf7190000000000-77738          1560756          1700840          1489683   \n",
       "jcf7190000000000-77764          1467199          1501316          1793624   \n",
       "jcf7190000000004-54349          1037995          1017834           899958   \n",
       "jcf7190000000004-54418          1366974          1388637          1263021   \n",
       "\n",
       "                        rank_chain_4-BF  rank_chain_5-BF  mean_BF(dB)  \\\n",
       "                                                                        \n",
       "jcf7190000000000-77657          1528133          1799204   -10.681351   \n",
       "jcf7190000000000-77738          1513644          1613762   -10.552673   \n",
       "jcf7190000000000-77764           812307          1656087   -10.153831   \n",
       "jcf7190000000004-54349           985369           970524    -8.831124   \n",
       "jcf7190000000004-54418          1376490          1319054    -9.885913   \n",
       "\n",
       "                        rank_mean_BF(dB)  BF(dB)_gte20_for-gte3chains  \\\n",
       "                                                                        \n",
       "jcf7190000000000-77657           1628408                        False   \n",
       "jcf7190000000000-77738           1586450                        False   \n",
       "jcf7190000000000-77764           1449411                        False   \n",
       "jcf7190000000004-54349            984157                        False   \n",
       "jcf7190000000004-54418           1351855                        False   \n",
       "\n",
       "                        BF(dB)_gte15_for-gte3chains  \\\n",
       "                                                      \n",
       "jcf7190000000000-77657                        False   \n",
       "jcf7190000000000-77738                        False   \n",
       "jcf7190000000000-77764                        False   \n",
       "jcf7190000000004-54349                        False   \n",
       "jcf7190000000004-54418                        False   \n",
       "\n",
       "                        rank_consistency_top1perc_for-gte3chains  \n",
       "                                                                  \n",
       "jcf7190000000000-77657                                     False  \n",
       "jcf7190000000000-77738                                     False  \n",
       "jcf7190000000000-77764                                     False  \n",
       "jcf7190000000004-54349                                     False  \n",
       "jcf7190000000004-54418                                     False  "
      ]
     },
     "execution_count": 26,
     "metadata": {},
     "output_type": "execute_result"
    }
   ],
   "source": [
    "# add column for rank consistency (True if SNP is ranked in top 1% for >= 3 chains)\n",
    "# also add a column for mean_BF >= 20\n",
    "for env,df in envdfs.items():\n",
    "    oneperc = math.ceil(0.01*nrow(df))\n",
    "    rankcols = [col for col in df if 'rank_chain' in col]\n",
    "    envdfs[env]['rank_consistency_top1perc_for-gte3chains'] = (df[rankcols] < oneperc).sum(axis=1) >= 3\n",
    "envdfs[env].head()"
   ]
  },
  {
   "cell_type": "code",
   "execution_count": 27,
   "metadata": {},
   "outputs": [
    {
     "name": "stderr",
     "output_type": "stream",
     "text": [
      "eFFP: 100%|██████████| 55/55 [00:03<00:00, 15.15it/s]\n",
      "AHM: 100%|██████████| 55/55 [00:03<00:00, 14.86it/s]\n",
      "FFP: 100%|██████████| 55/55 [00:03<00:00, 15.31it/s]\n",
      "MWMT: 100%|██████████| 55/55 [00:03<00:00, 15.22it/s]\n",
      "Eref: 100%|██████████| 55/55 [00:03<00:00, 15.44it/s]\n",
      "EMT: 100%|██████████| 55/55 [00:03<00:00, 15.10it/s]\n",
      "MAT: 100%|██████████| 55/55 [00:03<00:00, 15.34it/s]\n",
      "MSP: 100%|██████████| 55/55 [00:03<00:00, 15.43it/s]\n",
      "MAP: 100%|██████████| 55/55 [00:03<00:00, 15.45it/s]\n",
      "SHM: 100%|██████████| 55/55 [00:03<00:00, 15.39it/s]\n",
      "PAS: 100%|██████████| 55/55 [00:03<00:00, 15.18it/s]\n",
      "EXT: 100%|██████████| 55/55 [00:03<00:00, 14.93it/s]\n",
      "NFFD: 100%|██████████| 55/55 [00:03<00:00, 15.28it/s]\n",
      "DD_0: 100%|██████████| 55/55 [00:03<00:00, 15.42it/s]\n",
      "bFFP: 100%|██████████| 55/55 [00:03<00:00, 15.16it/s]\n",
      "CMD: 100%|██████████| 55/55 [00:03<00:00, 15.12it/s]\n",
      "DD5: 100%|██████████| 55/55 [00:03<00:00, 14.92it/s]\n",
      "MCMT: 100%|██████████| 55/55 [00:03<00:00, 15.27it/s]\n",
      "TD: 100%|██████████| 55/55 [00:03<00:00, 15.46it/s]\n"
     ]
    }
   ],
   "source": [
    "# make sure that there are no ranks repeated\n",
    "for env,df in envdfs.items():\n",
    "    for col in nb(df.columns, desc=env):\n",
    "        if col.startswith('rank') and 'consistency' not in col:\n",
    "            assert nrow(df) == luni(df[col])"
   ]
  },
  {
   "cell_type": "code",
   "execution_count": 28,
   "metadata": {},
   "outputs": [],
   "source": [
    "def write_file(df, file, sep='\\t', index=False):\n",
    "    import pandas\n",
    "    df['locus'] = df.index.tolist()\n",
    "    df = df[['locus'] + [col for col in df.columns if col != 'locus']]\n",
    "    df.to_csv(file, sep=sep, index=index)\n",
    "    return file"
   ]
  },
  {
   "cell_type": "code",
   "execution_count": 29,
   "metadata": {},
   "outputs": [
    {
     "data": {
      "text/plain": [
       "'/lu213/brandon.lind/projects/pool_seq/DF_datasets/DF_pooled_GEA/DF_pooled/snpsANDindels/interior_variety_without-p6/03_maf-p05_RD-recalculated_FDI/baypass/final_results'"
      ]
     },
     "execution_count": 29,
     "metadata": {},
     "output_type": "execute_result"
    }
   ],
   "source": [
    "finaldir = makedir(op.join(baydir, 'final_results'))\n",
    "finaldir"
   ]
  },
  {
   "cell_type": "code",
   "execution_count": 30,
   "metadata": {},
   "outputs": [
    {
     "name": "stderr",
     "output_type": "stream",
     "text": [
      "100%|██████████| 19/19 [00:53<00:00,  2.82s/it]\n"
     ]
    },
    {
     "name": "stdout",
     "output_type": "stream",
     "text": [
      "\u001b[1m\n",
      "Watching 19 final jobs ...\u001b[0m\n"
     ]
    },
    {
     "name": "stderr",
     "output_type": "stream",
     "text": [
      "final: 100%|██████████| 19/19 [01:56<00:00,  6.13s/it]\n"
     ]
    }
   ],
   "source": [
    "# save files - overwrite previous saved files that included newREPEATS\n",
    "jobs = []\n",
    "for env,df in nb(envdfs.items()):\n",
    "    file = op.join(finaldir, f'interior_maf-p05_RD-recalculated_ADP-lt-1000_{env}.txt')\n",
    "    jobs.append(lview.apply_async(write_file, *(df, file)))\n",
    "watch_async(jobs, phase='final')"
   ]
  },
  {
   "cell_type": "code",
   "execution_count": 31,
   "metadata": {},
   "outputs": [
    {
     "data": {
      "text/plain": [
       "'/lu213/brandon.lind/projects/pool_seq/DF_datasets/DF_pooled_GEA/DF_pooled/snpsANDindels/interior_variety_without-p6/03_maf-p05_RD-recalculated_FDI/baypass/final_results/envdfs_after_ranking.pkl'"
      ]
     },
     "execution_count": 31,
     "metadata": {},
     "output_type": "execute_result"
    }
   ],
   "source": [
    "op.join(op.join(baydir, 'final_results'), 'envdfs_after_ranking.pkl')"
   ]
  },
  {
   "cell_type": "code",
   "execution_count": 32,
   "metadata": {},
   "outputs": [],
   "source": [
    "# save pkl for easy loading\n",
    "pkldump(envdfs, op.join(finaldir, 'envdfs_after_ranking.pkl'))"
   ]
  },
  {
   "cell_type": "code",
   "execution_count": 33,
   "metadata": {},
   "outputs": [
    {
     "name": "stdout",
     "output_type": "stream",
     "text": [
      "\u001b[95m\u001b[1mInterior\n",
      "\u001b[0m\u001b[0m\n",
      "Env   BFConsistent20  BFConsistent15  BFMean20\t  BFMean15   BFMean13  \tRankConsistent\n",
      "AHM \t 1780 \t\t 2174 \t\t 1793 \t    2241 \t 2628 \t 18750\n",
      "CMD \t 1221 \t\t 1578 \t\t 1234 \t    1615 \t 1873 \t 18426\n",
      "DD5 \t 171 \t\t 636 \t\t 185 \t    694 \t 1148 \t 20043\n",
      "DD_0 \t 487 \t\t 1552 \t\t 530 \t    1692 \t 2797 \t 21152\n",
      "EMT \t 615 \t\t 2169 \t\t 686 \t    2379 \t 3846 \t 21217\n",
      "EXT \t 257 \t\t 935 \t\t 288 \t    1033 \t 1772 \t 20415\n",
      "Eref \t 358 \t\t 1183 \t\t 387 \t    1299 \t 2187 \t 20778\n",
      "FFP \t 97 \t\t 281 \t\t 102 \t    318 \t 580 \t 18749\n",
      "MAP \t 1675 \t\t 2264 \t\t 1709 \t    2353 \t 2855 \t 18601\n",
      "MAT \t 278 \t\t 950 \t\t 313 \t    1026 \t 1734 \t 20655\n",
      "MCMT \t 1116 \t\t 3495 \t\t 1207 \t    3774 \t 5940 \t 21870\n",
      "MSP \t 1081 \t\t 1551 \t\t 1107 \t    1605 \t 1968 \t 17594\n",
      "MWMT \t 203 \t\t 748 \t\t 237 \t    843 \t 1468 \t 20028\n",
      "NFFD \t 130 \t\t 473 \t\t 146 \t    529 \t 941 \t 19632\n",
      "PAS \t 1347 \t\t 1765 \t\t 1377 \t    1822 \t 2175 \t 18367\n",
      "SHM \t 1417 \t\t 1769 \t\t 1431 \t    1814 \t 2141 \t 18814\n",
      "TD \t 1188 \t\t 3795 \t\t 1297 \t    4153 \t 6685 \t 20765\n",
      "bFFP \t 103 \t\t 339 \t\t 105 \t    389 \t 709 \t 18863\n",
      "eFFP \t 85 \t\t 313 \t\t 94 \t    369 \t 672 \t 19159\n"
     ]
    }
   ],
   "source": [
    "# print table with outliers based on several criteria\n",
    "print(ColorText('Interior\\n').bold().purple())\n",
    "print('Env   BFConsistent20  BFConsistent15  BFMean20\\t  BFMean15   BFMean13  \\tRankConsistent')\n",
    "for env in sorted(envdfs.keys()):\n",
    "    df = envdfs[env]\n",
    "    print(env,\n",
    "          '\\t',sum(df['BF(dB)_gte20_for-gte3chains']),\n",
    "          '\\t\\t',sum(df['BF(dB)_gte15_for-gte3chains']),\n",
    "          '\\t\\t',sum(df['mean_BF(dB)']>=20),\n",
    "          '\\t   ',sum(df['mean_BF(dB)']>=15),\n",
    "          '\\t',sum(df['mean_BF(dB)']>=13),\n",
    "          '\\t', sum(df['rank_consistency_top1perc_for-gte3chains']))"
   ]
  },
  {
   "cell_type": "code",
   "execution_count": 34,
   "metadata": {},
   "outputs": [
    {
     "data": {
      "text/plain": [
       "24833.82"
      ]
     },
     "execution_count": 34,
     "metadata": {},
     "output_type": "execute_result"
    }
   ],
   "source": [
    "# what should I expect for the number in top 1%?\n",
    "0.01*nrow(df)"
   ]
  },
  {
   "cell_type": "markdown",
   "metadata": {},
   "source": [
    "<a id='consistent'></a>\n",
    "# look at BF scores for consistent top 1% ranks\n",
    "\n",
    "[top](#home)"
   ]
  },
  {
   "cell_type": "code",
   "execution_count": 6,
   "metadata": {},
   "outputs": [],
   "source": [
    "# reload data\n",
    "finaldir = op.join(baydir, 'final_results')\n",
    "envdfs = pklload(op.join(finaldir, 'envdfs_after_ranking.pkl'))"
   ]
  },
  {
   "cell_type": "code",
   "execution_count": 35,
   "metadata": {
    "scrolled": false
   },
   "outputs": [
    {
     "name": "stdout",
     "output_type": "stream",
     "text": [
      "\u001b[1meFFP\u001b[0m 19159\n",
      "\tnumber of loci with meanBF >= 0 :  19149 (False)\n",
      "\tnumber of loci with meanBF >= 10 :  1617\n",
      "\tnumber of loci with meanBF >= 15 :  369\n",
      "\tnumber of loci with meanBF >= 20 :  94\n",
      "\tfraction of BF >= 15 :  0.02\n",
      "\tfraction of BF >= 10 :  0.08\n"
     ]
    },
    {
     "data": {
      "image/png": "[encoded data removed]",
      "text/plain": [
       "<Figure size 432x288 with 1 Axes>"
      ]
     },
     "metadata": {
      "needs_background": "light"
     },
     "output_type": "display_data"
    },
    {
     "name": "stdout",
     "output_type": "stream",
     "text": [
      "\n",
      "\n",
      "\u001b[1mAHM\u001b[0m 18750\n",
      "\tnumber of loci with meanBF >= 0 :  18741 (False)\n",
      "\tnumber of loci with meanBF >= 10 :  3883\n",
      "\tnumber of loci with meanBF >= 15 :  2241\n",
      "\tnumber of loci with meanBF >= 20 :  1793\n",
      "\tfraction of BF >= 15 :  0.12\n",
      "\tfraction of BF >= 10 :  0.21\n"
     ]
    },
    {
     "data": {
      "image/png": "[encoded data removed]",
      "text/plain": [
       "<Figure size 432x288 with 1 Axes>"
      ]
     },
     "metadata": {
      "needs_background": "light"
     },
     "output_type": "display_data"
    },
    {
     "name": "stdout",
     "output_type": "stream",
     "text": [
      "\n",
      "\n",
      "\u001b[1mFFP\u001b[0m 18749\n",
      "\tnumber of loci with meanBF >= 0 :  18727 (False)\n",
      "\tnumber of loci with meanBF >= 10 :  1423\n",
      "\tnumber of loci with meanBF >= 15 :  318\n",
      "\tnumber of loci with meanBF >= 20 :  102\n",
      "\tfraction of BF >= 15 :  0.02\n",
      "\tfraction of BF >= 10 :  0.08\n"
     ]
    },
    {
     "data": {
      "image/png": "[encoded data removed]",
      "text/plain": [
       "<Figure size 432x288 with 1 Axes>"
      ]
     },
     "metadata": {
      "needs_background": "light"
     },
     "output_type": "display_data"
    },
    {
     "name": "stdout",
     "output_type": "stream",
     "text": [
      "\n",
      "\n",
      "\u001b[1mMWMT\u001b[0m 20028\n",
      "\tnumber of loci with meanBF >= 0 :  20028 (True)\n",
      "\tnumber of loci with meanBF >= 10 :  3342\n",
      "\tnumber of loci with meanBF >= 15 :  843\n",
      "\tnumber of loci with meanBF >= 20 :  237\n",
      "\tfraction of BF >= 15 :  0.04\n",
      "\tfraction of BF >= 10 :  0.17\n"
     ]
    },
    {
     "data": {
      "image/png": "[encoded data removed]",
      "text/plain": [
       "<Figure size 432x288 with 1 Axes>"
      ]
     },
     "metadata": {
      "needs_background": "light"
     },
     "output_type": "display_data"
    },
    {
     "name": "stdout",
     "output_type": "stream",
     "text": [
      "\n",
      "\n",
      "\u001b[1mEref\u001b[0m 20778\n",
      "\tnumber of loci with meanBF >= 0 :  20778 (True)\n",
      "\tnumber of loci with meanBF >= 10 :  4840\n",
      "\tnumber of loci with meanBF >= 15 :  1299\n",
      "\tnumber of loci with meanBF >= 20 :  387\n",
      "\tfraction of BF >= 15 :  0.06\n",
      "\tfraction of BF >= 10 :  0.23\n"
     ]
    },
    {
     "data": {
      "image/png": "[encoded data removed]",
      "text/plain": [
       "<Figure size 432x288 with 1 Axes>"
      ]
     },
     "metadata": {
      "needs_background": "light"
     },
     "output_type": "display_data"
    },
    {
     "name": "stdout",
     "output_type": "stream",
     "text": [
      "\n",
      "\n",
      "\u001b[1mEMT\u001b[0m 21217\n",
      "\tnumber of loci with meanBF >= 0 :  21217 (True)\n",
      "\tnumber of loci with meanBF >= 10 :  8097\n",
      "\tnumber of loci with meanBF >= 15 :  2379\n",
      "\tnumber of loci with meanBF >= 20 :  686\n",
      "\tfraction of BF >= 15 :  0.11\n",
      "\tfraction of BF >= 10 :  0.38\n"
     ]
    },
    {
     "data": {
      "image/png": "[encoded data removed]",
      "text/plain": [
       "<Figure size 432x288 with 1 Axes>"
      ]
     },
     "metadata": {
      "needs_background": "light"
     },
     "output_type": "display_data"
    },
    {
     "name": "stdout",
     "output_type": "stream",
     "text": [
      "\n",
      "\n",
      "\u001b[1mMAT\u001b[0m 20655\n",
      "\tnumber of loci with meanBF >= 0 :  20655 (True)\n",
      "\tnumber of loci with meanBF >= 10 :  3850\n",
      "\tnumber of loci with meanBF >= 15 :  1026\n",
      "\tnumber of loci with meanBF >= 20 :  313\n",
      "\tfraction of BF >= 15 :  0.05\n",
      "\tfraction of BF >= 10 :  0.19\n"
     ]
    },
    {
     "data": {
      "image/png": "[encoded data removed]",
      "text/plain": [
       "<Figure size 432x288 with 1 Axes>"
      ]
     },
     "metadata": {
      "needs_background": "light"
     },
     "output_type": "display_data"
    },
    {
     "name": "stdout",
     "output_type": "stream",
     "text": [
      "\n",
      "\n",
      "\u001b[1mMSP\u001b[0m 17594\n",
      "\tnumber of loci with meanBF >= 0 :  17511 (False)\n",
      "\tnumber of loci with meanBF >= 10 :  2793\n",
      "\tnumber of loci with meanBF >= 15 :  1605\n",
      "\tnumber of loci with meanBF >= 20 :  1107\n",
      "\tfraction of BF >= 15 :  0.09\n",
      "\tfraction of BF >= 10 :  0.16\n"
     ]
    },
    {
     "data": {
      "image/png": "[encoded data removed]",
      "text/plain": [
       "<Figure size 432x288 with 1 Axes>"
      ]
     },
     "metadata": {
      "needs_background": "light"
     },
     "output_type": "display_data"
    },
    {
     "name": "stdout",
     "output_type": "stream",
     "text": [
      "\n",
      "\n",
      "\u001b[1mMAP\u001b[0m 18601\n",
      "\tnumber of loci with meanBF >= 0 :  18600 (False)\n",
      "\tnumber of loci with meanBF >= 10 :  4345\n",
      "\tnumber of loci with meanBF >= 15 :  2353\n",
      "\tnumber of loci with meanBF >= 20 :  1709\n",
      "\tfraction of BF >= 15 :  0.13\n",
      "\tfraction of BF >= 10 :  0.23\n"
     ]
    },
    {
     "data": {
      "image/png": "[encoded data removed]",
      "text/plain": [
       "<Figure size 432x288 with 1 Axes>"
      ]
     },
     "metadata": {
      "needs_background": "light"
     },
     "output_type": "display_data"
    },
    {
     "name": "stdout",
     "output_type": "stream",
     "text": [
      "\n",
      "\n",
      "\u001b[1mSHM\u001b[0m 18814\n",
      "\tnumber of loci with meanBF >= 0 :  18769 (False)\n",
      "\tnumber of loci with meanBF >= 10 :  3040\n",
      "\tnumber of loci with meanBF >= 15 :  1814\n",
      "\tnumber of loci with meanBF >= 20 :  1431\n",
      "\tfraction of BF >= 15 :  0.1\n",
      "\tfraction of BF >= 10 :  0.16\n"
     ]
    },
    {
     "data": {
      "image/png": "[encoded data removed]",
      "text/plain": [
       "<Figure size 432x288 with 1 Axes>"
      ]
     },
     "metadata": {
      "needs_background": "light"
     },
     "output_type": "display_data"
    },
    {
     "name": "stdout",
     "output_type": "stream",
     "text": [
      "\n",
      "\n",
      "\u001b[1mPAS\u001b[0m 18367\n",
      "\tnumber of loci with meanBF >= 0 :  18350 (False)\n",
      "\tnumber of loci with meanBF >= 10 :  3154\n",
      "\tnumber of loci with meanBF >= 15 :  1822\n",
      "\tnumber of loci with meanBF >= 20 :  1377\n",
      "\tfraction of BF >= 15 :  0.1\n",
      "\tfraction of BF >= 10 :  0.17\n"
     ]
    },
    {
     "data": {
      "image/png": "[encoded data removed]",
      "text/plain": [
       "<Figure size 432x288 with 1 Axes>"
      ]
     },
     "metadata": {
      "needs_background": "light"
     },
     "output_type": "display_data"
    },
    {
     "name": "stdout",
     "output_type": "stream",
     "text": [
      "\n",
      "\n",
      "\u001b[1mEXT\u001b[0m 20415\n",
      "\tnumber of loci with meanBF >= 0 :  20415 (True)\n",
      "\tnumber of loci with meanBF >= 10 :  3998\n",
      "\tnumber of loci with meanBF >= 15 :  1033\n",
      "\tnumber of loci with meanBF >= 20 :  288\n",
      "\tfraction of BF >= 15 :  0.05\n",
      "\tfraction of BF >= 10 :  0.2\n"
     ]
    },
    {
     "data": {
      "image/png": "[encoded data removed]",
      "text/plain": [
       "<Figure size 432x288 with 1 Axes>"
      ]
     },
     "metadata": {
      "needs_background": "light"
     },
     "output_type": "display_data"
    },
    {
     "name": "stdout",
     "output_type": "stream",
     "text": [
      "\n",
      "\n",
      "\u001b[1mNFFD\u001b[0m 19632\n",
      "\tnumber of loci with meanBF >= 0 :  19630 (False)\n",
      "\tnumber of loci with meanBF >= 10 :  2157\n",
      "\tnumber of loci with meanBF >= 15 :  529\n",
      "\tnumber of loci with meanBF >= 20 :  146\n",
      "\tfraction of BF >= 15 :  0.03\n",
      "\tfraction of BF >= 10 :  0.11\n"
     ]
    },
    {
     "data": {
      "image/png": "[encoded data removed]",
      "text/plain": [
       "<Figure size 432x288 with 1 Axes>"
      ]
     },
     "metadata": {
      "needs_background": "light"
     },
     "output_type": "display_data"
    },
    {
     "name": "stdout",
     "output_type": "stream",
     "text": [
      "\n",
      "\n",
      "\u001b[1mDD_0\u001b[0m 21152\n",
      "\tnumber of loci with meanBF >= 0 :  21152 (True)\n",
      "\tnumber of loci with meanBF >= 10 :  5934\n",
      "\tnumber of loci with meanBF >= 15 :  1692\n",
      "\tnumber of loci with meanBF >= 20 :  530\n",
      "\tfraction of BF >= 15 :  0.08\n",
      "\tfraction of BF >= 10 :  0.28\n"
     ]
    },
    {
     "data": {
      "image/png": "[encoded data removed]",
      "text/plain": [
       "<Figure size 432x288 with 1 Axes>"
      ]
     },
     "metadata": {
      "needs_background": "light"
     },
     "output_type": "display_data"
    },
    {
     "name": "stdout",
     "output_type": "stream",
     "text": [
      "\n",
      "\n",
      "\u001b[1mbFFP\u001b[0m 18863\n",
      "\tnumber of loci with meanBF >= 0 :  18845 (False)\n",
      "\tnumber of loci with meanBF >= 10 :  1620\n",
      "\tnumber of loci with meanBF >= 15 :  389\n",
      "\tnumber of loci with meanBF >= 20 :  105\n",
      "\tfraction of BF >= 15 :  0.02\n",
      "\tfraction of BF >= 10 :  0.09\n"
     ]
    },
    {
     "data": {
      "image/png": "[encoded data removed]",
      "text/plain": [
       "<Figure size 432x288 with 1 Axes>"
      ]
     },
     "metadata": {
      "needs_background": "light"
     },
     "output_type": "display_data"
    },
    {
     "name": "stdout",
     "output_type": "stream",
     "text": [
      "\n",
      "\n",
      "\u001b[1mCMD\u001b[0m 18426\n",
      "\tnumber of loci with meanBF >= 0 :  18343 (False)\n",
      "\tnumber of loci with meanBF >= 10 :  2595\n",
      "\tnumber of loci with meanBF >= 15 :  1615\n",
      "\tnumber of loci with meanBF >= 20 :  1234\n",
      "\tfraction of BF >= 15 :  0.09\n",
      "\tfraction of BF >= 10 :  0.14\n"
     ]
    },
    {
     "data": {
      "image/png": "[encoded data removed]",
      "text/plain": [
       "<Figure size 432x288 with 1 Axes>"
      ]
     },
     "metadata": {
      "needs_background": "light"
     },
     "output_type": "display_data"
    },
    {
     "name": "stdout",
     "output_type": "stream",
     "text": [
      "\n",
      "\n",
      "\u001b[1mDD5\u001b[0m 20043\n",
      "\tnumber of loci with meanBF >= 0 :  20042 (False)\n",
      "\tnumber of loci with meanBF >= 10 :  2625\n",
      "\tnumber of loci with meanBF >= 15 :  694\n",
      "\tnumber of loci with meanBF >= 20 :  185\n",
      "\tfraction of BF >= 15 :  0.03\n",
      "\tfraction of BF >= 10 :  0.13\n"
     ]
    },
    {
     "data": {
      "image/png": "[encoded data removed]",
      "text/plain": [
       "<Figure size 432x288 with 1 Axes>"
      ]
     },
     "metadata": {
      "needs_background": "light"
     },
     "output_type": "display_data"
    },
    {
     "name": "stdout",
     "output_type": "stream",
     "text": [
      "\n",
      "\n",
      "\u001b[1mMCMT\u001b[0m 21870\n",
      "\tnumber of loci with meanBF >= 0 :  21870 (True)\n",
      "\tnumber of loci with meanBF >= 10 :  11747\n",
      "\tnumber of loci with meanBF >= 15 :  3774\n",
      "\tnumber of loci with meanBF >= 20 :  1207\n",
      "\tfraction of BF >= 15 :  0.17\n",
      "\tfraction of BF >= 10 :  0.54\n"
     ]
    },
    {
     "data": {
      "image/png": "[encoded data removed]",
      "text/plain": [
       "<Figure size 432x288 with 1 Axes>"
      ]
     },
     "metadata": {
      "needs_background": "light"
     },
     "output_type": "display_data"
    },
    {
     "name": "stdout",
     "output_type": "stream",
     "text": [
      "\n",
      "\n",
      "\u001b[1mTD\u001b[0m 20765\n",
      "\tnumber of loci with meanBF >= 0 :  20765 (True)\n",
      "\tnumber of loci with meanBF >= 10 :  13335\n",
      "\tnumber of loci with meanBF >= 15 :  4153\n",
      "\tnumber of loci with meanBF >= 20 :  1297\n",
      "\tfraction of BF >= 15 :  0.2\n",
      "\tfraction of BF >= 10 :  0.64\n"
     ]
    },
    {
     "data": {
      "image/png": "[encoded data removed]",
      "text/plain": [
       "<Figure size 432x288 with 1 Axes>"
      ]
     },
     "metadata": {
      "needs_background": "light"
     },
     "output_type": "display_data"
    },
    {
     "name": "stdout",
     "output_type": "stream",
     "text": [
      "\n",
      "\n",
      "\u001b[1m\n",
      "Fraction of meanBF >=15 across envs\u001b[0m\n"
     ]
    },
    {
     "data": {
      "image/png": "[encoded data removed]",
      "text/plain": [
       "<Figure size 432x288 with 1 Axes>"
      ]
     },
     "metadata": {
      "needs_background": "light"
     },
     "output_type": "display_data"
    },
    {
     "data": {
      "text/html": [
       "<div>\n",
       "<style scoped>\n",
       "    .dataframe tbody tr th:only-of-type {\n",
       "        vertical-align: middle;\n",
       "    }\n",
       "\n",
       "    .dataframe tbody tr th {\n",
       "        vertical-align: top;\n",
       "    }\n",
       "\n",
       "    .dataframe thead th {\n",
       "        text-align: right;\n",
       "    }\n",
       "</style>\n",
       "<table border=\"1\" class=\"dataframe\">\n",
       "  <thead>\n",
       "    <tr style=\"text-align: right;\">\n",
       "      <th></th>\n",
       "      <th>eFFP</th>\n",
       "      <th>AHM</th>\n",
       "      <th>FFP</th>\n",
       "      <th>MWMT</th>\n",
       "      <th>Eref</th>\n",
       "      <th>EMT</th>\n",
       "      <th>MAT</th>\n",
       "      <th>MSP</th>\n",
       "      <th>MAP</th>\n",
       "      <th>SHM</th>\n",
       "      <th>PAS</th>\n",
       "      <th>EXT</th>\n",
       "      <th>NFFD</th>\n",
       "      <th>DD_0</th>\n",
       "      <th>bFFP</th>\n",
       "      <th>CMD</th>\n",
       "      <th>DD5</th>\n",
       "      <th>MCMT</th>\n",
       "      <th>TD</th>\n",
       "    </tr>\n",
       "  </thead>\n",
       "  <tbody>\n",
       "    <tr>\n",
       "      <th>0</th>\n",
       "      <td>0.02</td>\n",
       "      <td>0.12</td>\n",
       "      <td>0.02</td>\n",
       "      <td>0.04</td>\n",
       "      <td>0.06</td>\n",
       "      <td>0.11</td>\n",
       "      <td>0.05</td>\n",
       "      <td>0.09</td>\n",
       "      <td>0.13</td>\n",
       "      <td>0.1</td>\n",
       "      <td>0.1</td>\n",
       "      <td>0.05</td>\n",
       "      <td>0.03</td>\n",
       "      <td>0.08</td>\n",
       "      <td>0.02</td>\n",
       "      <td>0.09</td>\n",
       "      <td>0.03</td>\n",
       "      <td>0.17</td>\n",
       "      <td>0.2</td>\n",
       "    </tr>\n",
       "  </tbody>\n",
       "</table>\n",
       "</div>"
      ],
      "text/plain": [
       "   eFFP   AHM   FFP  MWMT  Eref   EMT   MAT   MSP   MAP  SHM  PAS   EXT  NFFD  \\\n",
       "0  0.02  0.12  0.02  0.04  0.06  0.11  0.05  0.09  0.13  0.1  0.1  0.05  0.03   \n",
       "\n",
       "   DD_0  bFFP   CMD   DD5  MCMT   TD  \n",
       "0  0.08  0.02  0.09  0.03  0.17  0.2  "
      ]
     },
     "execution_count": 35,
     "metadata": {},
     "output_type": "execute_result"
    }
   ],
   "source": [
    "# for **ONLY** those loci that are consistently ranked in top 1%\n",
    "# print histograms of bayes factor for each environment\n",
    "# print fraction of top 1%BFs that have BF ≥ 15 or BF ≥ 20\n",
    "# also look at histogram for BFs < 100\n",
    "\n",
    "# also count number of loci across all SNPs that have BF ≥ 15 or BF ≥ 20, print if count doesn't match top 1%\n",
    "fracs = defaultdict(dict)\n",
    "for env,df in envdfs.items():\n",
    "    df = df[df['rank_consistency_top1perc_for-gte3chains'] == True]\n",
    "    BFs = df['mean_BF(dB)']\n",
    "    small15 = sum(BFs >= 15)\n",
    "    small20 = sum(BFs >= 20)\n",
    "    print(ColorText(env).bold(), nrow(df))\n",
    "    print('\\tnumber of loci with meanBF >= 0 : ', sum(BFs >= 0), \"(%s)\" % str(sum(BFs >= 0) == nrow(df)))\n",
    "    print('\\tnumber of loci with meanBF >= 10 : ', sum(BFs >= 10))\n",
    "    print('\\tnumber of loci with meanBF >= 15 : ', small15)\n",
    "    print('\\tnumber of loci with meanBF >= 20 : ', small20)\n",
    "    frac = round(sum(BFs >= 15)/nrow(df), 2)\n",
    "    frac2 = round(sum(BFs >= 10)/nrow(df), 2)\n",
    "    fracs[env][0] = frac\n",
    "    print('\\tfraction of BF >= 15 : ', frac)\n",
    "    print('\\tfraction of BF >= 10 : ', frac2)\n",
    "    sum15 = sum(envdfs[env]['mean_BF(dB)'] >= 15)\n",
    "    sum20 = sum(envdfs[env]['mean_BF(dB)'] >= 20)\n",
    "    if small15 != sum15:\n",
    "        text = '\\tnot all SNPs with BF >= 15 are consistently in top 1%'\n",
    "        print(ColorText(f\"{text} : full ({sum15}) vs 1% ({small15}) (diff = {sum15 - small15})\").warn().bold())\n",
    "    if small20 != sum20:\n",
    "        text = '\\tnot all SNPs with BF >= 20 are consistently in top 1%'\n",
    "        print(ColorText(f\"{text} : full ({sum20}) vs 1% ({small20}) (diff = {sum20 - small20})\").warn().bold())\n",
    "    plt.hist(BFs[BFs<100], bins=100)\n",
    "    plt.title('number of loci with BF < 100')\n",
    "    plt.show()\n",
    "    print('\\n')\n",
    "\n",
    "# create histogram for fraction of SNPs in consistent top 1% across environments\n",
    "print(ColorText('\\nFraction of meanBF >=15 across envs').bold())\n",
    "fracdf = pd.DataFrame(fracs)\n",
    "plt.hist(fracdf.loc[0,:])\n",
    "plt.xlabel('fraction')\n",
    "plt.show()\n",
    "fracdf"
   ]
  },
  {
   "cell_type": "code",
   "execution_count": null,
   "metadata": {},
   "outputs": [],
   "source": []
  },
  {
   "cell_type": "code",
   "execution_count": null,
   "metadata": {},
   "outputs": [],
   "source": []
  },
  {
   "cell_type": "code",
   "execution_count": null,
   "metadata": {},
   "outputs": [],
   "source": []
  },
  {
   "cell_type": "code",
   "execution_count": null,
   "metadata": {},
   "outputs": [],
   "source": []
  },
  {
   "cell_type": "code",
   "execution_count": null,
   "metadata": {},
   "outputs": [],
   "source": []
  },
  {
   "cell_type": "code",
   "execution_count": null,
   "metadata": {},
   "outputs": [],
   "source": []
  },
  {
   "cell_type": "code",
   "execution_count": null,
   "metadata": {},
   "outputs": [],
   "source": []
  },
  {
   "cell_type": "code",
   "execution_count": null,
   "metadata": {},
   "outputs": [],
   "source": []
  },
  {
   "cell_type": "code",
   "execution_count": null,
   "metadata": {},
   "outputs": [],
   "source": []
  },
  {
   "cell_type": "code",
   "execution_count": null,
   "metadata": {},
   "outputs": [],
   "source": []
  },
  {
   "cell_type": "code",
   "execution_count": null,
   "metadata": {},
   "outputs": [],
   "source": []
  },
  {
   "cell_type": "code",
   "execution_count": null,
   "metadata": {},
   "outputs": [],
   "source": []
  },
  {
   "cell_type": "code",
   "execution_count": null,
   "metadata": {},
   "outputs": [],
   "source": []
  },
  {
   "cell_type": "code",
   "execution_count": null,
   "metadata": {},
   "outputs": [],
   "source": []
  },
  {
   "cell_type": "code",
   "execution_count": null,
   "metadata": {},
   "outputs": [],
   "source": []
  },
  {
   "cell_type": "code",
   "execution_count": null,
   "metadata": {},
   "outputs": [],
   "source": []
  },
  {
   "cell_type": "code",
   "execution_count": null,
   "metadata": {},
   "outputs": [],
   "source": []
  },
  {
   "cell_type": "code",
   "execution_count": null,
   "metadata": {},
   "outputs": [],
   "source": []
  },
  {
   "cell_type": "code",
   "execution_count": null,
   "metadata": {},
   "outputs": [],
   "source": []
  },
  {
   "cell_type": "code",
   "execution_count": null,
   "metadata": {},
   "outputs": [],
   "source": []
  },
  {
   "cell_type": "code",
   "execution_count": null,
   "metadata": {},
   "outputs": [],
   "source": []
  },
  {
   "cell_type": "code",
   "execution_count": null,
   "metadata": {},
   "outputs": [],
   "source": []
  }
 ],
 "metadata": {
  "kernelspec": {
   "display_name": "Python 3",
   "language": "python",
   "name": "python3"
  },
  "language_info": {
   "codemirror_mode": {
    "name": "ipython",
    "version": 3
   },
   "file_extension": ".py",
   "mimetype": "text/x-python",
   "name": "python",
   "nbconvert_exporter": "python",
   "pygments_lexer": "ipython3",
   "version": "3.8.5"
  }
 },
 "nbformat": 4,
 "nbformat_minor": 4
}
